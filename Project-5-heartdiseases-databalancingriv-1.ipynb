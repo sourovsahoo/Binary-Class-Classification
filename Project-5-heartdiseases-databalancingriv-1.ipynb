{
 "cells": [
  {
   "cell_type": "raw",
   "metadata": {},
   "source": [
    "Dataset Understanding and data pre analysis:-\n",
    "\n",
    "We have to predict wether the person will have(1,2,3,4) heart disease or not(0).\n",
    "This is a Multiclass classification problem\n",
    "We will use recall as our evaluation metrics.       \n"
   ]
  },
  {
   "cell_type": "raw",
   "metadata": {},
   "source": [
    "We will change this to binary class classification problem where:-\n",
    "Wether the person will have(1,2,3,4) heart disease=1\n",
    "                                  no heart disease=0"
   ]
  },
  {
   "cell_type": "code",
   "execution_count": 1,
   "metadata": {},
   "outputs": [],
   "source": [
    "import numpy as np\n",
    "import pandas as pd\n",
    "import matplotlib.pyplot as plt\n",
    "import warnings\n",
    "warnings.filterwarnings('ignore')\n",
    "import seaborn as sns\n",
    "from sklearn.decomposition import PCA\n",
    "from scipy.stats import zscore\n",
    "from sklearn.preprocessing import PowerTransformer\n",
    "from sklearn.preprocessing import StandardScaler\n",
    "from sklearn.model_selection import train_test_split,cross_val_score\n",
    "\n",
    "from sklearn.neighbors import KNeighborsClassifier\n",
    "from sklearn.svm import SVC\n",
    "from sklearn.linear_model import LogisticRegression\n",
    "from sklearn.tree import DecisionTreeClassifier\n",
    "from sklearn.naive_bayes import GaussianNB\n",
    "from sklearn.ensemble import RandomForestClassifier\n",
    "from xgboost import XGBClassifier\n",
    "from sklearn.ensemble import GradientBoostingClassifier\n",
    "from sklearn.ensemble import AdaBoostClassifier\n",
    "\n",
    "from sklearn.metrics import roc_auc_score,recall_score\n",
    "from sklearn.metrics import classification_report,confusion_matrix,accuracy_score,roc_curve,auc\n",
    "\n",
    "from sklearn.model_selection import GridSearchCV\n",
    "\n",
    "#from mlxtend.classifier import StackingClassifier\n",
    "\n",
    "#from sklearn.externals import joblib"
   ]
  },
  {
   "cell_type": "code",
   "execution_count": 36,
   "metadata": {},
   "outputs": [],
   "source": [
    "df=pd.read_csv('heart.csv')\n",
    "pd.set_option('display.max_columns',None)"
   ]
  },
  {
   "cell_type": "code",
   "execution_count": 37,
   "metadata": {},
   "outputs": [
    {
     "data": {
      "text/html": [
       "<div>\n",
       "<style scoped>\n",
       "    .dataframe tbody tr th:only-of-type {\n",
       "        vertical-align: middle;\n",
       "    }\n",
       "\n",
       "    .dataframe tbody tr th {\n",
       "        vertical-align: top;\n",
       "    }\n",
       "\n",
       "    .dataframe thead th {\n",
       "        text-align: right;\n",
       "    }\n",
       "</style>\n",
       "<table border=\"1\" class=\"dataframe\">\n",
       "  <thead>\n",
       "    <tr style=\"text-align: right;\">\n",
       "      <th></th>\n",
       "      <th>age</th>\n",
       "      <th>sex</th>\n",
       "      <th>cp</th>\n",
       "      <th>trestbps</th>\n",
       "      <th>chol</th>\n",
       "      <th>fbs</th>\n",
       "      <th>restecg</th>\n",
       "      <th>thalach</th>\n",
       "      <th>exang</th>\n",
       "      <th>oldpeak</th>\n",
       "      <th>slope</th>\n",
       "      <th>ca</th>\n",
       "      <th>thal</th>\n",
       "      <th>num(target)</th>\n",
       "    </tr>\n",
       "  </thead>\n",
       "  <tbody>\n",
       "    <tr>\n",
       "      <th>0</th>\n",
       "      <td>63</td>\n",
       "      <td>1</td>\n",
       "      <td>4</td>\n",
       "      <td>140</td>\n",
       "      <td>260</td>\n",
       "      <td>0</td>\n",
       "      <td>1</td>\n",
       "      <td>112</td>\n",
       "      <td>1</td>\n",
       "      <td>3</td>\n",
       "      <td>2</td>\n",
       "      <td>?</td>\n",
       "      <td>?</td>\n",
       "      <td>2</td>\n",
       "    </tr>\n",
       "    <tr>\n",
       "      <th>1</th>\n",
       "      <td>44</td>\n",
       "      <td>1</td>\n",
       "      <td>4</td>\n",
       "      <td>130</td>\n",
       "      <td>209</td>\n",
       "      <td>0</td>\n",
       "      <td>1</td>\n",
       "      <td>127</td>\n",
       "      <td>0</td>\n",
       "      <td>0</td>\n",
       "      <td>?</td>\n",
       "      <td>?</td>\n",
       "      <td>?</td>\n",
       "      <td>0</td>\n",
       "    </tr>\n",
       "    <tr>\n",
       "      <th>2</th>\n",
       "      <td>60</td>\n",
       "      <td>1</td>\n",
       "      <td>4</td>\n",
       "      <td>132</td>\n",
       "      <td>218</td>\n",
       "      <td>0</td>\n",
       "      <td>1</td>\n",
       "      <td>140</td>\n",
       "      <td>1</td>\n",
       "      <td>1.5</td>\n",
       "      <td>3</td>\n",
       "      <td>?</td>\n",
       "      <td>?</td>\n",
       "      <td>2</td>\n",
       "    </tr>\n",
       "    <tr>\n",
       "      <th>3</th>\n",
       "      <td>55</td>\n",
       "      <td>1</td>\n",
       "      <td>4</td>\n",
       "      <td>142</td>\n",
       "      <td>228</td>\n",
       "      <td>0</td>\n",
       "      <td>1</td>\n",
       "      <td>149</td>\n",
       "      <td>1</td>\n",
       "      <td>2.5</td>\n",
       "      <td>1</td>\n",
       "      <td>?</td>\n",
       "      <td>?</td>\n",
       "      <td>1</td>\n",
       "    </tr>\n",
       "    <tr>\n",
       "      <th>4</th>\n",
       "      <td>66</td>\n",
       "      <td>1</td>\n",
       "      <td>3</td>\n",
       "      <td>110</td>\n",
       "      <td>213</td>\n",
       "      <td>1</td>\n",
       "      <td>2</td>\n",
       "      <td>99</td>\n",
       "      <td>1</td>\n",
       "      <td>1.3</td>\n",
       "      <td>2</td>\n",
       "      <td>?</td>\n",
       "      <td>?</td>\n",
       "      <td>0</td>\n",
       "    </tr>\n",
       "  </tbody>\n",
       "</table>\n",
       "</div>"
      ],
      "text/plain": [
       "   age  sex  cp trestbps chol fbs  restecg thalach exang oldpeak slope ca  \\\n",
       "0   63    1   4      140  260   0        1     112     1       3     2  ?   \n",
       "1   44    1   4      130  209   0        1     127     0       0     ?  ?   \n",
       "2   60    1   4      132  218   0        1     140     1     1.5     3  ?   \n",
       "3   55    1   4      142  228   0        1     149     1     2.5     1  ?   \n",
       "4   66    1   3      110  213   1        2      99     1     1.3     2  ?   \n",
       "\n",
       "  thal  num(target)  \n",
       "0    ?            2  \n",
       "1    ?            0  \n",
       "2    ?            2  \n",
       "3    ?            1  \n",
       "4    ?            0  "
      ]
     },
     "execution_count": 37,
     "metadata": {},
     "output_type": "execute_result"
    }
   ],
   "source": [
    "df.head()"
   ]
  },
  {
   "cell_type": "code",
   "execution_count": 38,
   "metadata": {},
   "outputs": [
    {
     "data": {
      "text/plain": [
       "(200, 14)"
      ]
     },
     "execution_count": 38,
     "metadata": {},
     "output_type": "execute_result"
    }
   ],
   "source": [
    "df.shape"
   ]
  },
  {
   "cell_type": "code",
   "execution_count": 39,
   "metadata": {},
   "outputs": [
    {
     "data": {
      "text/plain": [
       "<matplotlib.axes._subplots.AxesSubplot at 0x1f306070a60>"
      ]
     },
     "execution_count": 39,
     "metadata": {},
     "output_type": "execute_result"
    },
    {
     "data": {
      "image/png": "[encoded data removed]",
      "text/plain": [
       "<Figure size 600x400 with 1 Axes>"
      ]
     },
     "metadata": {},
     "output_type": "display_data"
    }
   ],
   "source": [
    "df['num(target)'].value_counts().plot.bar()"
   ]
  },
  {
   "cell_type": "markdown",
   "metadata": {},
   "source": [
    "# EDA by sweetviz library"
   ]
  },
  {
   "cell_type": "code",
   "execution_count": 40,
   "metadata": {},
   "outputs": [],
   "source": [
    "import sweetviz #Currently This sweetviz is  not possible for multiclass classification,after converting to binary we will usw sweetviz.\n"
   ]
  },
  {
   "cell_type": "markdown",
   "metadata": {},
   "source": [
    "# Changing the target variable to binary class"
   ]
  },
  {
   "cell_type": "code",
   "execution_count": 41,
   "metadata": {},
   "outputs": [
    {
     "data": {
      "text/plain": [
       "array([2, 0, 1, 3, 4], dtype=int64)"
      ]
     },
     "execution_count": 41,
     "metadata": {},
     "output_type": "execute_result"
    }
   ],
   "source": [
    "df['num(target)'].unique()"
   ]
  },
  {
   "cell_type": "code",
   "execution_count": 42,
   "metadata": {},
   "outputs": [],
   "source": [
    "df.loc[df['num(target)'] > 1, \"num(target)\"] =1\n",
    "    "
   ]
  },
  {
   "cell_type": "code",
   "execution_count": 43,
   "metadata": {},
   "outputs": [
    {
     "data": {
      "text/plain": [
       "1    149\n",
       "0     51\n",
       "Name: num(target), dtype: int64"
      ]
     },
     "execution_count": 43,
     "metadata": {},
     "output_type": "execute_result"
    }
   ],
   "source": [
    "df['num(target)'].value_counts()"
   ]
  },
  {
   "cell_type": "code",
   "execution_count": 44,
   "metadata": {},
   "outputs": [
    {
     "data": {
      "text/plain": [
       "array([1, 0], dtype=int64)"
      ]
     },
     "execution_count": 44,
     "metadata": {},
     "output_type": "execute_result"
    }
   ],
   "source": [
    "df['num(target)'].unique()"
   ]
  },
  {
   "cell_type": "code",
   "execution_count": 45,
   "metadata": {},
   "outputs": [
    {
     "data": {
      "text/html": [
       "<div>\n",
       "<style scoped>\n",
       "    .dataframe tbody tr th:only-of-type {\n",
       "        vertical-align: middle;\n",
       "    }\n",
       "\n",
       "    .dataframe tbody tr th {\n",
       "        vertical-align: top;\n",
       "    }\n",
       "\n",
       "    .dataframe thead th {\n",
       "        text-align: right;\n",
       "    }\n",
       "</style>\n",
       "<table border=\"1\" class=\"dataframe\">\n",
       "  <thead>\n",
       "    <tr style=\"text-align: right;\">\n",
       "      <th></th>\n",
       "      <th>age</th>\n",
       "      <th>sex</th>\n",
       "      <th>cp</th>\n",
       "      <th>trestbps</th>\n",
       "      <th>chol</th>\n",
       "      <th>fbs</th>\n",
       "      <th>restecg</th>\n",
       "      <th>thalach</th>\n",
       "      <th>exang</th>\n",
       "      <th>oldpeak</th>\n",
       "      <th>slope</th>\n",
       "      <th>ca</th>\n",
       "      <th>thal</th>\n",
       "      <th>num(target)</th>\n",
       "    </tr>\n",
       "  </thead>\n",
       "  <tbody>\n",
       "    <tr>\n",
       "      <th>0</th>\n",
       "      <td>63</td>\n",
       "      <td>1</td>\n",
       "      <td>4</td>\n",
       "      <td>140</td>\n",
       "      <td>260</td>\n",
       "      <td>0</td>\n",
       "      <td>1</td>\n",
       "      <td>112</td>\n",
       "      <td>1</td>\n",
       "      <td>3</td>\n",
       "      <td>2</td>\n",
       "      <td>?</td>\n",
       "      <td>?</td>\n",
       "      <td>1</td>\n",
       "    </tr>\n",
       "    <tr>\n",
       "      <th>1</th>\n",
       "      <td>44</td>\n",
       "      <td>1</td>\n",
       "      <td>4</td>\n",
       "      <td>130</td>\n",
       "      <td>209</td>\n",
       "      <td>0</td>\n",
       "      <td>1</td>\n",
       "      <td>127</td>\n",
       "      <td>0</td>\n",
       "      <td>0</td>\n",
       "      <td>?</td>\n",
       "      <td>?</td>\n",
       "      <td>?</td>\n",
       "      <td>0</td>\n",
       "    </tr>\n",
       "    <tr>\n",
       "      <th>2</th>\n",
       "      <td>60</td>\n",
       "      <td>1</td>\n",
       "      <td>4</td>\n",
       "      <td>132</td>\n",
       "      <td>218</td>\n",
       "      <td>0</td>\n",
       "      <td>1</td>\n",
       "      <td>140</td>\n",
       "      <td>1</td>\n",
       "      <td>1.5</td>\n",
       "      <td>3</td>\n",
       "      <td>?</td>\n",
       "      <td>?</td>\n",
       "      <td>1</td>\n",
       "    </tr>\n",
       "    <tr>\n",
       "      <th>3</th>\n",
       "      <td>55</td>\n",
       "      <td>1</td>\n",
       "      <td>4</td>\n",
       "      <td>142</td>\n",
       "      <td>228</td>\n",
       "      <td>0</td>\n",
       "      <td>1</td>\n",
       "      <td>149</td>\n",
       "      <td>1</td>\n",
       "      <td>2.5</td>\n",
       "      <td>1</td>\n",
       "      <td>?</td>\n",
       "      <td>?</td>\n",
       "      <td>1</td>\n",
       "    </tr>\n",
       "    <tr>\n",
       "      <th>4</th>\n",
       "      <td>66</td>\n",
       "      <td>1</td>\n",
       "      <td>3</td>\n",
       "      <td>110</td>\n",
       "      <td>213</td>\n",
       "      <td>1</td>\n",
       "      <td>2</td>\n",
       "      <td>99</td>\n",
       "      <td>1</td>\n",
       "      <td>1.3</td>\n",
       "      <td>2</td>\n",
       "      <td>?</td>\n",
       "      <td>?</td>\n",
       "      <td>0</td>\n",
       "    </tr>\n",
       "  </tbody>\n",
       "</table>\n",
       "</div>"
      ],
      "text/plain": [
       "   age  sex  cp trestbps chol fbs  restecg thalach exang oldpeak slope ca  \\\n",
       "0   63    1   4      140  260   0        1     112     1       3     2  ?   \n",
       "1   44    1   4      130  209   0        1     127     0       0     ?  ?   \n",
       "2   60    1   4      132  218   0        1     140     1     1.5     3  ?   \n",
       "3   55    1   4      142  228   0        1     149     1     2.5     1  ?   \n",
       "4   66    1   3      110  213   1        2      99     1     1.3     2  ?   \n",
       "\n",
       "  thal  num(target)  \n",
       "0    ?            1  \n",
       "1    ?            0  \n",
       "2    ?            1  \n",
       "3    ?            1  \n",
       "4    ?            0  "
      ]
     },
     "execution_count": 45,
     "metadata": {},
     "output_type": "execute_result"
    }
   ],
   "source": [
    "df.head()"
   ]
  },
  {
   "cell_type": "markdown",
   "metadata": {},
   "source": [
    "# Checking for missing values"
   ]
  },
  {
   "cell_type": "code",
   "execution_count": 46,
   "metadata": {},
   "outputs": [
    {
     "data": {
      "text/plain": [
       "<matplotlib.axes._subplots.AxesSubplot at 0x1f305fda610>"
      ]
     },
     "execution_count": 46,
     "metadata": {},
     "output_type": "execute_result"
    },
    {
     "data": {
      "image/png": "[encoded data removed]",
      "text/plain": [
       "<Figure size 600x400 with 2 Axes>"
      ]
     },
     "metadata": {},
     "output_type": "display_data"
    }
   ],
   "source": [
    "sns.heatmap(df.isnull())  \n",
    "#we can see there are no missing values in the dataset which is false\n",
    "# '?' is not considered as a missing value by the system."
   ]
  },
  {
   "cell_type": "markdown",
   "metadata": {},
   "source": [
    "# Feature Engineering"
   ]
  },
  {
   "cell_type": "code",
   "execution_count": 47,
   "metadata": {},
   "outputs": [],
   "source": [
    "#replacing ? in dataset to NAN\n",
    "for col in df.columns:\n",
    "    df[col]=df[col].replace('?',np.nan)"
   ]
  },
  {
   "cell_type": "code",
   "execution_count": 48,
   "metadata": {},
   "outputs": [
    {
     "data": {
      "text/html": [
       "<div>\n",
       "<style scoped>\n",
       "    .dataframe tbody tr th:only-of-type {\n",
       "        vertical-align: middle;\n",
       "    }\n",
       "\n",
       "    .dataframe tbody tr th {\n",
       "        vertical-align: top;\n",
       "    }\n",
       "\n",
       "    .dataframe thead th {\n",
       "        text-align: right;\n",
       "    }\n",
       "</style>\n",
       "<table border=\"1\" class=\"dataframe\">\n",
       "  <thead>\n",
       "    <tr style=\"text-align: right;\">\n",
       "      <th></th>\n",
       "      <th>age</th>\n",
       "      <th>sex</th>\n",
       "      <th>cp</th>\n",
       "      <th>trestbps</th>\n",
       "      <th>chol</th>\n",
       "      <th>fbs</th>\n",
       "      <th>restecg</th>\n",
       "      <th>thalach</th>\n",
       "      <th>exang</th>\n",
       "      <th>oldpeak</th>\n",
       "      <th>slope</th>\n",
       "      <th>ca</th>\n",
       "      <th>thal</th>\n",
       "      <th>num(target)</th>\n",
       "    </tr>\n",
       "  </thead>\n",
       "  <tbody>\n",
       "    <tr>\n",
       "      <th>0</th>\n",
       "      <td>63</td>\n",
       "      <td>1</td>\n",
       "      <td>4</td>\n",
       "      <td>140</td>\n",
       "      <td>260</td>\n",
       "      <td>0</td>\n",
       "      <td>1</td>\n",
       "      <td>112</td>\n",
       "      <td>1</td>\n",
       "      <td>3</td>\n",
       "      <td>2</td>\n",
       "      <td>NaN</td>\n",
       "      <td>NaN</td>\n",
       "      <td>1</td>\n",
       "    </tr>\n",
       "    <tr>\n",
       "      <th>1</th>\n",
       "      <td>44</td>\n",
       "      <td>1</td>\n",
       "      <td>4</td>\n",
       "      <td>130</td>\n",
       "      <td>209</td>\n",
       "      <td>0</td>\n",
       "      <td>1</td>\n",
       "      <td>127</td>\n",
       "      <td>0</td>\n",
       "      <td>0</td>\n",
       "      <td>NaN</td>\n",
       "      <td>NaN</td>\n",
       "      <td>NaN</td>\n",
       "      <td>0</td>\n",
       "    </tr>\n",
       "    <tr>\n",
       "      <th>2</th>\n",
       "      <td>60</td>\n",
       "      <td>1</td>\n",
       "      <td>4</td>\n",
       "      <td>132</td>\n",
       "      <td>218</td>\n",
       "      <td>0</td>\n",
       "      <td>1</td>\n",
       "      <td>140</td>\n",
       "      <td>1</td>\n",
       "      <td>1.5</td>\n",
       "      <td>3</td>\n",
       "      <td>NaN</td>\n",
       "      <td>NaN</td>\n",
       "      <td>1</td>\n",
       "    </tr>\n",
       "    <tr>\n",
       "      <th>3</th>\n",
       "      <td>55</td>\n",
       "      <td>1</td>\n",
       "      <td>4</td>\n",
       "      <td>142</td>\n",
       "      <td>228</td>\n",
       "      <td>0</td>\n",
       "      <td>1</td>\n",
       "      <td>149</td>\n",
       "      <td>1</td>\n",
       "      <td>2.5</td>\n",
       "      <td>1</td>\n",
       "      <td>NaN</td>\n",
       "      <td>NaN</td>\n",
       "      <td>1</td>\n",
       "    </tr>\n",
       "    <tr>\n",
       "      <th>4</th>\n",
       "      <td>66</td>\n",
       "      <td>1</td>\n",
       "      <td>3</td>\n",
       "      <td>110</td>\n",
       "      <td>213</td>\n",
       "      <td>1</td>\n",
       "      <td>2</td>\n",
       "      <td>99</td>\n",
       "      <td>1</td>\n",
       "      <td>1.3</td>\n",
       "      <td>2</td>\n",
       "      <td>NaN</td>\n",
       "      <td>NaN</td>\n",
       "      <td>0</td>\n",
       "    </tr>\n",
       "  </tbody>\n",
       "</table>\n",
       "</div>"
      ],
      "text/plain": [
       "   age  sex  cp trestbps chol fbs  restecg thalach exang oldpeak slope   ca  \\\n",
       "0   63    1   4      140  260   0        1     112     1       3     2  NaN   \n",
       "1   44    1   4      130  209   0        1     127     0       0   NaN  NaN   \n",
       "2   60    1   4      132  218   0        1     140     1     1.5     3  NaN   \n",
       "3   55    1   4      142  228   0        1     149     1     2.5     1  NaN   \n",
       "4   66    1   3      110  213   1        2      99     1     1.3     2  NaN   \n",
       "\n",
       "  thal  num(target)  \n",
       "0  NaN            1  \n",
       "1  NaN            0  \n",
       "2  NaN            1  \n",
       "3  NaN            1  \n",
       "4  NaN            0  "
      ]
     },
     "execution_count": 48,
     "metadata": {},
     "output_type": "execute_result"
    }
   ],
   "source": [
    "df.head()"
   ]
  },
  {
   "cell_type": "code",
   "execution_count": 49,
   "metadata": {},
   "outputs": [
    {
     "data": {
      "text/plain": [
       "age              0\n",
       "sex              0\n",
       "cp               0\n",
       "trestbps        56\n",
       "chol             7\n",
       "fbs              7\n",
       "restecg          0\n",
       "thalach         53\n",
       "exang           53\n",
       "oldpeak         56\n",
       "slope          102\n",
       "ca             198\n",
       "thal           166\n",
       "num(target)      0\n",
       "dtype: int64"
      ]
     },
     "execution_count": 49,
     "metadata": {},
     "output_type": "execute_result"
    }
   ],
   "source": [
    "df.isnull().sum()\n"
   ]
  },
  {
   "cell_type": "markdown",
   "metadata": {},
   "source": [
    "# Changing the data type to integer before imputing missing values"
   ]
  },
  {
   "cell_type": "code",
   "execution_count": 50,
   "metadata": {},
   "outputs": [
    {
     "data": {
      "text/plain": [
       "age             int64\n",
       "sex             int64\n",
       "cp              int64\n",
       "trestbps       object\n",
       "chol           object\n",
       "fbs            object\n",
       "restecg         int64\n",
       "thalach        object\n",
       "exang          object\n",
       "oldpeak        object\n",
       "slope          object\n",
       "ca             object\n",
       "thal           object\n",
       "num(target)     int64\n",
       "dtype: object"
      ]
     },
     "execution_count": 50,
     "metadata": {},
     "output_type": "execute_result"
    }
   ],
   "source": [
    "df.dtypes\n",
    "#we can see some data are object data type but actually the data are in integer format ."
   ]
  },
  {
   "cell_type": "code",
   "execution_count": 51,
   "metadata": {},
   "outputs": [],
   "source": [
    "objecttype=[feature for feature in df.columns if df[feature].dtypes=='object']\n",
    "for feature in objecttype:\n",
    "    if df[feature].dtypes=='object':\n",
    "        df[feature]=df[feature].apply(pd.to_numeric)\n",
    "    "
   ]
  },
  {
   "cell_type": "code",
   "execution_count": 52,
   "metadata": {},
   "outputs": [
    {
     "data": {
      "text/plain": [
       "age              int64\n",
       "sex              int64\n",
       "cp               int64\n",
       "trestbps       float64\n",
       "chol           float64\n",
       "fbs            float64\n",
       "restecg          int64\n",
       "thalach        float64\n",
       "exang          float64\n",
       "oldpeak        float64\n",
       "slope          float64\n",
       "ca             float64\n",
       "thal           float64\n",
       "num(target)      int64\n",
       "dtype: object"
      ]
     },
     "execution_count": 52,
     "metadata": {},
     "output_type": "execute_result"
    }
   ],
   "source": [
    "df.dtypes"
   ]
  },
  {
   "cell_type": "markdown",
   "metadata": {},
   "source": [
    "# Imputing missing values"
   ]
  },
  {
   "cell_type": "code",
   "execution_count": 53,
   "metadata": {},
   "outputs": [
    {
     "data": {
      "text/plain": [
       "age              0\n",
       "sex              0\n",
       "cp               0\n",
       "trestbps        56\n",
       "chol             7\n",
       "fbs              7\n",
       "restecg          0\n",
       "thalach         53\n",
       "exang           53\n",
       "oldpeak         56\n",
       "slope          102\n",
       "ca             198\n",
       "thal           166\n",
       "num(target)      0\n",
       "dtype: int64"
      ]
     },
     "execution_count": 53,
     "metadata": {},
     "output_type": "execute_result"
    }
   ],
   "source": [
    "df.isnull().sum()"
   ]
  },
  {
   "cell_type": "code",
   "execution_count": 54,
   "metadata": {},
   "outputs": [],
   "source": [
    "#all columns are filled with their respective columns mean values\n",
    "df=df.fillna(df.mean())"
   ]
  },
  {
   "cell_type": "code",
   "execution_count": 64,
   "metadata": {},
   "outputs": [
    {
     "data": {
      "text/plain": [
       "age            0\n",
       "sex            0\n",
       "cp             0\n",
       "trestbps       0\n",
       "chol           0\n",
       "fbs            0\n",
       "restecg        0\n",
       "thalach        0\n",
       "exang          0\n",
       "oldpeak        0\n",
       "slope          0\n",
       "ca             0\n",
       "thal           0\n",
       "num(target)    0\n",
       "dtype: int64"
      ]
     },
     "execution_count": 64,
     "metadata": {},
     "output_type": "execute_result"
    }
   ],
   "source": [
    "df.isnull().sum()"
   ]
  },
  {
   "cell_type": "code",
   "execution_count": 55,
   "metadata": {},
   "outputs": [
    {
     "data": {
      "text/html": [
       "<div>\n",
       "<style scoped>\n",
       "    .dataframe tbody tr th:only-of-type {\n",
       "        vertical-align: middle;\n",
       "    }\n",
       "\n",
       "    .dataframe tbody tr th {\n",
       "        vertical-align: top;\n",
       "    }\n",
       "\n",
       "    .dataframe thead th {\n",
       "        text-align: right;\n",
       "    }\n",
       "</style>\n",
       "<table border=\"1\" class=\"dataframe\">\n",
       "  <thead>\n",
       "    <tr style=\"text-align: right;\">\n",
       "      <th></th>\n",
       "      <th>age</th>\n",
       "      <th>sex</th>\n",
       "      <th>cp</th>\n",
       "      <th>trestbps</th>\n",
       "      <th>chol</th>\n",
       "      <th>fbs</th>\n",
       "      <th>restecg</th>\n",
       "      <th>thalach</th>\n",
       "      <th>exang</th>\n",
       "      <th>oldpeak</th>\n",
       "      <th>slope</th>\n",
       "      <th>ca</th>\n",
       "      <th>thal</th>\n",
       "      <th>num(target)</th>\n",
       "    </tr>\n",
       "  </thead>\n",
       "  <tbody>\n",
       "    <tr>\n",
       "      <th>count</th>\n",
       "      <td>200.000000</td>\n",
       "      <td>200.000000</td>\n",
       "      <td>200.000000</td>\n",
       "      <td>200.000000</td>\n",
       "      <td>200.000000</td>\n",
       "      <td>200.000000</td>\n",
       "      <td>200.000000</td>\n",
       "      <td>200.000000</td>\n",
       "      <td>200.000000</td>\n",
       "      <td>200.000000</td>\n",
       "      <td>200.000000</td>\n",
       "      <td>200.0</td>\n",
       "      <td>200.000000</td>\n",
       "      <td>200.000000</td>\n",
       "    </tr>\n",
       "    <tr>\n",
       "      <th>mean</th>\n",
       "      <td>59.350000</td>\n",
       "      <td>0.970000</td>\n",
       "      <td>3.505000</td>\n",
       "      <td>133.763889</td>\n",
       "      <td>178.746114</td>\n",
       "      <td>0.352332</td>\n",
       "      <td>0.735000</td>\n",
       "      <td>122.795918</td>\n",
       "      <td>0.646259</td>\n",
       "      <td>1.320833</td>\n",
       "      <td>2.132653</td>\n",
       "      <td>0.0</td>\n",
       "      <td>6.294118</td>\n",
       "      <td>0.745000</td>\n",
       "    </tr>\n",
       "    <tr>\n",
       "      <th>std</th>\n",
       "      <td>7.811697</td>\n",
       "      <td>0.171015</td>\n",
       "      <td>0.795701</td>\n",
       "      <td>18.257507</td>\n",
       "      <td>112.011633</td>\n",
       "      <td>0.470440</td>\n",
       "      <td>0.683455</td>\n",
       "      <td>18.835692</td>\n",
       "      <td>0.410940</td>\n",
       "      <td>0.937755</td>\n",
       "      <td>0.466331</td>\n",
       "      <td>0.0</td>\n",
       "      <td>0.526001</td>\n",
       "      <td>0.436955</td>\n",
       "    </tr>\n",
       "    <tr>\n",
       "      <th>min</th>\n",
       "      <td>35.000000</td>\n",
       "      <td>0.000000</td>\n",
       "      <td>1.000000</td>\n",
       "      <td>0.000000</td>\n",
       "      <td>0.000000</td>\n",
       "      <td>0.000000</td>\n",
       "      <td>0.000000</td>\n",
       "      <td>69.000000</td>\n",
       "      <td>0.000000</td>\n",
       "      <td>-0.500000</td>\n",
       "      <td>1.000000</td>\n",
       "      <td>0.0</td>\n",
       "      <td>3.000000</td>\n",
       "      <td>0.000000</td>\n",
       "    </tr>\n",
       "    <tr>\n",
       "      <th>25%</th>\n",
       "      <td>55.000000</td>\n",
       "      <td>1.000000</td>\n",
       "      <td>3.000000</td>\n",
       "      <td>125.750000</td>\n",
       "      <td>129.250000</td>\n",
       "      <td>0.000000</td>\n",
       "      <td>0.000000</td>\n",
       "      <td>112.000000</td>\n",
       "      <td>0.000000</td>\n",
       "      <td>1.000000</td>\n",
       "      <td>2.000000</td>\n",
       "      <td>0.0</td>\n",
       "      <td>6.294118</td>\n",
       "      <td>0.000000</td>\n",
       "    </tr>\n",
       "    <tr>\n",
       "      <th>50%</th>\n",
       "      <td>60.000000</td>\n",
       "      <td>1.000000</td>\n",
       "      <td>4.000000</td>\n",
       "      <td>133.763889</td>\n",
       "      <td>214.000000</td>\n",
       "      <td>0.000000</td>\n",
       "      <td>1.000000</td>\n",
       "      <td>122.795918</td>\n",
       "      <td>0.646259</td>\n",
       "      <td>1.320833</td>\n",
       "      <td>2.132653</td>\n",
       "      <td>0.0</td>\n",
       "      <td>6.294118</td>\n",
       "      <td>1.000000</td>\n",
       "    </tr>\n",
       "    <tr>\n",
       "      <th>75%</th>\n",
       "      <td>64.000000</td>\n",
       "      <td>1.000000</td>\n",
       "      <td>4.000000</td>\n",
       "      <td>140.000000</td>\n",
       "      <td>254.500000</td>\n",
       "      <td>1.000000</td>\n",
       "      <td>1.000000</td>\n",
       "      <td>130.000000</td>\n",
       "      <td>1.000000</td>\n",
       "      <td>2.000000</td>\n",
       "      <td>2.132653</td>\n",
       "      <td>0.0</td>\n",
       "      <td>6.294118</td>\n",
       "      <td>1.000000</td>\n",
       "    </tr>\n",
       "    <tr>\n",
       "      <th>max</th>\n",
       "      <td>77.000000</td>\n",
       "      <td>1.000000</td>\n",
       "      <td>4.000000</td>\n",
       "      <td>190.000000</td>\n",
       "      <td>458.000000</td>\n",
       "      <td>1.000000</td>\n",
       "      <td>2.000000</td>\n",
       "      <td>180.000000</td>\n",
       "      <td>1.000000</td>\n",
       "      <td>4.000000</td>\n",
       "      <td>3.000000</td>\n",
       "      <td>0.0</td>\n",
       "      <td>7.000000</td>\n",
       "      <td>1.000000</td>\n",
       "    </tr>\n",
       "  </tbody>\n",
       "</table>\n",
       "</div>"
      ],
      "text/plain": [
       "              age         sex          cp    trestbps        chol         fbs  \\\n",
       "count  200.000000  200.000000  200.000000  200.000000  200.000000  200.000000   \n",
       "mean    59.350000    0.970000    3.505000  133.763889  178.746114    0.352332   \n",
       "std      7.811697    0.171015    0.795701   18.257507  112.011633    0.470440   \n",
       "min     35.000000    0.000000    1.000000    0.000000    0.000000    0.000000   \n",
       "25%     55.000000    1.000000    3.000000  125.750000  129.250000    0.000000   \n",
       "50%     60.000000    1.000000    4.000000  133.763889  214.000000    0.000000   \n",
       "75%     64.000000    1.000000    4.000000  140.000000  254.500000    1.000000   \n",
       "max     77.000000    1.000000    4.000000  190.000000  458.000000    1.000000   \n",
       "\n",
       "          restecg     thalach       exang     oldpeak       slope     ca  \\\n",
       "count  200.000000  200.000000  200.000000  200.000000  200.000000  200.0   \n",
       "mean     0.735000  122.795918    0.646259    1.320833    2.132653    0.0   \n",
       "std      0.683455   18.835692    0.410940    0.937755    0.466331    0.0   \n",
       "min      0.000000   69.000000    0.000000   -0.500000    1.000000    0.0   \n",
       "25%      0.000000  112.000000    0.000000    1.000000    2.000000    0.0   \n",
       "50%      1.000000  122.795918    0.646259    1.320833    2.132653    0.0   \n",
       "75%      1.000000  130.000000    1.000000    2.000000    2.132653    0.0   \n",
       "max      2.000000  180.000000    1.000000    4.000000    3.000000    0.0   \n",
       "\n",
       "             thal  num(target)  \n",
       "count  200.000000   200.000000  \n",
       "mean     6.294118     0.745000  \n",
       "std      0.526001     0.436955  \n",
       "min      3.000000     0.000000  \n",
       "25%      6.294118     0.000000  \n",
       "50%      6.294118     1.000000  \n",
       "75%      6.294118     1.000000  \n",
       "max      7.000000     1.000000  "
      ]
     },
     "execution_count": 55,
     "metadata": {},
     "output_type": "execute_result"
    }
   ],
   "source": [
    "df.describe()"
   ]
  },
  {
   "cell_type": "markdown",
   "metadata": {},
   "source": [
    "# EDA"
   ]
  },
  {
   "cell_type": "code",
   "execution_count": 56,
   "metadata": {},
   "outputs": [
    {
     "data": {
      "text/plain": [
       "<matplotlib.axes._subplots.AxesSubplot at 0x1f303f02be0>"
      ]
     },
     "execution_count": 56,
     "metadata": {},
     "output_type": "execute_result"
    },
    {
     "data": {
      "image/png": "[encoded data removed]",
      "text/plain": [
       "<Figure size 600x400 with 1 Axes>"
      ]
     },
     "metadata": {},
     "output_type": "display_data"
    }
   ],
   "source": [
    "df['num(target)'].value_counts().plot.bar() #this is a imbalanced dtaset,need to perform upsampling before model building."
   ]
  },
  {
   "cell_type": "markdown",
   "metadata": {},
   "source": [
    "# EDA by sweetviz library"
   ]
  },
  {
   "cell_type": "code",
   "execution_count": 26,
   "metadata": {},
   "outputs": [
    {
     "name": "stderr",
     "output_type": "stream",
     "text": [
      "\n",
      "                                   |                         | [  0%]   00:00  -> (? left)\u001b[A\n",
      "Summarizing dataframe:             |                         | [  0%]   00:00  -> (? left)\u001b[A\n",
      ":TARGET::                          |█▍                   | [  7%]   00:00  -> (00:00 left)\u001b[A\n",
      ":TARGET::                          |██▊                  | [ 13%]   00:00  -> (00:01 left)\u001b[A\n",
      ":age:                              |██▊                  | [ 13%]   00:00  -> (00:01 left)\u001b[A\n",
      ":age:                              |████▏                | [ 20%]   00:01  -> (00:05 left)\u001b[A\n",
      ":sex:                              |████▏                | [ 20%]   00:01  -> (00:05 left)\u001b[A\n",
      ":sex:                              |█████▌               | [ 27%]   00:01  -> (00:04 left)\u001b[A\n",
      ":cp:                               |█████▌               | [ 27%]   00:01  -> (00:04 left)\u001b[A\n",
      ":cp:                               |███████              | [ 33%]   00:02  -> (00:03 left)\u001b[A\n",
      ":trestbps:                         |███████              | [ 33%]   00:02  -> (00:03 left)\u001b[A\n",
      ":trestbps:                         |████████▍            | [ 40%]   00:03  -> (00:04 left)\u001b[A\n",
      ":chol:                             |████████▍            | [ 40%]   00:03  -> (00:04 left)\u001b[A\n",
      ":chol:                             |█████████▊           | [ 47%]   00:04  -> (00:05 left)\u001b[A\n",
      ":fbs:                              |█████████▊           | [ 47%]   00:04  -> (00:05 left)\u001b[A\n",
      ":fbs:                              |███████████▏         | [ 53%]   00:04  -> (00:04 left)\u001b[A\n",
      ":restecg:                          |███████████▏         | [ 53%]   00:04  -> (00:04 left)\u001b[A\n",
      ":restecg:                          |████████████▌        | [ 60%]   00:04  -> (00:03 left)\u001b[A\n",
      ":thalach:                          |████████████▌        | [ 60%]   00:04  -> (00:03 left)\u001b[A\n",
      ":thalach:                          |██████████████       | [ 67%]   00:05  -> (00:03 left)\u001b[A\n",
      ":exang:                            |██████████████       | [ 67%]   00:05  -> (00:03 left)\u001b[A\n",
      ":exang:                            |███████████████▍     | [ 73%]   00:05  -> (00:02 left)\u001b[A\n",
      ":oldpeak:                          |███████████████▍     | [ 73%]   00:05  -> (00:02 left)\u001b[A\n",
      ":oldpeak:                          |████████████████▊    | [ 80%]   00:06  -> (00:01 left)\u001b[A\n",
      ":slope:                            |████████████████▊    | [ 80%]   00:06  -> (00:01 left)\u001b[A\n",
      ":slope:                            |██████████████████▏  | [ 87%]   00:07  -> (00:01 left)\u001b[A\n",
      ":ca:                               |██████████████████▏  | [ 87%]   00:07  -> (00:01 left)\u001b[A\n",
      ":ca:                               |███████████████████▌ | [ 93%]   00:07  -> (00:00 left)\u001b[A\n",
      ":thal:                             |███████████████████▌ | [ 93%]   00:07  -> (00:00 left)\u001b[A\n",
      ":thal:                             |█████████████████████| [100%]   00:07  -> (00:00 left)\u001b[A\n",
      ":FEATURES DONE:                    |█████████████████████| [100%]   00:07  -> (00:00 left)\u001b[A\n",
      "\n",
      "                                   |                         | [  0%]   00:00  -> (? left)\u001b[A\n",
      ":Processing Pairwise Features:     |                         | [  0%]   00:00  -> (? left)\u001b[A\n",
      ":Processing Pairwise Features:     |███████████████████▌ | [ 93%]   00:00  -> (00:00 left)\u001b[A\n",
      ":PAIRWISE DONE:                    |█████████████████████| [100%]   00:00  -> (00:00 left)\u001b[A\n"
     ]
    },
    {
     "name": "stdout",
     "output_type": "stream",
     "text": [
      "Creating Associations graph... DONE!\n"
     ]
    }
   ],
   "source": [
    "my_report=sweetviz.analyze([df,'df'],target_feat='num(target)')"
   ]
  },
  {
   "cell_type": "code",
   "execution_count": 27,
   "metadata": {},
   "outputs": [
    {
     "name": "stdout",
     "output_type": "stream",
     "text": [
      "Report heartdisease-riv-1.html was generated! NOTEBOOK/COLAB USERS: no browser will pop up, the report is saved in your notebook/colab files.\n"
     ]
    }
   ],
   "source": [
    "my_report.show_html('heartdisease-riv-1.html')"
   ]
  },
  {
   "cell_type": "markdown",
   "metadata": {},
   "source": [
    "# EDA"
   ]
  },
  {
   "cell_type": "code",
   "execution_count": 21,
   "metadata": {},
   "outputs": [],
   "source": [
    "#maximum people in the dataset tend to have heart disease."
   ]
  },
  {
   "cell_type": "code",
   "execution_count": 57,
   "metadata": {},
   "outputs": [
    {
     "data": {
      "image/png": "[encoded data removed]",
      "text/plain": [
       "<Figure size 600x400 with 1 Axes>"
      ]
     },
     "metadata": {},
     "output_type": "display_data"
    },
    {
     "data": {
      "image/png": "[encoded data removed]",
      "text/plain": [
       "<Figure size 600x400 with 1 Axes>"
      ]
     },
     "metadata": {},
     "output_type": "display_data"
    },
    {
     "data": {
      "image/png": "[encoded data removed]",
      "text/plain": [
       "<Figure size 600x400 with 1 Axes>"
      ]
     },
     "metadata": {},
     "output_type": "display_data"
    },
    {
     "data": {
      "image/png": "[encoded data removed]",
      "text/plain": [
       "<Figure size 600x400 with 1 Axes>"
      ]
     },
     "metadata": {},
     "output_type": "display_data"
    },
    {
     "data": {
      "image/png": "[encoded data removed]",
      "text/plain": [
       "<Figure size 600x400 with 1 Axes>"
      ]
     },
     "metadata": {},
     "output_type": "display_data"
    },
    {
     "data": {
      "image/png": "[encoded data removed]",
      "text/plain": [
       "<Figure size 600x400 with 1 Axes>"
      ]
     },
     "metadata": {},
     "output_type": "display_data"
    },
    {
     "data": {
      "image/png": "[encoded data removed]",
      "text/plain": [
       "<Figure size 600x400 with 1 Axes>"
      ]
     },
     "metadata": {},
     "output_type": "display_data"
    },
    {
     "data": {
      "image/png": "[encoded data removed]",
      "text/plain": [
       "<Figure size 600x400 with 1 Axes>"
      ]
     },
     "metadata": {},
     "output_type": "display_data"
    },
    {
     "data": {
      "image/png": "[encoded data removed]",
      "text/plain": [
       "<Figure size 600x400 with 1 Axes>"
      ]
     },
     "metadata": {},
     "output_type": "display_data"
    },
    {
     "data": {
      "image/png": "[encoded data removed]",
      "text/plain": [
       "<Figure size 600x400 with 1 Axes>"
      ]
     },
     "metadata": {},
     "output_type": "display_data"
    },
    {
     "data": {
      "image/png": "[encoded data removed]",
      "text/plain": [
       "<Figure size 600x400 with 1 Axes>"
      ]
     },
     "metadata": {},
     "output_type": "display_data"
    },
    {
     "data": {
      "image/png": "[encoded data removed]",
      "text/plain": [
       "<Figure size 600x400 with 1 Axes>"
      ]
     },
     "metadata": {},
     "output_type": "display_data"
    },
    {
     "data": {
      "image/png": "[encoded data removed]",
      "text/plain": [
       "<Figure size 600x400 with 1 Axes>"
      ]
     },
     "metadata": {},
     "output_type": "display_data"
    },
    {
     "data": {
      "image/png": "[encoded data removed]",
      "text/plain": [
       "<Figure size 600x400 with 1 Axes>"
      ]
     },
     "metadata": {},
     "output_type": "display_data"
    }
   ],
   "source": [
    "#checking for skewness\n",
    "numerical_features=[feature for feature in df.columns if df[feature].dtypes!='object']\n",
    "for feature in numerical_features:\n",
    "    \n",
    "    df[feature].hist(bins=25)\n",
    "    plt.xlabel(feature)\n",
    "    plt.show()"
   ]
  },
  {
   "cell_type": "code",
   "execution_count": 29,
   "metadata": {},
   "outputs": [],
   "source": [
    "#checking relation of each attribute w.r.t target attribute"
   ]
  },
  {
   "cell_type": "code",
   "execution_count": 58,
   "metadata": {},
   "outputs": [
    {
     "data": {
      "image/png": "[encoded data removed]",
      "text/plain": [
       "<Figure size 600x400 with 1 Axes>"
      ]
     },
     "metadata": {},
     "output_type": "display_data"
    },
    {
     "data": {
      "image/png": "[encoded data removed]",
      "text/plain": [
       "<Figure size 600x400 with 1 Axes>"
      ]
     },
     "metadata": {},
     "output_type": "display_data"
    },
    {
     "data": {
      "image/png": "[encoded data removed]",
      "text/plain": [
       "<Figure size 600x400 with 1 Axes>"
      ]
     },
     "metadata": {},
     "output_type": "display_data"
    },
    {
     "data": {
      "image/png": "[encoded data removed]",
      "text/plain": [
       "<Figure size 600x400 with 1 Axes>"
      ]
     },
     "metadata": {},
     "output_type": "display_data"
    },
    {
     "data": {
      "image/png": "[encoded data removed]",
      "text/plain": [
       "<Figure size 600x400 with 1 Axes>"
      ]
     },
     "metadata": {},
     "output_type": "display_data"
    },
    {
     "data": {
      "image/png": "[encoded data removed]",
      "text/plain": [
       "<Figure size 600x400 with 1 Axes>"
      ]
     },
     "metadata": {},
     "output_type": "display_data"
    },
    {
     "data": {
      "image/png": "[encoded data removed]",
      "text/plain": [
       "<Figure size 600x400 with 1 Axes>"
      ]
     },
     "metadata": {},
     "output_type": "display_data"
    },
    {
     "data": {
      "image/png": "[encoded data removed]",
      "text/plain": [
       "<Figure size 600x400 with 1 Axes>"
      ]
     },
     "metadata": {},
     "output_type": "display_data"
    },
    {
     "data": {
      "image/png": "[encoded data removed]",
      "text/plain": [
       "<Figure size 600x400 with 1 Axes>"
      ]
     },
     "metadata": {},
     "output_type": "display_data"
    },
    {
     "data": {
      "image/png": "[encoded data removed]",
      "text/plain": [
       "<Figure size 600x400 with 1 Axes>"
      ]
     },
     "metadata": {},
     "output_type": "display_data"
    },
    {
     "data": {
      "image/png": "[encoded data removed]",
      "text/plain": [
       "<Figure size 600x400 with 1 Axes>"
      ]
     },
     "metadata": {},
     "output_type": "display_data"
    },
    {
     "data": {
      "image/png": "[encoded data removed]",
      "text/plain": [
       "<Figure size 600x400 with 1 Axes>"
      ]
     },
     "metadata": {},
     "output_type": "display_data"
    },
    {
     "data": {
      "image/png": "[encoded data removed]",
      "text/plain": [
       "<Figure size 600x400 with 1 Axes>"
      ]
     },
     "metadata": {},
     "output_type": "display_data"
    },
    {
     "data": {
      "image/png": "[encoded data removed]",
      "text/plain": [
       "<Figure size 600x400 with 1 Axes>"
      ]
     },
     "metadata": {},
     "output_type": "display_data"
    }
   ],
   "source": [
    "numerical_features=[feature for feature in df.columns if df[feature].dtypes!='object']\n",
    "for feature in numerical_features:\n",
    "    \n",
    "    df.groupby('num(target)')[feature].mean().plot.bar()\n",
    "    plt.xlabel(feature)\n",
    "    plt.show()\n"
   ]
  },
  {
   "cell_type": "code",
   "execution_count": 31,
   "metadata": {},
   "outputs": [],
   "source": [
    "#Except for attributes restecg,ca and thalach,people having heart diseases have higher mean values of respective attributes."
   ]
  },
  {
   "cell_type": "code",
   "execution_count": 59,
   "metadata": {},
   "outputs": [
    {
     "data": {
      "image/png": "[encoded data removed]",
      "text/plain": [
       "<Figure size 600x400 with 1 Axes>"
      ]
     },
     "metadata": {},
     "output_type": "display_data"
    },
    {
     "data": {
      "image/png": "[encoded data removed]",
      "text/plain": [
       "<Figure size 600x400 with 1 Axes>"
      ]
     },
     "metadata": {},
     "output_type": "display_data"
    },
    {
     "data": {
      "image/png": "[encoded data removed]",
      "text/plain": [
       "<Figure size 600x400 with 1 Axes>"
      ]
     },
     "metadata": {},
     "output_type": "display_data"
    },
    {
     "data": {
      "image/png": "[encoded data removed]",
      "text/plain": [
       "<Figure size 600x400 with 1 Axes>"
      ]
     },
     "metadata": {},
     "output_type": "display_data"
    },
    {
     "data": {
      "image/png": "[encoded data removed]",
      "text/plain": [
       "<Figure size 600x400 with 1 Axes>"
      ]
     },
     "metadata": {},
     "output_type": "display_data"
    },
    {
     "data": {
      "image/png": "[encoded data removed]",
      "text/plain": [
       "<Figure size 600x400 with 1 Axes>"
      ]
     },
     "metadata": {},
     "output_type": "display_data"
    },
    {
     "data": {
      "image/png": "[encoded data removed]",
      "text/plain": [
       "<Figure size 600x400 with 1 Axes>"
      ]
     },
     "metadata": {},
     "output_type": "display_data"
    },
    {
     "data": {
      "image/png": "[encoded data removed]",
      "text/plain": [
       "<Figure size 600x400 with 1 Axes>"
      ]
     },
     "metadata": {},
     "output_type": "display_data"
    },
    {
     "data": {
      "image/png": "[encoded data removed]",
      "text/plain": [
       "<Figure size 600x400 with 1 Axes>"
      ]
     },
     "metadata": {},
     "output_type": "display_data"
    },
    {
     "data": {
      "image/png": "[encoded data removed]",
      "text/plain": [
       "<Figure size 600x400 with 1 Axes>"
      ]
     },
     "metadata": {},
     "output_type": "display_data"
    },
    {
     "data": {
      "image/png": "[encoded data removed]",
      "text/plain": [
       "<Figure size 600x400 with 1 Axes>"
      ]
     },
     "metadata": {},
     "output_type": "display_data"
    },
    {
     "data": {
      "image/png": "[encoded data removed]",
      "text/plain": [
       "<Figure size 600x400 with 1 Axes>"
      ]
     },
     "metadata": {},
     "output_type": "display_data"
    },
    {
     "data": {
      "image/png": "[encoded data removed]",
      "text/plain": [
       "<Figure size 600x400 with 1 Axes>"
      ]
     },
     "metadata": {},
     "output_type": "display_data"
    },
    {
     "data": {
      "image/png": "[encoded data removed]",
      "text/plain": [
       "<Figure size 600x400 with 1 Axes>"
      ]
     },
     "metadata": {},
     "output_type": "display_data"
    }
   ],
   "source": [
    "#checking for outliers\n",
    "\n",
    "numerical_features=[feature for feature in df.columns if df[feature].dtypes!='object']\n",
    "for feature in numerical_features:\n",
    "    \n",
    "    df[feature].plot.box()\n",
    "    plt.xlabel(feature)\n",
    "    plt.show()"
   ]
  },
  {
   "cell_type": "code",
   "execution_count": 60,
   "metadata": {},
   "outputs": [
    {
     "data": {
      "text/html": [
       "<div>\n",
       "<style scoped>\n",
       "    .dataframe tbody tr th:only-of-type {\n",
       "        vertical-align: middle;\n",
       "    }\n",
       "\n",
       "    .dataframe tbody tr th {\n",
       "        vertical-align: top;\n",
       "    }\n",
       "\n",
       "    .dataframe thead th {\n",
       "        text-align: right;\n",
       "    }\n",
       "</style>\n",
       "<table border=\"1\" class=\"dataframe\">\n",
       "  <thead>\n",
       "    <tr style=\"text-align: right;\">\n",
       "      <th></th>\n",
       "      <th>age</th>\n",
       "      <th>sex</th>\n",
       "      <th>cp</th>\n",
       "      <th>trestbps</th>\n",
       "      <th>chol</th>\n",
       "      <th>fbs</th>\n",
       "      <th>restecg</th>\n",
       "      <th>thalach</th>\n",
       "      <th>exang</th>\n",
       "      <th>oldpeak</th>\n",
       "      <th>slope</th>\n",
       "      <th>ca</th>\n",
       "      <th>thal</th>\n",
       "      <th>num(target)</th>\n",
       "    </tr>\n",
       "  </thead>\n",
       "  <tbody>\n",
       "    <tr>\n",
       "      <th>age</th>\n",
       "      <td>1.000000</td>\n",
       "      <td>0.034230</td>\n",
       "      <td>-0.038280</td>\n",
       "      <td>0.181584</td>\n",
       "      <td>0.066972</td>\n",
       "      <td>0.124753</td>\n",
       "      <td>0.002400</td>\n",
       "      <td>-0.149949</td>\n",
       "      <td>0.135050</td>\n",
       "      <td>0.157087</td>\n",
       "      <td>0.100039</td>\n",
       "      <td>NaN</td>\n",
       "      <td>0.084672</td>\n",
       "      <td>0.189692</td>\n",
       "    </tr>\n",
       "    <tr>\n",
       "      <th>sex</th>\n",
       "      <td>0.034230</td>\n",
       "      <td>1.000000</td>\n",
       "      <td>0.038036</td>\n",
       "      <td>0.012585</td>\n",
       "      <td>-0.096150</td>\n",
       "      <td>-0.055341</td>\n",
       "      <td>0.060621</td>\n",
       "      <td>-0.001592</td>\n",
       "      <td>0.016538</td>\n",
       "      <td>0.097267</td>\n",
       "      <td>0.088087</td>\n",
       "      <td>NaN</td>\n",
       "      <td>-0.078866</td>\n",
       "      <td>0.098854</td>\n",
       "    </tr>\n",
       "    <tr>\n",
       "      <th>cp</th>\n",
       "      <td>-0.038280</td>\n",
       "      <td>0.038036</td>\n",
       "      <td>1.000000</td>\n",
       "      <td>0.074638</td>\n",
       "      <td>0.065818</td>\n",
       "      <td>-0.047368</td>\n",
       "      <td>0.034790</td>\n",
       "      <td>-0.123597</td>\n",
       "      <td>0.181907</td>\n",
       "      <td>0.040155</td>\n",
       "      <td>0.028605</td>\n",
       "      <td>NaN</td>\n",
       "      <td>0.055794</td>\n",
       "      <td>0.256614</td>\n",
       "    </tr>\n",
       "    <tr>\n",
       "      <th>trestbps</th>\n",
       "      <td>0.181584</td>\n",
       "      <td>0.012585</td>\n",
       "      <td>0.074638</td>\n",
       "      <td>1.000000</td>\n",
       "      <td>0.150192</td>\n",
       "      <td>0.184605</td>\n",
       "      <td>0.092042</td>\n",
       "      <td>-0.013046</td>\n",
       "      <td>0.220327</td>\n",
       "      <td>0.115432</td>\n",
       "      <td>0.091688</td>\n",
       "      <td>NaN</td>\n",
       "      <td>0.082839</td>\n",
       "      <td>0.077757</td>\n",
       "    </tr>\n",
       "    <tr>\n",
       "      <th>chol</th>\n",
       "      <td>0.066972</td>\n",
       "      <td>-0.096150</td>\n",
       "      <td>0.065818</td>\n",
       "      <td>0.150192</td>\n",
       "      <td>1.000000</td>\n",
       "      <td>0.151512</td>\n",
       "      <td>0.024257</td>\n",
       "      <td>-0.041209</td>\n",
       "      <td>0.087302</td>\n",
       "      <td>0.002160</td>\n",
       "      <td>0.058552</td>\n",
       "      <td>NaN</td>\n",
       "      <td>-0.071654</td>\n",
       "      <td>0.018820</td>\n",
       "    </tr>\n",
       "    <tr>\n",
       "      <th>fbs</th>\n",
       "      <td>0.124753</td>\n",
       "      <td>-0.055341</td>\n",
       "      <td>-0.047368</td>\n",
       "      <td>0.184605</td>\n",
       "      <td>0.151512</td>\n",
       "      <td>1.000000</td>\n",
       "      <td>0.165927</td>\n",
       "      <td>0.051405</td>\n",
       "      <td>-0.213312</td>\n",
       "      <td>-0.099321</td>\n",
       "      <td>0.016262</td>\n",
       "      <td>NaN</td>\n",
       "      <td>0.026280</td>\n",
       "      <td>0.088411</td>\n",
       "    </tr>\n",
       "    <tr>\n",
       "      <th>restecg</th>\n",
       "      <td>0.002400</td>\n",
       "      <td>0.060621</td>\n",
       "      <td>0.034790</td>\n",
       "      <td>0.092042</td>\n",
       "      <td>0.024257</td>\n",
       "      <td>0.165927</td>\n",
       "      <td>1.000000</td>\n",
       "      <td>0.012348</td>\n",
       "      <td>-0.080575</td>\n",
       "      <td>-0.106991</td>\n",
       "      <td>-0.019306</td>\n",
       "      <td>NaN</td>\n",
       "      <td>0.052624</td>\n",
       "      <td>-0.059146</td>\n",
       "    </tr>\n",
       "    <tr>\n",
       "      <th>thalach</th>\n",
       "      <td>-0.149949</td>\n",
       "      <td>-0.001592</td>\n",
       "      <td>-0.123597</td>\n",
       "      <td>-0.013046</td>\n",
       "      <td>-0.041209</td>\n",
       "      <td>0.051405</td>\n",
       "      <td>0.012348</td>\n",
       "      <td>1.000000</td>\n",
       "      <td>-0.075057</td>\n",
       "      <td>0.172048</td>\n",
       "      <td>-0.122213</td>\n",
       "      <td>NaN</td>\n",
       "      <td>-0.203311</td>\n",
       "      <td>-0.041842</td>\n",
       "    </tr>\n",
       "    <tr>\n",
       "      <th>exang</th>\n",
       "      <td>0.135050</td>\n",
       "      <td>0.016538</td>\n",
       "      <td>0.181907</td>\n",
       "      <td>0.220327</td>\n",
       "      <td>0.087302</td>\n",
       "      <td>-0.213312</td>\n",
       "      <td>-0.080575</td>\n",
       "      <td>-0.075057</td>\n",
       "      <td>1.000000</td>\n",
       "      <td>0.309593</td>\n",
       "      <td>0.109706</td>\n",
       "      <td>NaN</td>\n",
       "      <td>0.122742</td>\n",
       "      <td>0.242921</td>\n",
       "    </tr>\n",
       "    <tr>\n",
       "      <th>oldpeak</th>\n",
       "      <td>0.157087</td>\n",
       "      <td>0.097267</td>\n",
       "      <td>0.040155</td>\n",
       "      <td>0.115432</td>\n",
       "      <td>0.002160</td>\n",
       "      <td>-0.099321</td>\n",
       "      <td>-0.106991</td>\n",
       "      <td>0.172048</td>\n",
       "      <td>0.309593</td>\n",
       "      <td>1.000000</td>\n",
       "      <td>0.226364</td>\n",
       "      <td>NaN</td>\n",
       "      <td>0.090996</td>\n",
       "      <td>0.212468</td>\n",
       "    </tr>\n",
       "    <tr>\n",
       "      <th>slope</th>\n",
       "      <td>0.100039</td>\n",
       "      <td>0.088087</td>\n",
       "      <td>0.028605</td>\n",
       "      <td>0.091688</td>\n",
       "      <td>0.058552</td>\n",
       "      <td>0.016262</td>\n",
       "      <td>-0.019306</td>\n",
       "      <td>-0.122213</td>\n",
       "      <td>0.109706</td>\n",
       "      <td>0.226364</td>\n",
       "      <td>1.000000</td>\n",
       "      <td>NaN</td>\n",
       "      <td>-0.010661</td>\n",
       "      <td>0.049071</td>\n",
       "    </tr>\n",
       "    <tr>\n",
       "      <th>ca</th>\n",
       "      <td>NaN</td>\n",
       "      <td>NaN</td>\n",
       "      <td>NaN</td>\n",
       "      <td>NaN</td>\n",
       "      <td>NaN</td>\n",
       "      <td>NaN</td>\n",
       "      <td>NaN</td>\n",
       "      <td>NaN</td>\n",
       "      <td>NaN</td>\n",
       "      <td>NaN</td>\n",
       "      <td>NaN</td>\n",
       "      <td>NaN</td>\n",
       "      <td>NaN</td>\n",
       "      <td>NaN</td>\n",
       "    </tr>\n",
       "    <tr>\n",
       "      <th>thal</th>\n",
       "      <td>0.084672</td>\n",
       "      <td>-0.078866</td>\n",
       "      <td>0.055794</td>\n",
       "      <td>0.082839</td>\n",
       "      <td>-0.071654</td>\n",
       "      <td>0.026280</td>\n",
       "      <td>0.052624</td>\n",
       "      <td>-0.203311</td>\n",
       "      <td>0.122742</td>\n",
       "      <td>0.090996</td>\n",
       "      <td>-0.010661</td>\n",
       "      <td>NaN</td>\n",
       "      <td>1.000000</td>\n",
       "      <td>0.073308</td>\n",
       "    </tr>\n",
       "    <tr>\n",
       "      <th>num(target)</th>\n",
       "      <td>0.189692</td>\n",
       "      <td>0.098854</td>\n",
       "      <td>0.256614</td>\n",
       "      <td>0.077757</td>\n",
       "      <td>0.018820</td>\n",
       "      <td>0.088411</td>\n",
       "      <td>-0.059146</td>\n",
       "      <td>-0.041842</td>\n",
       "      <td>0.242921</td>\n",
       "      <td>0.212468</td>\n",
       "      <td>0.049071</td>\n",
       "      <td>NaN</td>\n",
       "      <td>0.073308</td>\n",
       "      <td>1.000000</td>\n",
       "    </tr>\n",
       "  </tbody>\n",
       "</table>\n",
       "</div>"
      ],
      "text/plain": [
       "                  age       sex        cp  trestbps      chol       fbs  \\\n",
       "age          1.000000  0.034230 -0.038280  0.181584  0.066972  0.124753   \n",
       "sex          0.034230  1.000000  0.038036  0.012585 -0.096150 -0.055341   \n",
       "cp          -0.038280  0.038036  1.000000  0.074638  0.065818 -0.047368   \n",
       "trestbps     0.181584  0.012585  0.074638  1.000000  0.150192  0.184605   \n",
       "chol         0.066972 -0.096150  0.065818  0.150192  1.000000  0.151512   \n",
       "fbs          0.124753 -0.055341 -0.047368  0.184605  0.151512  1.000000   \n",
       "restecg      0.002400  0.060621  0.034790  0.092042  0.024257  0.165927   \n",
       "thalach     -0.149949 -0.001592 -0.123597 -0.013046 -0.041209  0.051405   \n",
       "exang        0.135050  0.016538  0.181907  0.220327  0.087302 -0.213312   \n",
       "oldpeak      0.157087  0.097267  0.040155  0.115432  0.002160 -0.099321   \n",
       "slope        0.100039  0.088087  0.028605  0.091688  0.058552  0.016262   \n",
       "ca                NaN       NaN       NaN       NaN       NaN       NaN   \n",
       "thal         0.084672 -0.078866  0.055794  0.082839 -0.071654  0.026280   \n",
       "num(target)  0.189692  0.098854  0.256614  0.077757  0.018820  0.088411   \n",
       "\n",
       "              restecg   thalach     exang   oldpeak     slope  ca      thal  \\\n",
       "age          0.002400 -0.149949  0.135050  0.157087  0.100039 NaN  0.084672   \n",
       "sex          0.060621 -0.001592  0.016538  0.097267  0.088087 NaN -0.078866   \n",
       "cp           0.034790 -0.123597  0.181907  0.040155  0.028605 NaN  0.055794   \n",
       "trestbps     0.092042 -0.013046  0.220327  0.115432  0.091688 NaN  0.082839   \n",
       "chol         0.024257 -0.041209  0.087302  0.002160  0.058552 NaN -0.071654   \n",
       "fbs          0.165927  0.051405 -0.213312 -0.099321  0.016262 NaN  0.026280   \n",
       "restecg      1.000000  0.012348 -0.080575 -0.106991 -0.019306 NaN  0.052624   \n",
       "thalach      0.012348  1.000000 -0.075057  0.172048 -0.122213 NaN -0.203311   \n",
       "exang       -0.080575 -0.075057  1.000000  0.309593  0.109706 NaN  0.122742   \n",
       "oldpeak     -0.106991  0.172048  0.309593  1.000000  0.226364 NaN  0.090996   \n",
       "slope       -0.019306 -0.122213  0.109706  0.226364  1.000000 NaN -0.010661   \n",
       "ca                NaN       NaN       NaN       NaN       NaN NaN       NaN   \n",
       "thal         0.052624 -0.203311  0.122742  0.090996 -0.010661 NaN  1.000000   \n",
       "num(target) -0.059146 -0.041842  0.242921  0.212468  0.049071 NaN  0.073308   \n",
       "\n",
       "             num(target)  \n",
       "age             0.189692  \n",
       "sex             0.098854  \n",
       "cp              0.256614  \n",
       "trestbps        0.077757  \n",
       "chol            0.018820  \n",
       "fbs             0.088411  \n",
       "restecg        -0.059146  \n",
       "thalach        -0.041842  \n",
       "exang           0.242921  \n",
       "oldpeak         0.212468  \n",
       "slope           0.049071  \n",
       "ca                   NaN  \n",
       "thal            0.073308  \n",
       "num(target)     1.000000  "
      ]
     },
     "execution_count": 60,
     "metadata": {},
     "output_type": "execute_result"
    }
   ],
   "source": [
    "df.corr()"
   ]
  },
  {
   "cell_type": "code",
   "execution_count": 61,
   "metadata": {},
   "outputs": [],
   "source": [
    "#None of the columns are highly negatively correlated to the target variable,hence no need to drop any column "
   ]
  },
  {
   "cell_type": "markdown",
   "metadata": {},
   "source": [
    "# Feature Engineering part-2"
   ]
  },
  {
   "cell_type": "code",
   "execution_count": 62,
   "metadata": {},
   "outputs": [
    {
     "data": {
      "text/plain": [
       "age           -0.404091\n",
       "sex           -5.552105\n",
       "cp            -1.648734\n",
       "trestbps      -1.511363\n",
       "chol          -0.571879\n",
       "fbs            0.634130\n",
       "restecg        0.391463\n",
       "thalach        0.148515\n",
       "exang         -0.719015\n",
       "oldpeak        0.423414\n",
       "slope         -0.222767\n",
       "ca             0.000000\n",
       "thal          -4.724092\n",
       "num(target)   -1.132724\n",
       "dtype: float64"
      ]
     },
     "execution_count": 62,
     "metadata": {},
     "output_type": "execute_result"
    }
   ],
   "source": [
    "df.skew()"
   ]
  },
  {
   "cell_type": "code",
   "execution_count": 66,
   "metadata": {},
   "outputs": [
    {
     "data": {
      "text/html": [
       "<div>\n",
       "<style scoped>\n",
       "    .dataframe tbody tr th:only-of-type {\n",
       "        vertical-align: middle;\n",
       "    }\n",
       "\n",
       "    .dataframe tbody tr th {\n",
       "        vertical-align: top;\n",
       "    }\n",
       "\n",
       "    .dataframe thead th {\n",
       "        text-align: right;\n",
       "    }\n",
       "</style>\n",
       "<table border=\"1\" class=\"dataframe\">\n",
       "  <thead>\n",
       "    <tr style=\"text-align: right;\">\n",
       "      <th></th>\n",
       "      <th>age</th>\n",
       "      <th>sex</th>\n",
       "      <th>cp</th>\n",
       "      <th>trestbps</th>\n",
       "      <th>chol</th>\n",
       "      <th>fbs</th>\n",
       "      <th>restecg</th>\n",
       "      <th>thalach</th>\n",
       "      <th>exang</th>\n",
       "      <th>oldpeak</th>\n",
       "      <th>slope</th>\n",
       "      <th>ca</th>\n",
       "      <th>thal</th>\n",
       "      <th>num(target)</th>\n",
       "    </tr>\n",
       "  </thead>\n",
       "  <tbody>\n",
       "    <tr>\n",
       "      <th>0</th>\n",
       "      <td>63</td>\n",
       "      <td>1</td>\n",
       "      <td>4</td>\n",
       "      <td>140.0</td>\n",
       "      <td>260.0</td>\n",
       "      <td>0.0</td>\n",
       "      <td>1</td>\n",
       "      <td>112.0</td>\n",
       "      <td>1.0</td>\n",
       "      <td>3.0</td>\n",
       "      <td>2.000000</td>\n",
       "      <td>0.0</td>\n",
       "      <td>6.294118</td>\n",
       "      <td>1</td>\n",
       "    </tr>\n",
       "    <tr>\n",
       "      <th>1</th>\n",
       "      <td>44</td>\n",
       "      <td>1</td>\n",
       "      <td>4</td>\n",
       "      <td>130.0</td>\n",
       "      <td>209.0</td>\n",
       "      <td>0.0</td>\n",
       "      <td>1</td>\n",
       "      <td>127.0</td>\n",
       "      <td>0.0</td>\n",
       "      <td>0.0</td>\n",
       "      <td>2.132653</td>\n",
       "      <td>0.0</td>\n",
       "      <td>6.294118</td>\n",
       "      <td>0</td>\n",
       "    </tr>\n",
       "    <tr>\n",
       "      <th>2</th>\n",
       "      <td>60</td>\n",
       "      <td>1</td>\n",
       "      <td>4</td>\n",
       "      <td>132.0</td>\n",
       "      <td>218.0</td>\n",
       "      <td>0.0</td>\n",
       "      <td>1</td>\n",
       "      <td>140.0</td>\n",
       "      <td>1.0</td>\n",
       "      <td>1.5</td>\n",
       "      <td>3.000000</td>\n",
       "      <td>0.0</td>\n",
       "      <td>6.294118</td>\n",
       "      <td>1</td>\n",
       "    </tr>\n",
       "    <tr>\n",
       "      <th>3</th>\n",
       "      <td>55</td>\n",
       "      <td>1</td>\n",
       "      <td>4</td>\n",
       "      <td>142.0</td>\n",
       "      <td>228.0</td>\n",
       "      <td>0.0</td>\n",
       "      <td>1</td>\n",
       "      <td>149.0</td>\n",
       "      <td>1.0</td>\n",
       "      <td>2.5</td>\n",
       "      <td>1.000000</td>\n",
       "      <td>0.0</td>\n",
       "      <td>6.294118</td>\n",
       "      <td>1</td>\n",
       "    </tr>\n",
       "    <tr>\n",
       "      <th>4</th>\n",
       "      <td>66</td>\n",
       "      <td>1</td>\n",
       "      <td>3</td>\n",
       "      <td>110.0</td>\n",
       "      <td>213.0</td>\n",
       "      <td>1.0</td>\n",
       "      <td>2</td>\n",
       "      <td>99.0</td>\n",
       "      <td>1.0</td>\n",
       "      <td>1.3</td>\n",
       "      <td>2.000000</td>\n",
       "      <td>0.0</td>\n",
       "      <td>6.294118</td>\n",
       "      <td>0</td>\n",
       "    </tr>\n",
       "  </tbody>\n",
       "</table>\n",
       "</div>"
      ],
      "text/plain": [
       "   age  sex  cp  trestbps   chol  fbs  restecg  thalach  exang  oldpeak  \\\n",
       "0   63    1   4     140.0  260.0  0.0        1    112.0    1.0      3.0   \n",
       "1   44    1   4     130.0  209.0  0.0        1    127.0    0.0      0.0   \n",
       "2   60    1   4     132.0  218.0  0.0        1    140.0    1.0      1.5   \n",
       "3   55    1   4     142.0  228.0  0.0        1    149.0    1.0      2.5   \n",
       "4   66    1   3     110.0  213.0  1.0        2     99.0    1.0      1.3   \n",
       "\n",
       "      slope   ca      thal  num(target)  \n",
       "0  2.000000  0.0  6.294118            1  \n",
       "1  2.132653  0.0  6.294118            0  \n",
       "2  3.000000  0.0  6.294118            1  \n",
       "3  1.000000  0.0  6.294118            1  \n",
       "4  2.000000  0.0  6.294118            0  "
      ]
     },
     "execution_count": 66,
     "metadata": {},
     "output_type": "execute_result"
    }
   ],
   "source": [
    "df.head()"
   ]
  },
  {
   "cell_type": "markdown",
   "metadata": {},
   "source": [
    "# Separating training and testing dataset"
   ]
  },
  {
   "cell_type": "code",
   "execution_count": 70,
   "metadata": {},
   "outputs": [],
   "source": [
    "y=df[['num(target)']]\n",
    "x=df.drop(['num(target)'],axis=1)"
   ]
  },
  {
   "cell_type": "markdown",
   "metadata": {},
   "source": [
    "# Oversampling technique"
   ]
  },
  {
   "cell_type": "code",
   "execution_count": 71,
   "metadata": {},
   "outputs": [],
   "source": [
    "from imblearn.over_sampling import RandomOverSampler\n",
    "ros=RandomOverSampler(random_state=42)"
   ]
  },
  {
   "cell_type": "code",
   "execution_count": 72,
   "metadata": {},
   "outputs": [],
   "source": [
    "x_ovrsampled,y_oversampled=ros.fit_sample(x,y)"
   ]
  },
  {
   "cell_type": "code",
   "execution_count": 73,
   "metadata": {},
   "outputs": [
    {
     "data": {
      "text/plain": [
       "((200, 13), (298, 13))"
      ]
     },
     "execution_count": 73,
     "metadata": {},
     "output_type": "execute_result"
    }
   ],
   "source": [
    "x.shape,x_ovrsampled.shape"
   ]
  },
  {
   "cell_type": "code",
   "execution_count": 75,
   "metadata": {},
   "outputs": [
    {
     "data": {
      "text/plain": [
       "((200, 1), (298, 1))"
      ]
     },
     "execution_count": 75,
     "metadata": {},
     "output_type": "execute_result"
    }
   ],
   "source": [
    "y.shape,y_oversampled.shape"
   ]
  },
  {
   "cell_type": "code",
   "execution_count": 76,
   "metadata": {},
   "outputs": [
    {
     "data": {
      "text/plain": [
       "98"
      ]
     },
     "execution_count": 76,
     "metadata": {},
     "output_type": "execute_result"
    }
   ],
   "source": [
    "x_ovrsampled.shape[0]-x.shape[0]"
   ]
  },
  {
   "cell_type": "code",
   "execution_count": 77,
   "metadata": {},
   "outputs": [
    {
     "data": {
      "text/plain": [
       "1    149\n",
       "0    149\n",
       "Name: num(target), dtype: int64"
      ]
     },
     "execution_count": 77,
     "metadata": {},
     "output_type": "execute_result"
    }
   ],
   "source": [
    "y_oversampled['num(target)'].value_counts()"
   ]
  },
  {
   "cell_type": "markdown",
   "metadata": {},
   "source": [
    "# Removing skewness"
   ]
  },
  {
   "cell_type": "raw",
   "metadata": {},
   "source": [
    "from sklearn.preprocessing import PowerTransformer\n",
    "pt=PowerTransformer(method='yeo-johnson') # initally write code like this so you remember\n",
    "X_power=pt.fit_transform(X)\n",
    "df=pd.DataFrame(X_power,columns=X.columns)"
   ]
  },
  {
   "cell_type": "markdown",
   "metadata": {},
   "source": [
    "# Applying Log transformation to remove skewness(powertranformer used before fail due to oversampling technique applied here.error-log div by zero)"
   ]
  },
  {
   "cell_type": "code",
   "execution_count": 79,
   "metadata": {},
   "outputs": [],
   "source": [
    "for col in x_ovrsampled.columns:\n",
    "    if x_ovrsampled.skew().loc[col]>0.55:\n",
    "        x_ovrsampled[col]=np.log1p(x_ovrsampled[col])"
   ]
  },
  {
   "cell_type": "code",
   "execution_count": 81,
   "metadata": {},
   "outputs": [
    {
     "data": {
      "text/plain": [
       "age        -0.581662\n",
       "sex        -4.937038\n",
       "cp         -1.276319\n",
       "trestbps   -1.073759\n",
       "chol       -0.367869\n",
       "fbs         0.692830\n",
       "restecg     0.355469\n",
       "thalach     0.026704\n",
       "exang      -0.567132\n",
       "oldpeak     0.394765\n",
       "slope      -0.218167\n",
       "ca          0.000000\n",
       "thal       -4.865646\n",
       "dtype: float64"
      ]
     },
     "execution_count": 81,
     "metadata": {},
     "output_type": "execute_result"
    }
   ],
   "source": [
    "x_ovrsampled.skew()"
   ]
  },
  {
   "cell_type": "code",
   "execution_count": 82,
   "metadata": {},
   "outputs": [
    {
     "data": {
      "text/html": [
       "<div>\n",
       "<style scoped>\n",
       "    .dataframe tbody tr th:only-of-type {\n",
       "        vertical-align: middle;\n",
       "    }\n",
       "\n",
       "    .dataframe tbody tr th {\n",
       "        vertical-align: top;\n",
       "    }\n",
       "\n",
       "    .dataframe thead th {\n",
       "        text-align: right;\n",
       "    }\n",
       "</style>\n",
       "<table border=\"1\" class=\"dataframe\">\n",
       "  <thead>\n",
       "    <tr style=\"text-align: right;\">\n",
       "      <th></th>\n",
       "      <th>age</th>\n",
       "      <th>sex</th>\n",
       "      <th>cp</th>\n",
       "      <th>trestbps</th>\n",
       "      <th>chol</th>\n",
       "      <th>fbs</th>\n",
       "      <th>restecg</th>\n",
       "      <th>thalach</th>\n",
       "      <th>exang</th>\n",
       "      <th>oldpeak</th>\n",
       "      <th>slope</th>\n",
       "      <th>ca</th>\n",
       "      <th>thal</th>\n",
       "    </tr>\n",
       "  </thead>\n",
       "  <tbody>\n",
       "    <tr>\n",
       "      <th>0</th>\n",
       "      <td>63</td>\n",
       "      <td>1</td>\n",
       "      <td>4</td>\n",
       "      <td>140.0</td>\n",
       "      <td>260.0</td>\n",
       "      <td>0.000000</td>\n",
       "      <td>1</td>\n",
       "      <td>112.0</td>\n",
       "      <td>1.0</td>\n",
       "      <td>3.0</td>\n",
       "      <td>2.000000</td>\n",
       "      <td>0.0</td>\n",
       "      <td>6.294118</td>\n",
       "    </tr>\n",
       "    <tr>\n",
       "      <th>1</th>\n",
       "      <td>44</td>\n",
       "      <td>1</td>\n",
       "      <td>4</td>\n",
       "      <td>130.0</td>\n",
       "      <td>209.0</td>\n",
       "      <td>0.000000</td>\n",
       "      <td>1</td>\n",
       "      <td>127.0</td>\n",
       "      <td>0.0</td>\n",
       "      <td>0.0</td>\n",
       "      <td>2.132653</td>\n",
       "      <td>0.0</td>\n",
       "      <td>6.294118</td>\n",
       "    </tr>\n",
       "    <tr>\n",
       "      <th>2</th>\n",
       "      <td>60</td>\n",
       "      <td>1</td>\n",
       "      <td>4</td>\n",
       "      <td>132.0</td>\n",
       "      <td>218.0</td>\n",
       "      <td>0.000000</td>\n",
       "      <td>1</td>\n",
       "      <td>140.0</td>\n",
       "      <td>1.0</td>\n",
       "      <td>1.5</td>\n",
       "      <td>3.000000</td>\n",
       "      <td>0.0</td>\n",
       "      <td>6.294118</td>\n",
       "    </tr>\n",
       "    <tr>\n",
       "      <th>3</th>\n",
       "      <td>55</td>\n",
       "      <td>1</td>\n",
       "      <td>4</td>\n",
       "      <td>142.0</td>\n",
       "      <td>228.0</td>\n",
       "      <td>0.000000</td>\n",
       "      <td>1</td>\n",
       "      <td>149.0</td>\n",
       "      <td>1.0</td>\n",
       "      <td>2.5</td>\n",
       "      <td>1.000000</td>\n",
       "      <td>0.0</td>\n",
       "      <td>6.294118</td>\n",
       "    </tr>\n",
       "    <tr>\n",
       "      <th>4</th>\n",
       "      <td>66</td>\n",
       "      <td>1</td>\n",
       "      <td>3</td>\n",
       "      <td>110.0</td>\n",
       "      <td>213.0</td>\n",
       "      <td>0.693147</td>\n",
       "      <td>2</td>\n",
       "      <td>99.0</td>\n",
       "      <td>1.0</td>\n",
       "      <td>1.3</td>\n",
       "      <td>2.000000</td>\n",
       "      <td>0.0</td>\n",
       "      <td>6.294118</td>\n",
       "    </tr>\n",
       "  </tbody>\n",
       "</table>\n",
       "</div>"
      ],
      "text/plain": [
       "   age  sex  cp  trestbps   chol       fbs  restecg  thalach  exang  oldpeak  \\\n",
       "0   63    1   4     140.0  260.0  0.000000        1    112.0    1.0      3.0   \n",
       "1   44    1   4     130.0  209.0  0.000000        1    127.0    0.0      0.0   \n",
       "2   60    1   4     132.0  218.0  0.000000        1    140.0    1.0      1.5   \n",
       "3   55    1   4     142.0  228.0  0.000000        1    149.0    1.0      2.5   \n",
       "4   66    1   3     110.0  213.0  0.693147        2     99.0    1.0      1.3   \n",
       "\n",
       "      slope   ca      thal  \n",
       "0  2.000000  0.0  6.294118  \n",
       "1  2.132653  0.0  6.294118  \n",
       "2  3.000000  0.0  6.294118  \n",
       "3  1.000000  0.0  6.294118  \n",
       "4  2.000000  0.0  6.294118  "
      ]
     },
     "execution_count": 82,
     "metadata": {},
     "output_type": "execute_result"
    }
   ],
   "source": [
    "x_ovrsampled.head()"
   ]
  },
  {
   "cell_type": "markdown",
   "metadata": {},
   "source": [
    "# Data scaleing"
   ]
  },
  {
   "cell_type": "code",
   "execution_count": 90,
   "metadata": {},
   "outputs": [],
   "source": [
    "#Applying Standard scalar to independent variable only\n",
    "from sklearn.preprocessing import StandardScaler\n",
    "ss=StandardScaler()\n",
    "X_scaled=ss.fit_transform(x_ovrsampled)\n",
    "x=pd.DataFrame(data=X_scaled,columns=x_ovrsampled.columns)\n"
   ]
  },
  {
   "cell_type": "markdown",
   "metadata": {},
   "source": [
    "# Model Building"
   ]
  },
  {
   "cell_type": "code",
   "execution_count": 91,
   "metadata": {},
   "outputs": [],
   "source": [
    "y=y_oversampled\n",
    "x=x"
   ]
  },
  {
   "cell_type": "code",
   "execution_count": 92,
   "metadata": {},
   "outputs": [],
   "source": [
    "from sklearn.model_selection import train_test_split,cross_val_score\n",
    "x_train,x_test,y_train,y_test=train_test_split(x,y,random_state=42,stratify=y)"
   ]
  },
  {
   "cell_type": "code",
   "execution_count": 93,
   "metadata": {},
   "outputs": [],
   "source": [
    "from sklearn.neighbors import KNeighborsClassifier\n",
    "from sklearn.svm import SVC\n",
    "from sklearn.linear_model import LogisticRegression\n",
    "from sklearn.tree import DecisionTreeClassifier\n",
    "from sklearn.naive_bayes import GaussianNB\n",
    "from sklearn.ensemble import RandomForestClassifier\n",
    "from xgboost import XGBClassifier\n",
    "from sklearn.ensemble import GradientBoostingClassifier\n",
    "from sklearn.ensemble import AdaBoostClassifier"
   ]
  },
  {
   "cell_type": "code",
   "execution_count": 94,
   "metadata": {},
   "outputs": [],
   "source": [
    "knn=KNeighborsClassifier()\n",
    "svc=SVC()\n",
    "lr=LogisticRegression()\n",
    "dt=DecisionTreeClassifier()\n",
    "\n",
    "rfc=RandomForestClassifier()\n",
    "xgb=XGBClassifier()\n",
    "gbc=GradientBoostingClassifier()\n",
    "ada=AdaBoostClassifier()"
   ]
  },
  {
   "cell_type": "code",
   "execution_count": 95,
   "metadata": {},
   "outputs": [],
   "source": [
    "models=[]\n",
    "models.append(('KNeighborsClassifier',knn))\n",
    "models.append(('SVC',svc))\n",
    "models.append(('LogisticRegression',lr))\n",
    "models.append(('DecisionTreeClassifier',dt))\n",
    "\n",
    "models.append(('RandomForestClassifier',rfc))\n",
    "models.append(('XGBClassifier',xgb))\n",
    "models.append(('GradientBoostingClassifier',gbc))\n",
    "models.append(('AdaBoostClassifier',ada))"
   ]
  },
  {
   "cell_type": "code",
   "execution_count": 96,
   "metadata": {},
   "outputs": [],
   "source": [
    "from sklearn.metrics import classification_report,confusion_matrix,accuracy_score,roc_curve,auc,recall_score"
   ]
  },
  {
   "cell_type": "code",
   "execution_count": 97,
   "metadata": {},
   "outputs": [
    {
     "name": "stdout",
     "output_type": "stream",
     "text": [
      "***************** KNeighborsClassifier *******************\n",
      "\n",
      "\n",
      "KNeighborsClassifier()\n",
      "\n",
      "\n",
      "Accuracy_score  - 0.7733333333333333\n",
      "\n",
      "\n",
      "cross_val_score  - 0.7050574712643678\n",
      "\n",
      "\n",
      "Recall_score  - 0.8108108108108109\n",
      "\n",
      "\n",
      "classification report\n",
      "               precision    recall  f1-score   support\n",
      "\n",
      "           0       0.80      0.74      0.77        38\n",
      "           1       0.75      0.81      0.78        37\n",
      "\n",
      "    accuracy                           0.77        75\n",
      "   macro avg       0.78      0.77      0.77        75\n",
      "weighted avg       0.78      0.77      0.77        75\n",
      "\n",
      "\n",
      "\n",
      "[[28 10]\n",
      " [ 7 30]]\n",
      "\n",
      "\n",
      "***************** SVC *******************\n",
      "\n",
      "\n",
      "SVC()\n",
      "\n",
      "\n",
      "Accuracy_score  - 0.8133333333333334\n",
      "\n",
      "\n",
      "cross_val_score  - 0.7954022988505748\n",
      "\n",
      "\n",
      "Recall_score  - 0.8648648648648649\n",
      "\n",
      "\n",
      "classification report\n",
      "               precision    recall  f1-score   support\n",
      "\n",
      "           0       0.85      0.76      0.81        38\n",
      "           1       0.78      0.86      0.82        37\n",
      "\n",
      "    accuracy                           0.81        75\n",
      "   macro avg       0.82      0.81      0.81        75\n",
      "weighted avg       0.82      0.81      0.81        75\n",
      "\n",
      "\n",
      "\n",
      "[[29  9]\n",
      " [ 5 32]]\n",
      "\n",
      "\n",
      "***************** LogisticRegression *******************\n",
      "\n",
      "\n",
      "LogisticRegression()\n",
      "\n",
      "\n",
      "Accuracy_score  - 0.6133333333333333\n",
      "\n",
      "\n",
      "cross_val_score  - 0.6472413793103449\n",
      "\n",
      "\n",
      "Recall_score  - 0.7027027027027027\n",
      "\n",
      "\n",
      "classification report\n",
      "               precision    recall  f1-score   support\n",
      "\n",
      "           0       0.65      0.53      0.58        38\n",
      "           1       0.59      0.70      0.64        37\n",
      "\n",
      "    accuracy                           0.61        75\n",
      "   macro avg       0.62      0.61      0.61        75\n",
      "weighted avg       0.62      0.61      0.61        75\n",
      "\n",
      "\n",
      "\n",
      "[[20 18]\n",
      " [11 26]]\n",
      "\n",
      "\n",
      "***************** DecisionTreeClassifier *******************\n",
      "\n",
      "\n",
      "DecisionTreeClassifier()\n",
      "\n",
      "\n",
      "Accuracy_score  - 0.88\n",
      "\n",
      "\n",
      "cross_val_score  - 0.8994252873563218\n",
      "\n",
      "\n",
      "Recall_score  - 0.8378378378378378\n",
      "\n",
      "\n",
      "classification report\n",
      "               precision    recall  f1-score   support\n",
      "\n",
      "           0       0.85      0.92      0.89        38\n",
      "           1       0.91      0.84      0.87        37\n",
      "\n",
      "    accuracy                           0.88        75\n",
      "   macro avg       0.88      0.88      0.88        75\n",
      "weighted avg       0.88      0.88      0.88        75\n",
      "\n",
      "\n",
      "\n",
      "[[35  3]\n",
      " [ 6 31]]\n",
      "\n",
      "\n",
      "***************** RandomForestClassifier *******************\n",
      "\n",
      "\n",
      "RandomForestClassifier()\n",
      "\n",
      "\n",
      "Accuracy_score  - 0.8933333333333333\n",
      "\n",
      "\n",
      "cross_val_score  - 0.9194252873563219\n",
      "\n",
      "\n",
      "Recall_score  - 0.8648648648648649\n",
      "\n",
      "\n",
      "classification report\n",
      "               precision    recall  f1-score   support\n",
      "\n",
      "           0       0.88      0.92      0.90        38\n",
      "           1       0.91      0.86      0.89        37\n",
      "\n",
      "    accuracy                           0.89        75\n",
      "   macro avg       0.89      0.89      0.89        75\n",
      "weighted avg       0.89      0.89      0.89        75\n",
      "\n",
      "\n",
      "\n",
      "[[35  3]\n",
      " [ 5 32]]\n",
      "\n",
      "\n",
      "***************** XGBClassifier *******************\n",
      "\n",
      "\n",
      "XGBClassifier(base_score=0.5, booster='gbtree', colsample_bylevel=1,\n",
      "              colsample_bynode=1, colsample_bytree=1, gamma=0, gpu_id=-1,\n",
      "              importance_type='gain', interaction_constraints='',\n",
      "              learning_rate=0.300000012, max_delta_step=0, max_depth=6,\n",
      "              min_child_weight=1, missing=nan, monotone_constraints='()',\n",
      "              n_estimators=100, n_jobs=0, num_parallel_tree=1, random_state=0,\n",
      "              reg_alpha=0, reg_lambda=1, scale_pos_weight=1, subsample=1,\n",
      "              tree_method='exact', validate_parameters=1, verbosity=None)\n",
      "\n",
      "\n",
      "Accuracy_score  - 0.8533333333333334\n",
      "\n",
      "\n",
      "cross_val_score  - 0.8788505747126436\n",
      "\n",
      "\n",
      "Recall_score  - 0.7837837837837838\n",
      "\n",
      "\n",
      "classification report\n",
      "               precision    recall  f1-score   support\n",
      "\n",
      "           0       0.81      0.92      0.86        38\n",
      "           1       0.91      0.78      0.84        37\n",
      "\n",
      "    accuracy                           0.85        75\n",
      "   macro avg       0.86      0.85      0.85        75\n",
      "weighted avg       0.86      0.85      0.85        75\n",
      "\n",
      "\n",
      "\n",
      "[[35  3]\n",
      " [ 8 29]]\n",
      "\n",
      "\n",
      "***************** GradientBoostingClassifier *******************\n",
      "\n",
      "\n",
      "GradientBoostingClassifier()\n",
      "\n",
      "\n",
      "Accuracy_score  - 0.84\n",
      "\n",
      "\n",
      "cross_val_score  - 0.8657471264367815\n",
      "\n",
      "\n",
      "Recall_score  - 0.7567567567567568\n",
      "\n",
      "\n",
      "classification report\n",
      "               precision    recall  f1-score   support\n",
      "\n",
      "           0       0.80      0.92      0.85        38\n",
      "           1       0.90      0.76      0.82        37\n",
      "\n",
      "    accuracy                           0.84        75\n",
      "   macro avg       0.85      0.84      0.84        75\n",
      "weighted avg       0.85      0.84      0.84        75\n",
      "\n",
      "\n",
      "\n",
      "[[35  3]\n",
      " [ 9 28]]\n",
      "\n",
      "\n",
      "***************** AdaBoostClassifier *******************\n",
      "\n",
      "\n",
      "AdaBoostClassifier()\n",
      "\n",
      "\n",
      "Accuracy_score  - 0.72\n",
      "\n",
      "\n",
      "cross_val_score  - 0.7419540229885058\n",
      "\n",
      "\n",
      "Recall_score  - 0.6756756756756757\n",
      "\n",
      "\n",
      "classification report\n",
      "               precision    recall  f1-score   support\n",
      "\n",
      "           0       0.71      0.76      0.73        38\n",
      "           1       0.74      0.68      0.70        37\n",
      "\n",
      "    accuracy                           0.72        75\n",
      "   macro avg       0.72      0.72      0.72        75\n",
      "weighted avg       0.72      0.72      0.72        75\n",
      "\n",
      "\n",
      "\n",
      "[[29  9]\n",
      " [12 25]]\n",
      "\n",
      "\n"
     ]
    }
   ],
   "source": [
    "Model=[]\n",
    "score=[]\n",
    "cv=[]\n",
    "rocscore=[]\n",
    "recall=[]\n",
    "for name,model in models:\n",
    "    print('*****************',name,'*******************')\n",
    "    print('\\n')\n",
    "    Model.append(name)\n",
    "    model.fit(x_train,y_train)\n",
    "    print(model)\n",
    "    pre=model.predict(x_test)\n",
    "    print('\\n')\n",
    "    AS=accuracy_score(y_test,pre)\n",
    "    print('Accuracy_score  -',AS)\n",
    "    score.append(AS*100)\n",
    "    print('\\n')\n",
    "    sc=cross_val_score(model,x,y,cv=10,scoring='accuracy').mean()\n",
    "    print('cross_val_score  -',sc)\n",
    "    cv.append(sc*100)\n",
    "    print('\\n')\n",
    "    \n",
    "        \n",
    "    re=recall_score(y_test,pre)\n",
    "    print('Recall_score  -',re.mean())\n",
    "    recall.append((re.mean())*100)\n",
    "    print('\\n')\n",
    "    \n",
    "    print('classification report\\n',classification_report(y_test,pre))\n",
    "    print('\\n')\n",
    "    cm=confusion_matrix(y_test,pre)\n",
    "    print(cm)\n",
    "    print('\\n')\n",
    "    \n",
    "    "
   ]
  },
  {
   "cell_type": "code",
   "execution_count": 98,
   "metadata": {},
   "outputs": [
    {
     "data": {
      "text/html": [
       "<div>\n",
       "<style scoped>\n",
       "    .dataframe tbody tr th:only-of-type {\n",
       "        vertical-align: middle;\n",
       "    }\n",
       "\n",
       "    .dataframe tbody tr th {\n",
       "        vertical-align: top;\n",
       "    }\n",
       "\n",
       "    .dataframe thead th {\n",
       "        text-align: right;\n",
       "    }\n",
       "</style>\n",
       "<table border=\"1\" class=\"dataframe\">\n",
       "  <thead>\n",
       "    <tr style=\"text-align: right;\">\n",
       "      <th></th>\n",
       "      <th>Model</th>\n",
       "      <th>Accuracy_score</th>\n",
       "      <th>Recall_score</th>\n",
       "      <th>Cross_val_score</th>\n",
       "    </tr>\n",
       "  </thead>\n",
       "  <tbody>\n",
       "    <tr>\n",
       "      <th>0</th>\n",
       "      <td>KNeighborsClassifier</td>\n",
       "      <td>77.333333</td>\n",
       "      <td>81.081081</td>\n",
       "      <td>70.505747</td>\n",
       "    </tr>\n",
       "    <tr>\n",
       "      <th>1</th>\n",
       "      <td>SVC</td>\n",
       "      <td>81.333333</td>\n",
       "      <td>86.486486</td>\n",
       "      <td>79.540230</td>\n",
       "    </tr>\n",
       "    <tr>\n",
       "      <th>2</th>\n",
       "      <td>LogisticRegression</td>\n",
       "      <td>61.333333</td>\n",
       "      <td>70.270270</td>\n",
       "      <td>64.724138</td>\n",
       "    </tr>\n",
       "    <tr>\n",
       "      <th>3</th>\n",
       "      <td>DecisionTreeClassifier</td>\n",
       "      <td>88.000000</td>\n",
       "      <td>83.783784</td>\n",
       "      <td>89.942529</td>\n",
       "    </tr>\n",
       "    <tr>\n",
       "      <th>4</th>\n",
       "      <td>RandomForestClassifier</td>\n",
       "      <td>89.333333</td>\n",
       "      <td>86.486486</td>\n",
       "      <td>91.942529</td>\n",
       "    </tr>\n",
       "    <tr>\n",
       "      <th>5</th>\n",
       "      <td>XGBClassifier</td>\n",
       "      <td>85.333333</td>\n",
       "      <td>78.378378</td>\n",
       "      <td>87.885057</td>\n",
       "    </tr>\n",
       "    <tr>\n",
       "      <th>6</th>\n",
       "      <td>GradientBoostingClassifier</td>\n",
       "      <td>84.000000</td>\n",
       "      <td>75.675676</td>\n",
       "      <td>86.574713</td>\n",
       "    </tr>\n",
       "    <tr>\n",
       "      <th>7</th>\n",
       "      <td>AdaBoostClassifier</td>\n",
       "      <td>72.000000</td>\n",
       "      <td>67.567568</td>\n",
       "      <td>74.195402</td>\n",
       "    </tr>\n",
       "  </tbody>\n",
       "</table>\n",
       "</div>"
      ],
      "text/plain": [
       "                        Model  Accuracy_score  Recall_score  Cross_val_score\n",
       "0        KNeighborsClassifier       77.333333     81.081081        70.505747\n",
       "1                         SVC       81.333333     86.486486        79.540230\n",
       "2          LogisticRegression       61.333333     70.270270        64.724138\n",
       "3      DecisionTreeClassifier       88.000000     83.783784        89.942529\n",
       "4      RandomForestClassifier       89.333333     86.486486        91.942529\n",
       "5               XGBClassifier       85.333333     78.378378        87.885057\n",
       "6  GradientBoostingClassifier       84.000000     75.675676        86.574713\n",
       "7          AdaBoostClassifier       72.000000     67.567568        74.195402"
      ]
     },
     "execution_count": 98,
     "metadata": {},
     "output_type": "execute_result"
    }
   ],
   "source": [
    "result=pd.DataFrame({'Model':Model,'Accuracy_score':score,'Recall_score':recall,'Cross_val_score':cv})\n",
    "result"
   ]
  },
  {
   "cell_type": "code",
   "execution_count": 45,
   "metadata": {},
   "outputs": [],
   "source": [
    "#We can see from the table RandomForestClassifier is the best performing Algorithms.\n",
    "#to improve the score we will apply gridsearchcv technique to the top the performing models."
   ]
  },
  {
   "cell_type": "code",
   "execution_count": 46,
   "metadata": {},
   "outputs": [],
   "source": [
    "#First lets calculate the random state of the models at which they perform the best.\n",
    "#Then we will select the top3 models and do gridsearchcv on them to attain our target score of 90%."
   ]
  },
  {
   "cell_type": "markdown",
   "metadata": {},
   "source": [
    "# Finding the best random_state for all models"
   ]
  },
  {
   "cell_type": "code",
   "execution_count": 99,
   "metadata": {},
   "outputs": [],
   "source": [
    "from sklearn.model_selection import train_test_split\n",
    "from sklearn.metrics import roc_auc_score,recall_score\n",
    "from sklearn.linear_model import LogisticRegression\n",
    "def maxaccuracy_score(model,x,y):\n",
    "    max_accuracy=0\n",
    "    for r_state in range(42,101):\n",
    "        \n",
    "        x_train,x_test,y_train,y_test=train_test_split(x,y,random_state=r_state,stratify=y)\n",
    "        model.fit(x_train,y_train)\n",
    "        pred=model.predict(x_test)\n",
    "        score=accuracy_score(y_test,pred)\n",
    "        \n",
    "        if score>max_accuracy:\n",
    "            max_accuracy=score\n",
    "            final_r_state=r_state\n",
    "    print('max_accuracy_score is at random_state  ',final_r_state,'  which is  ',max_accuracy)\n",
    "    return final_r_state"
   ]
  },
  {
   "cell_type": "code",
   "execution_count": 100,
   "metadata": {},
   "outputs": [
    {
     "name": "stdout",
     "output_type": "stream",
     "text": [
      "max_accuracy_score is at random_state   76   which is   0.8133333333333334\n",
      "knn 76\n",
      "max_accuracy_score is at random_state   79   which is   0.8933333333333333\n",
      "svc 79\n",
      "max_accuracy_score is at random_state   50   which is   0.7733333333333333\n",
      "lr 50\n",
      "max_accuracy_score is at random_state   54   which is   0.9333333333333333\n",
      "dt 54\n",
      "max_accuracy_score is at random_state   79   which is   0.9733333333333334\n",
      "rfc 79\n",
      "max_accuracy_score is at random_state   74   which is   0.9466666666666667\n",
      "xgb 74\n",
      "max_accuracy_score is at random_state   79   which is   0.92\n",
      "gbc 79\n",
      "max_accuracy_score is at random_state   70   which is   0.8266666666666667\n",
      "ada 70\n"
     ]
    }
   ],
   "source": [
    "print('knn',maxaccuracy_score(knn,x,y))\n",
    "print('svc',maxaccuracy_score(svc,x,y))\n",
    "print('lr',maxaccuracy_score(lr,x,y))\n",
    "print('dt',maxaccuracy_score(dt,x,y))\n",
    "\n",
    "print('rfc',maxaccuracy_score(rfc,x,y))\n",
    "print('xgb',maxaccuracy_score(xgb,x,y))\n",
    "print('gbc',maxaccuracy_score(gbc,x,y))\n",
    "print('ada',maxaccuracy_score(ada,x,y))"
   ]
  },
  {
   "cell_type": "raw",
   "metadata": {},
   "source": [
    "\n",
    "#Seleting the top3 performing models for gridsearchcv\n",
    "\n",
    "model1->XGBClassifier(random_state=74)=94.66%\n",
    "model2->GradientBoostingClassifier(random_state=79)92%\n",
    "model3->RandomForestClassifier(random_state=79)97.33%\n",
    " "
   ]
  },
  {
   "cell_type": "markdown",
   "metadata": {},
   "source": [
    "# Gridsearchcv for top 3 performing models"
   ]
  },
  {
   "cell_type": "markdown",
   "metadata": {},
   "source": [
    "# model1->XGBClassifier(random_state=74)=94.66%"
   ]
  },
  {
   "cell_type": "code",
   "execution_count": 101,
   "metadata": {},
   "outputs": [],
   "source": [
    "x_train,x_test,y_train,y_test=train_test_split(x,y,random_state=74,stratify=y)\n",
    "xgb=XGBClassifier()"
   ]
  },
  {
   "cell_type": "code",
   "execution_count": 102,
   "metadata": {},
   "outputs": [
    {
     "data": {
      "text/plain": [
       "{'colsample_bytree': 0.8, 'learning_rate': 0.2, 'max_depth': 8}"
      ]
     },
     "execution_count": 102,
     "metadata": {},
     "output_type": "execute_result"
    }
   ],
   "source": [
    "from sklearn.model_selection import GridSearchCV\n",
    "parameters=[{'learning_rate':[0.1,0.2,0.3,0.4],'max_depth':[3,4,5,6,7,8],'colsample_bytree':[0.5,0.6,0.7,0.8,0.9]}]\n",
    "            \n",
    "gscv=GridSearchCV(xgb,parameters,scoring='recall',n_jobs=-1,cv=5)\n",
    "gscv_search=gscv.fit(x,y)\n",
    "gscv_search.best_params_"
   ]
  },
  {
   "cell_type": "code",
   "execution_count": 103,
   "metadata": {},
   "outputs": [
    {
     "name": "stdout",
     "output_type": "stream",
     "text": [
      "recall_score=   1.0\n",
      "roc_score= 1.0\n"
     ]
    }
   ],
   "source": [
    "x_train,x_test,y_train,y_test=train_test_split(x,y,random_state=87)\n",
    "xgb=XGBClassifier(colsample_bytree=0.8, learning_rate=0.2, max_depth=8)\n",
    "xgb.fit(x,y)\n",
    "pred=xgb.predict(x_test)\n",
    "print('recall_score=  ',recall_score(y_test,pred))\n",
    "print('roc_score='     ,roc_auc_score(y_test,pred))"
   ]
  },
  {
   "cell_type": "code",
   "execution_count": 104,
   "metadata": {},
   "outputs": [
    {
     "name": "stdout",
     "output_type": "stream",
     "text": [
      "cross_val_scores=   0.7981609195402298\n"
     ]
    },
    {
     "data": {
      "text/plain": [
       "array([[147,  30],\n",
       "       [  2, 119]], dtype=int64)"
      ]
     },
     "execution_count": 104,
     "metadata": {},
     "output_type": "execute_result"
    }
   ],
   "source": [
    "#Cross validating the model and checking the cross_val_score,model giving highest score will be choosen as final model.\n",
    "from sklearn.model_selection import cross_val_predict\n",
    "xgb=XGBClassifier(colsample_bytree=0.8, learning_rate=0.2, max_depth=8)\n",
    "cvs=cross_val_score(xgb,x,y,scoring='recall',cv=5)\n",
    "print('cross_val_scores=  ',cvs.mean())\n",
    "y_pred=cross_val_predict(xgb,x,y,cv=5)\n",
    "conf_mat=confusion_matrix(y_pred,y)\n",
    "conf_mat"
   ]
  },
  {
   "cell_type": "markdown",
   "metadata": {},
   "source": [
    "# model2->GradientBoostingClassifier(random_state=79)92%"
   ]
  },
  {
   "cell_type": "code",
   "execution_count": 105,
   "metadata": {},
   "outputs": [],
   "source": [
    "gbc=GradientBoostingClassifier()\n",
    "x_train,x_test,y_train,y_test=train_test_split(x,y,random_state=79,stratify=y)"
   ]
  },
  {
   "cell_type": "code",
   "execution_count": 106,
   "metadata": {},
   "outputs": [
    {
     "data": {
      "text/plain": [
       "{'learning_rate': 0.1, 'max_depth': 7, 'n_estimators': 100}"
      ]
     },
     "execution_count": 106,
     "metadata": {},
     "output_type": "execute_result"
    }
   ],
   "source": [
    "parameters=[{'max_depth':[5,7,9,10],'learning_rate':[1,0.1,0.001],'n_estimators':[100,250,500]}]\n",
    "            \n",
    "grid_search=GridSearchCV(gbc,parameters,scoring='recall',n_jobs=-1,cv=5)\n",
    "grid_search=grid_search.fit(x_train,y_train)\n",
    "grid_search.best_params_ "
   ]
  },
  {
   "cell_type": "code",
   "execution_count": 107,
   "metadata": {},
   "outputs": [
    {
     "name": "stdout",
     "output_type": "stream",
     "text": [
      "Accuracy_score=   0.9466666666666667\n",
      "recall_score=   0.5789473684210527\n",
      "roc_score= 0.519203413940256\n"
     ]
    }
   ],
   "source": [
    "x_train,x_test,y_train,y_test=train_test_split(x,y,random_state=79,stratify=y)\n",
    "gbc=GradientBoostingClassifier(learning_rate=0.1,max_depth=7,n_estimators=100)\n",
    "gbc.fit(x_train,y_train)\n",
    "pred_gbc=gbc.predict(x_test)\n",
    "score=accuracy_score(y_test,pred_gbc)\n",
    "print('Accuracy_score=  ',score)\n",
    "print('recall_score=  ',recall_score(y_test,pred))\n",
    "print('roc_score='     ,roc_auc_score(y_test,pred))"
   ]
  },
  {
   "cell_type": "code",
   "execution_count": 108,
   "metadata": {},
   "outputs": [
    {
     "name": "stdout",
     "output_type": "stream",
     "text": [
      "cross_val_scores=   0.7848275862068965\n"
     ]
    },
    {
     "data": {
      "text/plain": [
       "array([[146,  36],\n",
       "       [  3, 113]], dtype=int64)"
      ]
     },
     "execution_count": 108,
     "metadata": {},
     "output_type": "execute_result"
    }
   ],
   "source": [
    "#Cross validating the model and checking the cross_val_score,model giving highest score will be choosen as final model.\n",
    "from sklearn.model_selection import cross_val_predict\n",
    "gbc=GradientBoostingClassifier(learning_rate=0.1,max_depth=7,n_estimators=100)\n",
    "cvs=cross_val_score(gbc,x,y,scoring='recall',cv=5)\n",
    "print('cross_val_scores=  ',cvs.mean())\n",
    "y_pred=cross_val_predict(gbc,x,y,cv=5)\n",
    "conf_mat=confusion_matrix(y_pred,y)\n",
    "conf_mat"
   ]
  },
  {
   "cell_type": "markdown",
   "metadata": {},
   "source": [
    "# model3->RandomForestClassifier(random_state=79)97.33%"
   ]
  },
  {
   "cell_type": "code",
   "execution_count": 109,
   "metadata": {},
   "outputs": [],
   "source": [
    "rfc=RandomForestClassifier()\n",
    "x_train,x_test,y_train,y_test=train_test_split(x,y,random_state=79,stratify=y)"
   ]
  },
  {
   "cell_type": "code",
   "execution_count": 110,
   "metadata": {},
   "outputs": [
    {
     "data": {
      "text/plain": [
       "{'criterion': 'gini',\n",
       " 'max_depth': 10,\n",
       " 'min_samples_leaf': 1,\n",
       " 'n_estimators': 500}"
      ]
     },
     "execution_count": 110,
     "metadata": {},
     "output_type": "execute_result"
    }
   ],
   "source": [
    "parameters=[{'max_depth':[5,7,9,10],'min_samples_leaf':[1,2],\n",
    "            'criterion':['gini','entropy'], 'n_estimators':[100,250,500]}]\n",
    "            \n",
    "grid_search=GridSearchCV(rfc,parameters,scoring='accuracy',n_jobs=-1,cv=5)\n",
    "grid_search=grid_search.fit(x_train,y_train)\n",
    "grid_search.best_params_ "
   ]
  },
  {
   "cell_type": "code",
   "execution_count": 111,
   "metadata": {},
   "outputs": [
    {
     "name": "stdout",
     "output_type": "stream",
     "text": [
      "Accuracy_score=   0.88\n",
      "recall_score=   0.5263157894736842\n",
      "roc_score= 0.4658605974395448\n"
     ]
    }
   ],
   "source": [
    "x_train,x_test,y_train,y_test=train_test_split(x,y,random_state=56,stratify=y)\n",
    "rfc=RandomForestClassifier(criterion='gini',max_depth=10,min_samples_leaf=1,n_estimators=500)\n",
    "rfc.fit(x_train,y_train)\n",
    "pred_rfc=rfc.predict(x_test)\n",
    "score=accuracy_score(y_test,pred_rfc)\n",
    "print('Accuracy_score=  ',score)\n",
    "print('recall_score=  ',recall_score(y_test,pred))\n",
    "print('roc_score='     ,roc_auc_score(y_test,pred))"
   ]
  },
  {
   "cell_type": "code",
   "execution_count": 113,
   "metadata": {},
   "outputs": [
    {
     "name": "stdout",
     "output_type": "stream",
     "text": [
      "cross_val_scores=   0.771264367816092\n"
     ]
    },
    {
     "data": {
      "text/plain": [
       "array([[147,  31],\n",
       "       [  2, 118]], dtype=int64)"
      ]
     },
     "execution_count": 113,
     "metadata": {},
     "output_type": "execute_result"
    }
   ],
   "source": [
    "#Cross validating the model and checking the cross_val_score,model giving highest score will be choosen as final model.\n",
    "from sklearn.model_selection import cross_val_predict\n",
    "rfc=RandomForestClassifier(criterion='gini',max_depth=10,min_samples_leaf=1,n_estimators=500)\n",
    "cvs=cross_val_score(rfc,x,y,scoring='recall',cv=5)\n",
    "print('cross_val_scores=  ',cvs.mean())\n",
    "y_pred=cross_val_predict(rfc,x,y,cv=5)\n",
    "conf_mat=confusion_matrix(y_pred,y)\n",
    "conf_mat"
   ]
  },
  {
   "cell_type": "markdown",
   "metadata": {},
   "source": [
    "# saving the final XgboostClassifier model"
   ]
  },
  {
   "cell_type": "code",
   "execution_count": 114,
   "metadata": {},
   "outputs": [
    {
     "name": "stdout",
     "output_type": "stream",
     "text": [
      "recall_score=   1.0\n",
      "roc_score= 1.0\n"
     ]
    }
   ],
   "source": [
    "#From all the models tried above XgboostClassifier performs the best.\n",
    "#At random_state=87\n",
    "x_train,x_test,y_train,y_test=train_test_split(x,y,random_state=87)\n",
    "xgb=XGBClassifier(colsample_bytree=0.8, learning_rate=0.2, max_depth=8)\n",
    "xgb.fit(x,y)\n",
    "pred=xgb.predict(x_test)\n",
    "print('recall_score=  ',recall_score(y_test,pred))\n",
    "print('roc_score='     ,roc_auc_score(y_test,pred))\n"
   ]
  },
  {
   "cell_type": "code",
   "execution_count": 120,
   "metadata": {},
   "outputs": [
    {
     "name": "stdout",
     "output_type": "stream",
     "text": [
      "cross_val_scores=   0.7981609195402298\n"
     ]
    },
    {
     "data": {
      "text/plain": [
       "array([[147,  30],\n",
       "       [  2, 119]], dtype=int64)"
      ]
     },
     "execution_count": 120,
     "metadata": {},
     "output_type": "execute_result"
    }
   ],
   "source": [
    "#Cross validating the model and checking the cross_val_score,model giving highest score will be choosen as final model.\n",
    "from sklearn.model_selection import cross_val_predict\n",
    "xgb=XGBClassifier(colsample_bytree=0.8, learning_rate=0.2, max_depth=8)\n",
    "xgb.fit(x,y)\n",
    "cvs=cross_val_score(xgb,x,y,scoring='recall',cv=5)\n",
    "print('cross_val_scores=  ',cvs.mean())\n",
    "y_pred=cross_val_predict(xgb,x,y,cv=5)\n",
    "conf_mat=confusion_matrix(y_pred,y)\n",
    "conf_mat"
   ]
  },
  {
   "cell_type": "code",
   "execution_count": 121,
   "metadata": {},
   "outputs": [
    {
     "data": {
      "text/plain": [
       "['project5-heartdiseaseriv-1.obj']"
      ]
     },
     "execution_count": 121,
     "metadata": {},
     "output_type": "execute_result"
    }
   ],
   "source": [
    "import joblib\n",
    "joblib.dump(xgb,'project5-heartdiseaseriv-1.obj')"
   ]
  },
  {
   "cell_type": "code",
   "execution_count": 122,
   "metadata": {},
   "outputs": [],
   "source": [
    "model=joblib.load('project5-heartdiseaseriv-1.obj')"
   ]
  },
  {
   "cell_type": "code",
   "execution_count": 123,
   "metadata": {},
   "outputs": [
    {
     "data": {
      "text/html": [
       "<div>\n",
       "<style scoped>\n",
       "    .dataframe tbody tr th:only-of-type {\n",
       "        vertical-align: middle;\n",
       "    }\n",
       "\n",
       "    .dataframe tbody tr th {\n",
       "        vertical-align: top;\n",
       "    }\n",
       "\n",
       "    .dataframe thead th {\n",
       "        text-align: right;\n",
       "    }\n",
       "</style>\n",
       "<table border=\"1\" class=\"dataframe\">\n",
       "  <thead>\n",
       "    <tr style=\"text-align: right;\">\n",
       "      <th></th>\n",
       "      <th>num(target)</th>\n",
       "    </tr>\n",
       "  </thead>\n",
       "  <tbody>\n",
       "    <tr>\n",
       "      <th>0</th>\n",
       "      <td>0</td>\n",
       "    </tr>\n",
       "    <tr>\n",
       "      <th>1</th>\n",
       "      <td>0</td>\n",
       "    </tr>\n",
       "    <tr>\n",
       "      <th>2</th>\n",
       "      <td>1</td>\n",
       "    </tr>\n",
       "    <tr>\n",
       "      <th>3</th>\n",
       "      <td>1</td>\n",
       "    </tr>\n",
       "    <tr>\n",
       "      <th>4</th>\n",
       "      <td>1</td>\n",
       "    </tr>\n",
       "  </tbody>\n",
       "</table>\n",
       "</div>"
      ],
      "text/plain": [
       "   num(target)\n",
       "0            0\n",
       "1            0\n",
       "2            1\n",
       "3            1\n",
       "4            1"
      ]
     },
     "execution_count": 123,
     "metadata": {},
     "output_type": "execute_result"
    }
   ],
   "source": [
    "final_predictions=model.predict(x_test)\n",
    "final_predictions=pd.DataFrame(final_predictions,columns=['num(target)'])\n",
    "final_predictions.head()"
   ]
  },
  {
   "cell_type": "markdown",
   "metadata": {},
   "source": [
    "# Saving final predictions in file.csv "
   ]
  },
  {
   "cell_type": "code",
   "execution_count": 124,
   "metadata": {},
   "outputs": [],
   "source": [
    "final_predictions.to_csv('E:\\\\final_predictionsheartdiseaseriv-1.csv',index=False)"
   ]
  },
  {
   "cell_type": "markdown",
   "metadata": {},
   "source": [
    "# Conclusion:-"
   ]
  },
  {
   "cell_type": "raw",
   "metadata": {},
   "source": [
    "\n",
    "1-A person will have heart disease(1) or not(0) can be predicted using the model above. \n",
    "2-By using sklearn(LogisticRegression)we have build a machine learning model that will predict a person                                                                                                      will have heart disease(1) or not(0)\n",
    "                                                   "
   ]
  },
  {
   "cell_type": "code",
   "execution_count": null,
   "metadata": {},
   "outputs": [],
   "source": []
  }
 ],
 "metadata": {
  "kernelspec": {
   "display_name": "Python 3",
   "language": "python",
   "name": "python3"
  },
  "language_info": {
   "codemirror_mode": {
    "name": "ipython",
    "version": 3
   },
   "file_extension": ".py",
   "mimetype": "text/x-python",
   "name": "python",
   "nbconvert_exporter": "python",
   "pygments_lexer": "ipython3",
   "version": "3.8.3"
  }
 },
 "nbformat": 4,
 "nbformat_minor": 2
}
