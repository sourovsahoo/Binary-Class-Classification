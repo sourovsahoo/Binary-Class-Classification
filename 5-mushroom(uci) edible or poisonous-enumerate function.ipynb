{
 "cells": [
  {
   "cell_type": "raw",
   "metadata": {},
   "source": [
    "Data Understanding and analysis:-\n",
    "\n",
    "This is a binary classification problem,we could use the following 2 popular metrics:\n",
    "    1:Recall\n",
    "    2:AUC-ROC(Area under the reciver operating charecteristic curve)\n",
    "    \n",
    "\n",
    "The ROC_AUC is the area under the curve when plotting the(nomalized)true positive rate(x-axis) and the false positive rate(y-axis)\n",
    "\n",
    "\n",
    "Our main metric here would be Recall value,while AUC-ROC score would take care of how well predicted probabilities are able to differantiate between the two classes\n"
   ]
  },
  {
   "cell_type": "raw",
   "metadata": {},
   "source": [
    "Here,we are looking at the recall value because, if a Edible mushroom(e) falsely marked as poisonous(p) that would not be much problem to the consumer but if a poisonous mushroom(p) is not detected perfectly then it will result in a disaster.\n"
   ]
  },
  {
   "cell_type": "raw",
   "metadata": {},
   "source": [
    "# We are to predict mushroom is edible(e)-1\n",
    "                             poisonous(p)-0"
   ]
  },
  {
   "cell_type": "code",
   "execution_count": 1,
   "metadata": {},
   "outputs": [
    {
     "name": "stderr",
     "output_type": "stream",
     "text": [
      "C:\\ProgramData\\Anaconda3\\lib\\site-packages\\sklearn\\externals\\joblib\\__init__.py:15: DeprecationWarning: sklearn.externals.joblib is deprecated in 0.21 and will be removed in 0.23. Please import this functionality directly from joblib, which can be installed with: pip install joblib. If this warning is raised when loading pickled models, you may need to re-serialize those models with scikit-learn 0.21+.\n",
      "  warnings.warn(msg, category=DeprecationWarning)\n"
     ]
    }
   ],
   "source": [
    "import numpy as np\n",
    "import pandas as pd\n",
    "import matplotlib.pyplot as plt\n",
    "import warnings\n",
    "warnings.filterwarnings('ignore')\n",
    "import seaborn as sns\n",
    "from sklearn.decomposition import PCA\n",
    "from scipy.stats import zscore\n",
    "from sklearn.preprocessing import PowerTransformer\n",
    "from sklearn.preprocessing import StandardScaler\n",
    "from sklearn.model_selection import train_test_split,cross_val_score\n",
    "\n",
    "from sklearn.neighbors import KNeighborsClassifier\n",
    "from sklearn.svm import SVC\n",
    "from sklearn.linear_model import LogisticRegression\n",
    "from sklearn.tree import DecisionTreeClassifier\n",
    "from sklearn.naive_bayes import GaussianNB\n",
    "from sklearn.ensemble import RandomForestClassifier\n",
    "from xgboost import XGBClassifier\n",
    "from sklearn.ensemble import GradientBoostingClassifier\n",
    "from sklearn.ensemble import AdaBoostClassifier\n",
    "\n",
    "from sklearn.metrics import roc_auc_score,recall_score\n",
    "from sklearn.metrics import classification_report,confusion_matrix,accuracy_score,roc_curve,auc\n",
    "\n",
    "from sklearn.model_selection import GridSearchCV\n",
    "\n",
    "from mlxtend.classifier import StackingClassifier\n",
    "\n",
    "from sklearn.externals import joblib"
   ]
  },
  {
   "cell_type": "code",
   "execution_count": 2,
   "metadata": {},
   "outputs": [],
   "source": [
    "df=pd.read_csv('mushroom.csv')\n",
    "pd.set_option('display.max_columns',None)"
   ]
  },
  {
   "cell_type": "code",
   "execution_count": 3,
   "metadata": {},
   "outputs": [
    {
     "data": {
      "text/html": [
       "<div>\n",
       "<style scoped>\n",
       "    .dataframe tbody tr th:only-of-type {\n",
       "        vertical-align: middle;\n",
       "    }\n",
       "\n",
       "    .dataframe tbody tr th {\n",
       "        vertical-align: top;\n",
       "    }\n",
       "\n",
       "    .dataframe thead th {\n",
       "        text-align: right;\n",
       "    }\n",
       "</style>\n",
       "<table border=\"1\" class=\"dataframe\">\n",
       "  <thead>\n",
       "    <tr style=\"text-align: right;\">\n",
       "      <th></th>\n",
       "      <th>target</th>\n",
       "      <th>capshape</th>\n",
       "      <th>capsurface</th>\n",
       "      <th>capcolor</th>\n",
       "      <th>bruises?</th>\n",
       "      <th>odor</th>\n",
       "      <th>gillattachment</th>\n",
       "      <th>gillspacing</th>\n",
       "      <th>gillsize</th>\n",
       "      <th>gillcolor</th>\n",
       "      <th>stalkshape</th>\n",
       "      <th>stalkroot</th>\n",
       "      <th>stalksurface abvring</th>\n",
       "      <th>stalksurface blwrng</th>\n",
       "      <th>stalkcolor abvring</th>\n",
       "      <th>stalkcolor blwrng</th>\n",
       "      <th>veil type</th>\n",
       "      <th>veil color</th>\n",
       "      <th>ring number</th>\n",
       "      <th>ring type</th>\n",
       "      <th>spore print color</th>\n",
       "      <th>population</th>\n",
       "      <th>habitat</th>\n",
       "    </tr>\n",
       "  </thead>\n",
       "  <tbody>\n",
       "    <tr>\n",
       "      <th>0</th>\n",
       "      <td>p</td>\n",
       "      <td>x</td>\n",
       "      <td>s</td>\n",
       "      <td>n</td>\n",
       "      <td>t</td>\n",
       "      <td>p</td>\n",
       "      <td>f</td>\n",
       "      <td>c</td>\n",
       "      <td>n</td>\n",
       "      <td>k</td>\n",
       "      <td>e</td>\n",
       "      <td>e</td>\n",
       "      <td>s</td>\n",
       "      <td>s</td>\n",
       "      <td>w</td>\n",
       "      <td>w</td>\n",
       "      <td>p</td>\n",
       "      <td>w</td>\n",
       "      <td>o</td>\n",
       "      <td>p</td>\n",
       "      <td>k</td>\n",
       "      <td>s</td>\n",
       "      <td>u</td>\n",
       "    </tr>\n",
       "    <tr>\n",
       "      <th>1</th>\n",
       "      <td>e</td>\n",
       "      <td>x</td>\n",
       "      <td>s</td>\n",
       "      <td>y</td>\n",
       "      <td>t</td>\n",
       "      <td>a</td>\n",
       "      <td>f</td>\n",
       "      <td>c</td>\n",
       "      <td>b</td>\n",
       "      <td>k</td>\n",
       "      <td>e</td>\n",
       "      <td>c</td>\n",
       "      <td>s</td>\n",
       "      <td>s</td>\n",
       "      <td>w</td>\n",
       "      <td>w</td>\n",
       "      <td>p</td>\n",
       "      <td>w</td>\n",
       "      <td>o</td>\n",
       "      <td>p</td>\n",
       "      <td>n</td>\n",
       "      <td>n</td>\n",
       "      <td>g</td>\n",
       "    </tr>\n",
       "    <tr>\n",
       "      <th>2</th>\n",
       "      <td>e</td>\n",
       "      <td>b</td>\n",
       "      <td>s</td>\n",
       "      <td>w</td>\n",
       "      <td>t</td>\n",
       "      <td>l</td>\n",
       "      <td>f</td>\n",
       "      <td>c</td>\n",
       "      <td>b</td>\n",
       "      <td>n</td>\n",
       "      <td>e</td>\n",
       "      <td>c</td>\n",
       "      <td>s</td>\n",
       "      <td>s</td>\n",
       "      <td>w</td>\n",
       "      <td>w</td>\n",
       "      <td>p</td>\n",
       "      <td>w</td>\n",
       "      <td>o</td>\n",
       "      <td>p</td>\n",
       "      <td>n</td>\n",
       "      <td>n</td>\n",
       "      <td>m</td>\n",
       "    </tr>\n",
       "    <tr>\n",
       "      <th>3</th>\n",
       "      <td>p</td>\n",
       "      <td>x</td>\n",
       "      <td>y</td>\n",
       "      <td>w</td>\n",
       "      <td>t</td>\n",
       "      <td>p</td>\n",
       "      <td>f</td>\n",
       "      <td>c</td>\n",
       "      <td>n</td>\n",
       "      <td>n</td>\n",
       "      <td>e</td>\n",
       "      <td>e</td>\n",
       "      <td>s</td>\n",
       "      <td>s</td>\n",
       "      <td>w</td>\n",
       "      <td>w</td>\n",
       "      <td>p</td>\n",
       "      <td>w</td>\n",
       "      <td>o</td>\n",
       "      <td>p</td>\n",
       "      <td>k</td>\n",
       "      <td>s</td>\n",
       "      <td>u</td>\n",
       "    </tr>\n",
       "    <tr>\n",
       "      <th>4</th>\n",
       "      <td>e</td>\n",
       "      <td>x</td>\n",
       "      <td>s</td>\n",
       "      <td>g</td>\n",
       "      <td>f</td>\n",
       "      <td>n</td>\n",
       "      <td>f</td>\n",
       "      <td>w</td>\n",
       "      <td>b</td>\n",
       "      <td>k</td>\n",
       "      <td>t</td>\n",
       "      <td>e</td>\n",
       "      <td>s</td>\n",
       "      <td>s</td>\n",
       "      <td>w</td>\n",
       "      <td>w</td>\n",
       "      <td>p</td>\n",
       "      <td>w</td>\n",
       "      <td>o</td>\n",
       "      <td>e</td>\n",
       "      <td>n</td>\n",
       "      <td>a</td>\n",
       "      <td>g</td>\n",
       "    </tr>\n",
       "  </tbody>\n",
       "</table>\n",
       "</div>"
      ],
      "text/plain": [
       "  target capshape capsurface capcolor bruises? odor gillattachment  \\\n",
       "0      p        x          s        n        t    p              f   \n",
       "1      e        x          s        y        t    a              f   \n",
       "2      e        b          s        w        t    l              f   \n",
       "3      p        x          y        w        t    p              f   \n",
       "4      e        x          s        g        f    n              f   \n",
       "\n",
       "  gillspacing gillsize gillcolor stalkshape stalkroot stalksurface abvring  \\\n",
       "0           c        n         k          e         e                    s   \n",
       "1           c        b         k          e         c                    s   \n",
       "2           c        b         n          e         c                    s   \n",
       "3           c        n         n          e         e                    s   \n",
       "4           w        b         k          t         e                    s   \n",
       "\n",
       "  stalksurface blwrng stalkcolor abvring stalkcolor blwrng veil type  \\\n",
       "0                   s                  w                 w         p   \n",
       "1                   s                  w                 w         p   \n",
       "2                   s                  w                 w         p   \n",
       "3                   s                  w                 w         p   \n",
       "4                   s                  w                 w         p   \n",
       "\n",
       "  veil color ring number ring type spore print color population habitat  \n",
       "0          w           o         p                 k          s       u  \n",
       "1          w           o         p                 n          n       g  \n",
       "2          w           o         p                 n          n       m  \n",
       "3          w           o         p                 k          s       u  \n",
       "4          w           o         e                 n          a       g  "
      ]
     },
     "execution_count": 3,
     "metadata": {},
     "output_type": "execute_result"
    }
   ],
   "source": [
    "df.head()"
   ]
  },
  {
   "cell_type": "markdown",
   "metadata": {},
   "source": [
    "# EDA by sweetviz library"
   ]
  },
  {
   "cell_type": "code",
   "execution_count": 4,
   "metadata": {},
   "outputs": [],
   "source": [
    "import sweetviz"
   ]
  },
  {
   "cell_type": "code",
   "execution_count": 5,
   "metadata": {},
   "outputs": [
    {
     "data": {
      "text/plain": [
       "e    4208\n",
       "p    3916\n",
       "Name: target, dtype: int64"
      ]
     },
     "execution_count": 5,
     "metadata": {},
     "output_type": "execute_result"
    }
   ],
   "source": [
    "df['target'].value_counts()"
   ]
  },
  {
   "cell_type": "code",
   "execution_count": 6,
   "metadata": {},
   "outputs": [],
   "source": [
    "df['target']=df['target'].replace(['e','p'],[1,0])"
   ]
  },
  {
   "cell_type": "code",
   "execution_count": 7,
   "metadata": {},
   "outputs": [
    {
     "name": "stderr",
     "output_type": "stream",
     "text": [
      ":FEATURES DONE:                    |█████████████████████| [100%]   00:06  -> (00:00 left)\n",
      ":PAIRWISE DONE:                    |█████████████████████| [100%]   00:06  -> (00:00 left)\n"
     ]
    },
    {
     "name": "stdout",
     "output_type": "stream",
     "text": [
      "Creating Associations graph... DONE!\n"
     ]
    }
   ],
   "source": [
    "my_report=sweetviz.analyze([df,'df'],target_feat='target')"
   ]
  },
  {
   "cell_type": "code",
   "execution_count": 8,
   "metadata": {},
   "outputs": [
    {
     "name": "stdout",
     "output_type": "stream",
     "text": [
      "Report Salaryprediction.html was generated! NOTEBOOK/COLAB USERS: no browser will pop up, the report is saved in your notebook/colab files.\n"
     ]
    }
   ],
   "source": [
    "my_report.show_html('Salaryprediction.html')"
   ]
  },
  {
   "cell_type": "markdown",
   "metadata": {},
   "source": [
    "# General data checking"
   ]
  },
  {
   "cell_type": "code",
   "execution_count": 9,
   "metadata": {},
   "outputs": [
    {
     "data": {
      "text/plain": [
       "1    4208\n",
       "0    3916\n",
       "Name: target, dtype: int64"
      ]
     },
     "execution_count": 9,
     "metadata": {},
     "output_type": "execute_result"
    }
   ],
   "source": [
    "df['target'].value_counts()"
   ]
  },
  {
   "cell_type": "code",
   "execution_count": 10,
   "metadata": {},
   "outputs": [
    {
     "data": {
      "text/plain": [
       "(8124, 23)"
      ]
     },
     "execution_count": 10,
     "metadata": {},
     "output_type": "execute_result"
    }
   ],
   "source": [
    "df.shape"
   ]
  },
  {
   "cell_type": "code",
   "execution_count": 11,
   "metadata": {},
   "outputs": [
    {
     "data": {
      "text/plain": [
       "target                   int64\n",
       "capshape                object\n",
       "capsurface              object\n",
       "capcolor                object\n",
       "bruises?                object\n",
       "odor                    object\n",
       "gillattachment          object\n",
       "gillspacing             object\n",
       "gillsize                object\n",
       "gillcolor               object\n",
       "stalkshape              object\n",
       "stalkroot               object\n",
       "stalksurface abvring    object\n",
       "stalksurface blwrng     object\n",
       "stalkcolor abvring      object\n",
       "stalkcolor blwrng       object\n",
       "veil type               object\n",
       "veil color              object\n",
       "ring number             object\n",
       "ring type               object\n",
       "spore print color       object\n",
       "population              object\n",
       "habitat                 object\n",
       "dtype: object"
      ]
     },
     "execution_count": 11,
     "metadata": {},
     "output_type": "execute_result"
    }
   ],
   "source": [
    "df.dtypes"
   ]
  },
  {
   "cell_type": "code",
   "execution_count": 12,
   "metadata": {},
   "outputs": [
    {
     "data": {
      "text/html": [
       "<div>\n",
       "<style scoped>\n",
       "    .dataframe tbody tr th:only-of-type {\n",
       "        vertical-align: middle;\n",
       "    }\n",
       "\n",
       "    .dataframe tbody tr th {\n",
       "        vertical-align: top;\n",
       "    }\n",
       "\n",
       "    .dataframe thead th {\n",
       "        text-align: right;\n",
       "    }\n",
       "</style>\n",
       "<table border=\"1\" class=\"dataframe\">\n",
       "  <thead>\n",
       "    <tr style=\"text-align: right;\">\n",
       "      <th></th>\n",
       "      <th>target</th>\n",
       "    </tr>\n",
       "  </thead>\n",
       "  <tbody>\n",
       "    <tr>\n",
       "      <th>count</th>\n",
       "      <td>8124.000000</td>\n",
       "    </tr>\n",
       "    <tr>\n",
       "      <th>mean</th>\n",
       "      <td>0.517971</td>\n",
       "    </tr>\n",
       "    <tr>\n",
       "      <th>std</th>\n",
       "      <td>0.499708</td>\n",
       "    </tr>\n",
       "    <tr>\n",
       "      <th>min</th>\n",
       "      <td>0.000000</td>\n",
       "    </tr>\n",
       "    <tr>\n",
       "      <th>25%</th>\n",
       "      <td>0.000000</td>\n",
       "    </tr>\n",
       "    <tr>\n",
       "      <th>50%</th>\n",
       "      <td>1.000000</td>\n",
       "    </tr>\n",
       "    <tr>\n",
       "      <th>75%</th>\n",
       "      <td>1.000000</td>\n",
       "    </tr>\n",
       "    <tr>\n",
       "      <th>max</th>\n",
       "      <td>1.000000</td>\n",
       "    </tr>\n",
       "  </tbody>\n",
       "</table>\n",
       "</div>"
      ],
      "text/plain": [
       "            target\n",
       "count  8124.000000\n",
       "mean      0.517971\n",
       "std       0.499708\n",
       "min       0.000000\n",
       "25%       0.000000\n",
       "50%       1.000000\n",
       "75%       1.000000\n",
       "max       1.000000"
      ]
     },
     "execution_count": 12,
     "metadata": {},
     "output_type": "execute_result"
    }
   ],
   "source": [
    "df.describe()"
   ]
  },
  {
   "cell_type": "code",
   "execution_count": 13,
   "metadata": {},
   "outputs": [
    {
     "data": {
      "text/plain": [
       "x    3656\n",
       "f    3152\n",
       "k     828\n",
       "b     452\n",
       "s      32\n",
       "c       4\n",
       "Name: capshape, dtype: int64"
      ]
     },
     "execution_count": 13,
     "metadata": {},
     "output_type": "execute_result"
    }
   ],
   "source": [
    "df['capshape'].value_counts()"
   ]
  },
  {
   "cell_type": "code",
   "execution_count": 14,
   "metadata": {},
   "outputs": [
    {
     "data": {
      "text/plain": [
       "<AxesSubplot:>"
      ]
     },
     "execution_count": 14,
     "metadata": {},
     "output_type": "execute_result"
    },
    {
     "data": {
      "image/png": "[encoded data removed]",
      "text/plain": [
       "<Figure size 600x400 with 2 Axes>"
      ]
     },
     "metadata": {},
     "output_type": "display_data"
    }
   ],
   "source": [
    "sns.heatmap(df.isnull())  "
   ]
  },
  {
   "cell_type": "code",
   "execution_count": 15,
   "metadata": {},
   "outputs": [
    {
     "data": {
      "text/plain": [
       "target                  0\n",
       "capshape                0\n",
       "capsurface              0\n",
       "capcolor                0\n",
       "bruises?                0\n",
       "odor                    0\n",
       "gillattachment          0\n",
       "gillspacing             0\n",
       "gillsize                0\n",
       "gillcolor               0\n",
       "stalkshape              0\n",
       "stalkroot               0\n",
       "stalksurface abvring    0\n",
       "stalksurface blwrng     0\n",
       "stalkcolor abvring      0\n",
       "stalkcolor blwrng       0\n",
       "veil type               0\n",
       "veil color              0\n",
       "ring number             0\n",
       "ring type               0\n",
       "spore print color       0\n",
       "population              0\n",
       "habitat                 0\n",
       "dtype: int64"
      ]
     },
     "execution_count": 15,
     "metadata": {},
     "output_type": "execute_result"
    }
   ],
   "source": [
    "df.isnull().sum()"
   ]
  },
  {
   "cell_type": "markdown",
   "metadata": {},
   "source": [
    "# EDA"
   ]
  },
  {
   "cell_type": "code",
   "execution_count": 16,
   "metadata": {},
   "outputs": [
    {
     "data": {
      "text/plain": [
       "<AxesSubplot:>"
      ]
     },
     "execution_count": 16,
     "metadata": {},
     "output_type": "execute_result"
    },
    {
     "data": {
      "image/png": "[encoded data removed]",
      "text/plain": [
       "<Figure size 600x400 with 1 Axes>"
      ]
     },
     "metadata": {},
     "output_type": "display_data"
    }
   ],
   "source": [
    "#checking for imbalanced dataset\n",
    "df['target'].value_counts().plot.bar()"
   ]
  },
  {
   "cell_type": "code",
   "execution_count": null,
   "metadata": {},
   "outputs": [],
   "source": []
  },
  {
   "cell_type": "markdown",
   "metadata": {},
   "source": [
    "# Feature engineering"
   ]
  },
  {
   "cell_type": "code",
   "execution_count": 17,
   "metadata": {},
   "outputs": [],
   "source": [
    "#Dummies can also be done,this is just to check out another method of converting categorical to numerical data type.\n",
    "#this enumerate method preserves the ordinality in the form of highest numder of occurance to lowest.\n",
    "#label encoder gives ordinality according to alphabet order.enumerate is better option than label encoder.\n",
    "#This Enumerate code does it few line of codes where as label encoder takes one line code for each categorical feature.\n",
    "\n",
    "#df=pd.get_dummies(df)----->is the best option as equal priority is given to all the categories in each categorical column."
   ]
  },
  {
   "cell_type": "code",
   "execution_count": 18,
   "metadata": {},
   "outputs": [],
   "source": [
    "categorical_features=[feature for feature in df.columns if df[feature].dtypes=='object']\n",
    "\n",
    "for feature in categorical_features:\n",
    "    labels_sorted=df[feature].value_counts().sort_values().index\n",
    "   \n",
    "    labels_ordered={k:i for i,k in enumerate(labels_sorted,0)}\n",
    "    df[feature]=df[feature].map(labels_ordered)"
   ]
  },
  {
   "cell_type": "code",
   "execution_count": 19,
   "metadata": {},
   "outputs": [
    {
     "data": {
      "text/html": [
       "<div>\n",
       "<style scoped>\n",
       "    .dataframe tbody tr th:only-of-type {\n",
       "        vertical-align: middle;\n",
       "    }\n",
       "\n",
       "    .dataframe tbody tr th {\n",
       "        vertical-align: top;\n",
       "    }\n",
       "\n",
       "    .dataframe thead th {\n",
       "        text-align: right;\n",
       "    }\n",
       "</style>\n",
       "<table border=\"1\" class=\"dataframe\">\n",
       "  <thead>\n",
       "    <tr style=\"text-align: right;\">\n",
       "      <th></th>\n",
       "      <th>target</th>\n",
       "      <th>capshape</th>\n",
       "      <th>capsurface</th>\n",
       "      <th>capcolor</th>\n",
       "      <th>bruises?</th>\n",
       "      <th>odor</th>\n",
       "      <th>gillattachment</th>\n",
       "      <th>gillspacing</th>\n",
       "      <th>gillsize</th>\n",
       "      <th>gillcolor</th>\n",
       "      <th>stalkshape</th>\n",
       "      <th>stalkroot</th>\n",
       "      <th>stalksurface abvring</th>\n",
       "      <th>stalksurface blwrng</th>\n",
       "      <th>stalkcolor abvring</th>\n",
       "      <th>stalkcolor blwrng</th>\n",
       "      <th>veil type</th>\n",
       "      <th>veil color</th>\n",
       "      <th>ring number</th>\n",
       "      <th>ring type</th>\n",
       "      <th>spore print color</th>\n",
       "      <th>population</th>\n",
       "      <th>habitat</th>\n",
       "    </tr>\n",
       "  </thead>\n",
       "  <tbody>\n",
       "    <tr>\n",
       "      <th>0</th>\n",
       "      <td>0</td>\n",
       "      <td>5</td>\n",
       "      <td>2</td>\n",
       "      <td>9</td>\n",
       "      <td>0</td>\n",
       "      <td>2</td>\n",
       "      <td>1</td>\n",
       "      <td>1</td>\n",
       "      <td>0</td>\n",
       "      <td>4</td>\n",
       "      <td>0</td>\n",
       "      <td>2</td>\n",
       "      <td>3</td>\n",
       "      <td>3</td>\n",
       "      <td>8</td>\n",
       "      <td>8</td>\n",
       "      <td>0</td>\n",
       "      <td>3</td>\n",
       "      <td>2</td>\n",
       "      <td>4</td>\n",
       "      <td>6</td>\n",
       "      <td>3</td>\n",
       "      <td>2</td>\n",
       "    </tr>\n",
       "    <tr>\n",
       "      <th>1</th>\n",
       "      <td>1</td>\n",
       "      <td>5</td>\n",
       "      <td>2</td>\n",
       "      <td>6</td>\n",
       "      <td>0</td>\n",
       "      <td>4</td>\n",
       "      <td>1</td>\n",
       "      <td>1</td>\n",
       "      <td>1</td>\n",
       "      <td>4</td>\n",
       "      <td>0</td>\n",
       "      <td>1</td>\n",
       "      <td>3</td>\n",
       "      <td>3</td>\n",
       "      <td>8</td>\n",
       "      <td>8</td>\n",
       "      <td>0</td>\n",
       "      <td>3</td>\n",
       "      <td>2</td>\n",
       "      <td>4</td>\n",
       "      <td>7</td>\n",
       "      <td>2</td>\n",
       "      <td>5</td>\n",
       "    </tr>\n",
       "    <tr>\n",
       "      <th>2</th>\n",
       "      <td>1</td>\n",
       "      <td>2</td>\n",
       "      <td>2</td>\n",
       "      <td>5</td>\n",
       "      <td>0</td>\n",
       "      <td>3</td>\n",
       "      <td>1</td>\n",
       "      <td>1</td>\n",
       "      <td>1</td>\n",
       "      <td>8</td>\n",
       "      <td>0</td>\n",
       "      <td>1</td>\n",
       "      <td>3</td>\n",
       "      <td>3</td>\n",
       "      <td>8</td>\n",
       "      <td>8</td>\n",
       "      <td>0</td>\n",
       "      <td>3</td>\n",
       "      <td>2</td>\n",
       "      <td>4</td>\n",
       "      <td>7</td>\n",
       "      <td>2</td>\n",
       "      <td>1</td>\n",
       "    </tr>\n",
       "    <tr>\n",
       "      <th>3</th>\n",
       "      <td>0</td>\n",
       "      <td>5</td>\n",
       "      <td>3</td>\n",
       "      <td>5</td>\n",
       "      <td>0</td>\n",
       "      <td>2</td>\n",
       "      <td>1</td>\n",
       "      <td>1</td>\n",
       "      <td>0</td>\n",
       "      <td>8</td>\n",
       "      <td>0</td>\n",
       "      <td>2</td>\n",
       "      <td>3</td>\n",
       "      <td>3</td>\n",
       "      <td>8</td>\n",
       "      <td>8</td>\n",
       "      <td>0</td>\n",
       "      <td>3</td>\n",
       "      <td>2</td>\n",
       "      <td>4</td>\n",
       "      <td>6</td>\n",
       "      <td>3</td>\n",
       "      <td>2</td>\n",
       "    </tr>\n",
       "    <tr>\n",
       "      <th>4</th>\n",
       "      <td>1</td>\n",
       "      <td>5</td>\n",
       "      <td>2</td>\n",
       "      <td>8</td>\n",
       "      <td>1</td>\n",
       "      <td>8</td>\n",
       "      <td>1</td>\n",
       "      <td>0</td>\n",
       "      <td>1</td>\n",
       "      <td>4</td>\n",
       "      <td>1</td>\n",
       "      <td>2</td>\n",
       "      <td>3</td>\n",
       "      <td>3</td>\n",
       "      <td>8</td>\n",
       "      <td>8</td>\n",
       "      <td>0</td>\n",
       "      <td>3</td>\n",
       "      <td>2</td>\n",
       "      <td>3</td>\n",
       "      <td>7</td>\n",
       "      <td>1</td>\n",
       "      <td>5</td>\n",
       "    </tr>\n",
       "  </tbody>\n",
       "</table>\n",
       "</div>"
      ],
      "text/plain": [
       "   target  capshape  capsurface  capcolor  bruises?  odor  gillattachment  \\\n",
       "0       0         5           2         9         0     2               1   \n",
       "1       1         5           2         6         0     4               1   \n",
       "2       1         2           2         5         0     3               1   \n",
       "3       0         5           3         5         0     2               1   \n",
       "4       1         5           2         8         1     8               1   \n",
       "\n",
       "   gillspacing  gillsize  gillcolor  stalkshape  stalkroot  \\\n",
       "0            1         0          4           0          2   \n",
       "1            1         1          4           0          1   \n",
       "2            1         1          8           0          1   \n",
       "3            1         0          8           0          2   \n",
       "4            0         1          4           1          2   \n",
       "\n",
       "   stalksurface abvring  stalksurface blwrng  stalkcolor abvring  \\\n",
       "0                     3                    3                   8   \n",
       "1                     3                    3                   8   \n",
       "2                     3                    3                   8   \n",
       "3                     3                    3                   8   \n",
       "4                     3                    3                   8   \n",
       "\n",
       "   stalkcolor blwrng  veil type  veil color  ring number  ring type  \\\n",
       "0                  8          0           3            2          4   \n",
       "1                  8          0           3            2          4   \n",
       "2                  8          0           3            2          4   \n",
       "3                  8          0           3            2          4   \n",
       "4                  8          0           3            2          3   \n",
       "\n",
       "   spore print color  population  habitat  \n",
       "0                  6           3        2  \n",
       "1                  7           2        5  \n",
       "2                  7           2        1  \n",
       "3                  6           3        2  \n",
       "4                  7           1        5  "
      ]
     },
     "execution_count": 19,
     "metadata": {},
     "output_type": "execute_result"
    }
   ],
   "source": [
    "df.head()"
   ]
  },
  {
   "cell_type": "code",
   "execution_count": 20,
   "metadata": {},
   "outputs": [
    {
     "data": {
      "text/plain": [
       "(8124, 23)"
      ]
     },
     "execution_count": 20,
     "metadata": {},
     "output_type": "execute_result"
    }
   ],
   "source": [
    "df.shape"
   ]
  },
  {
   "cell_type": "code",
   "execution_count": 21,
   "metadata": {},
   "outputs": [
    {
     "data": {
      "text/plain": [
       "target                 -0.071946\n",
       "capshape               -1.129091\n",
       "capsurface             -0.216238\n",
       "capcolor               -0.872863\n",
       "bruises?               -0.342750\n",
       "odor                   -1.445828\n",
       "gillattachment         -5.977076\n",
       "gillspacing            -1.840088\n",
       "gillsize               -0.825797\n",
       "gillcolor              -0.826891\n",
       "stalkshape             -0.271345\n",
       "stalkroot              -1.116999\n",
       "stalksurface abvring   -1.221199\n",
       "stalksurface blwrng    -1.460533\n",
       "stalkcolor abvring     -1.785206\n",
       "stalkcolor blwrng      -1.786875\n",
       "veil type               0.000000\n",
       "veil color             -7.308220\n",
       "ring number            -3.556463\n",
       "ring type              -0.883442\n",
       "spore print color      -1.234016\n",
       "population             -1.345781\n",
       "habitat                -1.210740\n",
       "dtype: float64"
      ]
     },
     "execution_count": 21,
     "metadata": {},
     "output_type": "execute_result"
    }
   ],
   "source": [
    "df.skew()"
   ]
  },
  {
   "cell_type": "markdown",
   "metadata": {},
   "source": [
    "# Segregating target and Independent variables"
   ]
  },
  {
   "cell_type": "code",
   "execution_count": 22,
   "metadata": {},
   "outputs": [],
   "source": [
    "y=df[['target']]\n",
    "X=df.drop(['target'],axis=1)"
   ]
  },
  {
   "cell_type": "markdown",
   "metadata": {},
   "source": [
    "# Removing skewness by power transformation technique"
   ]
  },
  {
   "cell_type": "code",
   "execution_count": 23,
   "metadata": {},
   "outputs": [],
   "source": [
    "from sklearn.preprocessing import PowerTransformer\n",
    "pt=PowerTransformer(method='yeo-johnson') # initally write code like this so you remember\n",
    "x_power=pt.fit_transform(X)\n",
    "x=pd.DataFrame(x_power,columns=X.columns)"
   ]
  },
  {
   "cell_type": "code",
   "execution_count": 24,
   "metadata": {},
   "outputs": [
    {
     "data": {
      "text/plain": [
       "capshape               -0.305731\n",
       "capsurface             -0.175506\n",
       "capcolor               -0.239378\n",
       "bruises?               -0.342750\n",
       "odor                   -0.656491\n",
       "gillattachment         -5.977076\n",
       "gillspacing            -1.840088\n",
       "gillsize               -0.825797\n",
       "gillcolor              -0.289066\n",
       "stalkshape             -0.271345\n",
       "stalkroot              -0.432705\n",
       "stalksurface abvring   -0.635130\n",
       "stalksurface blwrng    -0.631477\n",
       "stalkcolor abvring     -0.708396\n",
       "stalkcolor blwrng      -0.703286\n",
       "veil type               0.000000\n",
       "veil color             -6.136705\n",
       "ring number            -3.140408\n",
       "ring type              -0.318048\n",
       "spore print color      -0.186888\n",
       "population             -0.606971\n",
       "habitat                -0.480505\n",
       "dtype: float64"
      ]
     },
     "execution_count": 24,
     "metadata": {},
     "output_type": "execute_result"
    }
   ],
   "source": [
    "x.skew()"
   ]
  },
  {
   "cell_type": "code",
   "execution_count": 25,
   "metadata": {},
   "outputs": [
    {
     "data": {
      "text/html": [
       "<div>\n",
       "<style scoped>\n",
       "    .dataframe tbody tr th:only-of-type {\n",
       "        vertical-align: middle;\n",
       "    }\n",
       "\n",
       "    .dataframe tbody tr th {\n",
       "        vertical-align: top;\n",
       "    }\n",
       "\n",
       "    .dataframe thead th {\n",
       "        text-align: right;\n",
       "    }\n",
       "</style>\n",
       "<table border=\"1\" class=\"dataframe\">\n",
       "  <thead>\n",
       "    <tr style=\"text-align: right;\">\n",
       "      <th></th>\n",
       "      <th>capshape</th>\n",
       "      <th>capsurface</th>\n",
       "      <th>capcolor</th>\n",
       "      <th>bruises?</th>\n",
       "      <th>odor</th>\n",
       "      <th>gillattachment</th>\n",
       "      <th>gillspacing</th>\n",
       "      <th>gillsize</th>\n",
       "      <th>gillcolor</th>\n",
       "      <th>stalkshape</th>\n",
       "      <th>stalkroot</th>\n",
       "      <th>stalksurface abvring</th>\n",
       "      <th>stalksurface blwrng</th>\n",
       "      <th>stalkcolor abvring</th>\n",
       "      <th>stalkcolor blwrng</th>\n",
       "      <th>veil type</th>\n",
       "      <th>veil color</th>\n",
       "      <th>ring number</th>\n",
       "      <th>ring type</th>\n",
       "      <th>spore print color</th>\n",
       "      <th>population</th>\n",
       "      <th>habitat</th>\n",
       "    </tr>\n",
       "  </thead>\n",
       "  <tbody>\n",
       "    <tr>\n",
       "      <th>0</th>\n",
       "      <td>1.019291</td>\n",
       "      <td>-0.165715</td>\n",
       "      <td>1.230266</td>\n",
       "      <td>-1.185917</td>\n",
       "      <td>-1.888474</td>\n",
       "      <td>0.162896</td>\n",
       "      <td>0.438864</td>\n",
       "      <td>-1.494683</td>\n",
       "      <td>-1.652683</td>\n",
       "      <td>-1.144806</td>\n",
       "      <td>-1.248539</td>\n",
       "      <td>0.747556</td>\n",
       "      <td>0.780655</td>\n",
       "      <td>0.823501</td>\n",
       "      <td>0.832868</td>\n",
       "      <td>0.0</td>\n",
       "      <td>0.15887</td>\n",
       "      <td>0.291438</td>\n",
       "      <td>0.963799</td>\n",
       "      <td>-0.533414</td>\n",
       "      <td>-1.001843</td>\n",
       "      <td>-1.662287</td>\n",
       "    </tr>\n",
       "    <tr>\n",
       "      <th>1</th>\n",
       "      <td>1.019291</td>\n",
       "      <td>-0.165715</td>\n",
       "      <td>-0.882159</td>\n",
       "      <td>-1.185917</td>\n",
       "      <td>-1.536967</td>\n",
       "      <td>0.162896</td>\n",
       "      <td>0.438864</td>\n",
       "      <td>0.669038</td>\n",
       "      <td>-1.652683</td>\n",
       "      <td>-1.144806</td>\n",
       "      <td>-1.772360</td>\n",
       "      <td>0.747556</td>\n",
       "      <td>0.780655</td>\n",
       "      <td>0.823501</td>\n",
       "      <td>0.832868</td>\n",
       "      <td>0.0</td>\n",
       "      <td>0.15887</td>\n",
       "      <td>0.291438</td>\n",
       "      <td>0.963799</td>\n",
       "      <td>0.280216</td>\n",
       "      <td>-1.534471</td>\n",
       "      <td>0.068333</td>\n",
       "    </tr>\n",
       "    <tr>\n",
       "      <th>2</th>\n",
       "      <td>-1.916422</td>\n",
       "      <td>-0.165715</td>\n",
       "      <td>-1.358394</td>\n",
       "      <td>-1.185917</td>\n",
       "      <td>-1.760439</td>\n",
       "      <td>0.162896</td>\n",
       "      <td>0.438864</td>\n",
       "      <td>0.669038</td>\n",
       "      <td>-0.283941</td>\n",
       "      <td>-1.144806</td>\n",
       "      <td>-1.772360</td>\n",
       "      <td>0.747556</td>\n",
       "      <td>0.780655</td>\n",
       "      <td>0.823501</td>\n",
       "      <td>0.832868</td>\n",
       "      <td>0.0</td>\n",
       "      <td>0.15887</td>\n",
       "      <td>0.291438</td>\n",
       "      <td>0.963799</td>\n",
       "      <td>0.280216</td>\n",
       "      <td>-1.534471</td>\n",
       "      <td>-1.909319</td>\n",
       "    </tr>\n",
       "    <tr>\n",
       "      <th>3</th>\n",
       "      <td>1.019291</td>\n",
       "      <td>1.091706</td>\n",
       "      <td>-1.358394</td>\n",
       "      <td>-1.185917</td>\n",
       "      <td>-1.888474</td>\n",
       "      <td>0.162896</td>\n",
       "      <td>0.438864</td>\n",
       "      <td>-1.494683</td>\n",
       "      <td>-0.283941</td>\n",
       "      <td>-1.144806</td>\n",
       "      <td>-1.248539</td>\n",
       "      <td>0.747556</td>\n",
       "      <td>0.780655</td>\n",
       "      <td>0.823501</td>\n",
       "      <td>0.832868</td>\n",
       "      <td>0.0</td>\n",
       "      <td>0.15887</td>\n",
       "      <td>0.291438</td>\n",
       "      <td>0.963799</td>\n",
       "      <td>-0.533414</td>\n",
       "      <td>-1.001843</td>\n",
       "      <td>-1.662287</td>\n",
       "    </tr>\n",
       "    <tr>\n",
       "      <th>4</th>\n",
       "      <td>1.019291</td>\n",
       "      <td>-0.165715</td>\n",
       "      <td>0.405641</td>\n",
       "      <td>0.843230</td>\n",
       "      <td>0.933748</td>\n",
       "      <td>0.162896</td>\n",
       "      <td>-2.278612</td>\n",
       "      <td>0.669038</td>\n",
       "      <td>-1.652683</td>\n",
       "      <td>0.873511</td>\n",
       "      <td>-1.248539</td>\n",
       "      <td>0.747556</td>\n",
       "      <td>0.780655</td>\n",
       "      <td>0.823501</td>\n",
       "      <td>0.832868</td>\n",
       "      <td>0.0</td>\n",
       "      <td>0.15887</td>\n",
       "      <td>0.291438</td>\n",
       "      <td>-0.593435</td>\n",
       "      <td>0.280216</td>\n",
       "      <td>-1.846013</td>\n",
       "      <td>0.068333</td>\n",
       "    </tr>\n",
       "  </tbody>\n",
       "</table>\n",
       "</div>"
      ],
      "text/plain": [
       "   capshape  capsurface  capcolor  bruises?      odor  gillattachment  \\\n",
       "0  1.019291   -0.165715  1.230266 -1.185917 -1.888474        0.162896   \n",
       "1  1.019291   -0.165715 -0.882159 -1.185917 -1.536967        0.162896   \n",
       "2 -1.916422   -0.165715 -1.358394 -1.185917 -1.760439        0.162896   \n",
       "3  1.019291    1.091706 -1.358394 -1.185917 -1.888474        0.162896   \n",
       "4  1.019291   -0.165715  0.405641  0.843230  0.933748        0.162896   \n",
       "\n",
       "   gillspacing  gillsize  gillcolor  stalkshape  stalkroot  \\\n",
       "0     0.438864 -1.494683  -1.652683   -1.144806  -1.248539   \n",
       "1     0.438864  0.669038  -1.652683   -1.144806  -1.772360   \n",
       "2     0.438864  0.669038  -0.283941   -1.144806  -1.772360   \n",
       "3     0.438864 -1.494683  -0.283941   -1.144806  -1.248539   \n",
       "4    -2.278612  0.669038  -1.652683    0.873511  -1.248539   \n",
       "\n",
       "   stalksurface abvring  stalksurface blwrng  stalkcolor abvring  \\\n",
       "0              0.747556             0.780655            0.823501   \n",
       "1              0.747556             0.780655            0.823501   \n",
       "2              0.747556             0.780655            0.823501   \n",
       "3              0.747556             0.780655            0.823501   \n",
       "4              0.747556             0.780655            0.823501   \n",
       "\n",
       "   stalkcolor blwrng  veil type  veil color  ring number  ring type  \\\n",
       "0           0.832868        0.0     0.15887     0.291438   0.963799   \n",
       "1           0.832868        0.0     0.15887     0.291438   0.963799   \n",
       "2           0.832868        0.0     0.15887     0.291438   0.963799   \n",
       "3           0.832868        0.0     0.15887     0.291438   0.963799   \n",
       "4           0.832868        0.0     0.15887     0.291438  -0.593435   \n",
       "\n",
       "   spore print color  population   habitat  \n",
       "0          -0.533414   -1.001843 -1.662287  \n",
       "1           0.280216   -1.534471  0.068333  \n",
       "2           0.280216   -1.534471 -1.909319  \n",
       "3          -0.533414   -1.001843 -1.662287  \n",
       "4           0.280216   -1.846013  0.068333  "
      ]
     },
     "execution_count": 25,
     "metadata": {},
     "output_type": "execute_result"
    }
   ],
   "source": [
    "x.head()"
   ]
  },
  {
   "cell_type": "markdown",
   "metadata": {},
   "source": [
    "# Scaling the data"
   ]
  },
  {
   "cell_type": "code",
   "execution_count": 26,
   "metadata": {},
   "outputs": [],
   "source": [
    "#Applying Standard scalar to independent variable only\n",
    "from sklearn.preprocessing import StandardScaler\n",
    "ss=StandardScaler()\n",
    "x_scaled=ss.fit_transform(x)\n",
    "x=pd.DataFrame(data=x_scaled,columns=X.columns)\n"
   ]
  },
  {
   "cell_type": "code",
   "execution_count": 27,
   "metadata": {},
   "outputs": [
    {
     "data": {
      "text/html": [
       "<div>\n",
       "<style scoped>\n",
       "    .dataframe tbody tr th:only-of-type {\n",
       "        vertical-align: middle;\n",
       "    }\n",
       "\n",
       "    .dataframe tbody tr th {\n",
       "        vertical-align: top;\n",
       "    }\n",
       "\n",
       "    .dataframe thead th {\n",
       "        text-align: right;\n",
       "    }\n",
       "</style>\n",
       "<table border=\"1\" class=\"dataframe\">\n",
       "  <thead>\n",
       "    <tr style=\"text-align: right;\">\n",
       "      <th></th>\n",
       "      <th>capshape</th>\n",
       "      <th>capsurface</th>\n",
       "      <th>capcolor</th>\n",
       "      <th>bruises?</th>\n",
       "      <th>odor</th>\n",
       "      <th>gillattachment</th>\n",
       "      <th>gillspacing</th>\n",
       "      <th>gillsize</th>\n",
       "      <th>gillcolor</th>\n",
       "      <th>stalkshape</th>\n",
       "      <th>stalkroot</th>\n",
       "      <th>stalksurface abvring</th>\n",
       "      <th>stalksurface blwrng</th>\n",
       "      <th>stalkcolor abvring</th>\n",
       "      <th>stalkcolor blwrng</th>\n",
       "      <th>veil type</th>\n",
       "      <th>veil color</th>\n",
       "      <th>ring number</th>\n",
       "      <th>ring type</th>\n",
       "      <th>spore print color</th>\n",
       "      <th>population</th>\n",
       "      <th>habitat</th>\n",
       "    </tr>\n",
       "  </thead>\n",
       "  <tbody>\n",
       "    <tr>\n",
       "      <th>0</th>\n",
       "      <td>1.019291</td>\n",
       "      <td>-0.165715</td>\n",
       "      <td>1.230266</td>\n",
       "      <td>-1.185917</td>\n",
       "      <td>-1.888474</td>\n",
       "      <td>0.162896</td>\n",
       "      <td>0.438864</td>\n",
       "      <td>-1.494683</td>\n",
       "      <td>-1.652683</td>\n",
       "      <td>-1.144806</td>\n",
       "      <td>-1.248539</td>\n",
       "      <td>0.747556</td>\n",
       "      <td>0.780655</td>\n",
       "      <td>0.823501</td>\n",
       "      <td>0.832868</td>\n",
       "      <td>0.0</td>\n",
       "      <td>0.15887</td>\n",
       "      <td>0.291438</td>\n",
       "      <td>0.963799</td>\n",
       "      <td>-0.533414</td>\n",
       "      <td>-1.001843</td>\n",
       "      <td>-1.662287</td>\n",
       "    </tr>\n",
       "    <tr>\n",
       "      <th>1</th>\n",
       "      <td>1.019291</td>\n",
       "      <td>-0.165715</td>\n",
       "      <td>-0.882159</td>\n",
       "      <td>-1.185917</td>\n",
       "      <td>-1.536967</td>\n",
       "      <td>0.162896</td>\n",
       "      <td>0.438864</td>\n",
       "      <td>0.669038</td>\n",
       "      <td>-1.652683</td>\n",
       "      <td>-1.144806</td>\n",
       "      <td>-1.772360</td>\n",
       "      <td>0.747556</td>\n",
       "      <td>0.780655</td>\n",
       "      <td>0.823501</td>\n",
       "      <td>0.832868</td>\n",
       "      <td>0.0</td>\n",
       "      <td>0.15887</td>\n",
       "      <td>0.291438</td>\n",
       "      <td>0.963799</td>\n",
       "      <td>0.280216</td>\n",
       "      <td>-1.534471</td>\n",
       "      <td>0.068333</td>\n",
       "    </tr>\n",
       "    <tr>\n",
       "      <th>2</th>\n",
       "      <td>-1.916422</td>\n",
       "      <td>-0.165715</td>\n",
       "      <td>-1.358394</td>\n",
       "      <td>-1.185917</td>\n",
       "      <td>-1.760439</td>\n",
       "      <td>0.162896</td>\n",
       "      <td>0.438864</td>\n",
       "      <td>0.669038</td>\n",
       "      <td>-0.283941</td>\n",
       "      <td>-1.144806</td>\n",
       "      <td>-1.772360</td>\n",
       "      <td>0.747556</td>\n",
       "      <td>0.780655</td>\n",
       "      <td>0.823501</td>\n",
       "      <td>0.832868</td>\n",
       "      <td>0.0</td>\n",
       "      <td>0.15887</td>\n",
       "      <td>0.291438</td>\n",
       "      <td>0.963799</td>\n",
       "      <td>0.280216</td>\n",
       "      <td>-1.534471</td>\n",
       "      <td>-1.909319</td>\n",
       "    </tr>\n",
       "    <tr>\n",
       "      <th>3</th>\n",
       "      <td>1.019291</td>\n",
       "      <td>1.091706</td>\n",
       "      <td>-1.358394</td>\n",
       "      <td>-1.185917</td>\n",
       "      <td>-1.888474</td>\n",
       "      <td>0.162896</td>\n",
       "      <td>0.438864</td>\n",
       "      <td>-1.494683</td>\n",
       "      <td>-0.283941</td>\n",
       "      <td>-1.144806</td>\n",
       "      <td>-1.248539</td>\n",
       "      <td>0.747556</td>\n",
       "      <td>0.780655</td>\n",
       "      <td>0.823501</td>\n",
       "      <td>0.832868</td>\n",
       "      <td>0.0</td>\n",
       "      <td>0.15887</td>\n",
       "      <td>0.291438</td>\n",
       "      <td>0.963799</td>\n",
       "      <td>-0.533414</td>\n",
       "      <td>-1.001843</td>\n",
       "      <td>-1.662287</td>\n",
       "    </tr>\n",
       "    <tr>\n",
       "      <th>4</th>\n",
       "      <td>1.019291</td>\n",
       "      <td>-0.165715</td>\n",
       "      <td>0.405641</td>\n",
       "      <td>0.843230</td>\n",
       "      <td>0.933748</td>\n",
       "      <td>0.162896</td>\n",
       "      <td>-2.278612</td>\n",
       "      <td>0.669038</td>\n",
       "      <td>-1.652683</td>\n",
       "      <td>0.873511</td>\n",
       "      <td>-1.248539</td>\n",
       "      <td>0.747556</td>\n",
       "      <td>0.780655</td>\n",
       "      <td>0.823501</td>\n",
       "      <td>0.832868</td>\n",
       "      <td>0.0</td>\n",
       "      <td>0.15887</td>\n",
       "      <td>0.291438</td>\n",
       "      <td>-0.593435</td>\n",
       "      <td>0.280216</td>\n",
       "      <td>-1.846013</td>\n",
       "      <td>0.068333</td>\n",
       "    </tr>\n",
       "  </tbody>\n",
       "</table>\n",
       "</div>"
      ],
      "text/plain": [
       "   capshape  capsurface  capcolor  bruises?      odor  gillattachment  \\\n",
       "0  1.019291   -0.165715  1.230266 -1.185917 -1.888474        0.162896   \n",
       "1  1.019291   -0.165715 -0.882159 -1.185917 -1.536967        0.162896   \n",
       "2 -1.916422   -0.165715 -1.358394 -1.185917 -1.760439        0.162896   \n",
       "3  1.019291    1.091706 -1.358394 -1.185917 -1.888474        0.162896   \n",
       "4  1.019291   -0.165715  0.405641  0.843230  0.933748        0.162896   \n",
       "\n",
       "   gillspacing  gillsize  gillcolor  stalkshape  stalkroot  \\\n",
       "0     0.438864 -1.494683  -1.652683   -1.144806  -1.248539   \n",
       "1     0.438864  0.669038  -1.652683   -1.144806  -1.772360   \n",
       "2     0.438864  0.669038  -0.283941   -1.144806  -1.772360   \n",
       "3     0.438864 -1.494683  -0.283941   -1.144806  -1.248539   \n",
       "4    -2.278612  0.669038  -1.652683    0.873511  -1.248539   \n",
       "\n",
       "   stalksurface abvring  stalksurface blwrng  stalkcolor abvring  \\\n",
       "0              0.747556             0.780655            0.823501   \n",
       "1              0.747556             0.780655            0.823501   \n",
       "2              0.747556             0.780655            0.823501   \n",
       "3              0.747556             0.780655            0.823501   \n",
       "4              0.747556             0.780655            0.823501   \n",
       "\n",
       "   stalkcolor blwrng  veil type  veil color  ring number  ring type  \\\n",
       "0           0.832868        0.0     0.15887     0.291438   0.963799   \n",
       "1           0.832868        0.0     0.15887     0.291438   0.963799   \n",
       "2           0.832868        0.0     0.15887     0.291438   0.963799   \n",
       "3           0.832868        0.0     0.15887     0.291438   0.963799   \n",
       "4           0.832868        0.0     0.15887     0.291438  -0.593435   \n",
       "\n",
       "   spore print color  population   habitat  \n",
       "0          -0.533414   -1.001843 -1.662287  \n",
       "1           0.280216   -1.534471  0.068333  \n",
       "2           0.280216   -1.534471 -1.909319  \n",
       "3          -0.533414   -1.001843 -1.662287  \n",
       "4           0.280216   -1.846013  0.068333  "
      ]
     },
     "execution_count": 27,
     "metadata": {},
     "output_type": "execute_result"
    }
   ],
   "source": [
    "x.head()"
   ]
  },
  {
   "cell_type": "markdown",
   "metadata": {},
   "source": [
    "# Applying algorithm"
   ]
  },
  {
   "cell_type": "code",
   "execution_count": 28,
   "metadata": {},
   "outputs": [],
   "source": [
    "from sklearn.model_selection import train_test_split,cross_val_score\n",
    "x_train,x_test,y_train,y_test=train_test_split(x,y,random_state=42,stratify=y)"
   ]
  },
  {
   "cell_type": "code",
   "execution_count": 29,
   "metadata": {},
   "outputs": [],
   "source": [
    "from sklearn.neighbors import KNeighborsClassifier\n",
    "from sklearn.svm import SVC\n",
    "from sklearn.linear_model import LogisticRegression\n",
    "from sklearn.tree import DecisionTreeClassifier\n",
    "from sklearn.naive_bayes import GaussianNB\n",
    "from sklearn.ensemble import RandomForestClassifier\n",
    "from xgboost import XGBClassifier"
   ]
  },
  {
   "cell_type": "code",
   "execution_count": 30,
   "metadata": {},
   "outputs": [],
   "source": [
    "knn=KNeighborsClassifier()\n",
    "svc=SVC()\n",
    "lr=LogisticRegression()\n",
    "dt=DecisionTreeClassifier()\n",
    "gnb=GaussianNB()\n",
    "rfc=RandomForestClassifier()\n",
    "xgb=XGBClassifier()"
   ]
  },
  {
   "cell_type": "code",
   "execution_count": 31,
   "metadata": {},
   "outputs": [],
   "source": [
    "models=[]\n",
    "models.append(('KNeighborsClassifier',knn))\n",
    "models.append(('SVC',svc))\n",
    "models.append(('LogisticRegression',lr))\n",
    "models.append(('DecisionTreeClassifier',dt))\n",
    "models.append(('GaussianNB',gnb))\n",
    "models.append(('RandomForestClassifier',rfc))\n",
    "models.append(('XGBClassifier',xgb))"
   ]
  },
  {
   "cell_type": "code",
   "execution_count": 32,
   "metadata": {},
   "outputs": [],
   "source": [
    "from sklearn.metrics import classification_report,confusion_matrix,accuracy_score,roc_curve,auc,recall_score,roc_auc_score"
   ]
  },
  {
   "cell_type": "code",
   "execution_count": 33,
   "metadata": {},
   "outputs": [
    {
     "name": "stdout",
     "output_type": "stream",
     "text": [
      "***************** KNeighborsClassifier *******************\n",
      "\n",
      "\n",
      "KNeighborsClassifier(algorithm='auto', leaf_size=30, metric='minkowski',\n",
      "                     metric_params=None, n_jobs=None, n_neighbors=5, p=2,\n",
      "                     weights='uniform')\n",
      "\n",
      "\n",
      "Accuracy_score  - 1.0\n",
      "\n",
      "\n",
      "cross_val_score  - 0.9602423928061722\n",
      "\n",
      "\n",
      "roc_auc_score  - 1.0\n",
      "\n",
      "\n",
      "Recall_score  - 1.0\n",
      "\n",
      "\n",
      "classification report\n",
      "               precision    recall  f1-score   support\n",
      "\n",
      "           0       1.00      1.00      1.00       979\n",
      "           1       1.00      1.00      1.00      1052\n",
      "\n",
      "    accuracy                           1.00      2031\n",
      "   macro avg       1.00      1.00      1.00      2031\n",
      "weighted avg       1.00      1.00      1.00      2031\n",
      "\n",
      "\n",
      "\n",
      "[[ 979    0]\n",
      " [   0 1052]]\n",
      "\n",
      "\n",
      "AxesSubplot(0.125,0.808774;0.62x0.0712264)\n",
      "\n",
      "\n",
      "\n",
      "***************** SVC *******************\n",
      "\n",
      "\n",
      "SVC(C=1.0, cache_size=200, class_weight=None, coef0=0.0,\n",
      "    decision_function_shape='ovr', degree=3, gamma='auto_deprecated',\n",
      "    kernel='rbf', max_iter=-1, probability=False, random_state=None,\n",
      "    shrinking=True, tol=0.001, verbose=False)\n",
      "\n",
      "\n",
      "Accuracy_score  - 1.0\n",
      "\n",
      "\n",
      "cross_val_score  - 0.9630862843770238\n",
      "\n",
      "\n",
      "roc_auc_score  - 1.0\n",
      "\n",
      "\n",
      "Recall_score  - 1.0\n",
      "\n",
      "\n",
      "classification report\n",
      "               precision    recall  f1-score   support\n",
      "\n",
      "           0       1.00      1.00      1.00       979\n",
      "           1       1.00      1.00      1.00      1052\n",
      "\n",
      "    accuracy                           1.00      2031\n",
      "   macro avg       1.00      1.00      1.00      2031\n",
      "weighted avg       1.00      1.00      1.00      2031\n",
      "\n",
      "\n",
      "\n",
      "[[ 979    0]\n",
      " [   0 1052]]\n",
      "\n",
      "\n",
      "AxesSubplot(0.125,0.808774;0.62x0.0712264)\n",
      "\n",
      "\n",
      "\n",
      "***************** LogisticRegression *******************\n",
      "\n",
      "\n",
      "LogisticRegression(C=1.0, class_weight=None, dual=False, fit_intercept=True,\n",
      "                   intercept_scaling=1, l1_ratio=None, max_iter=100,\n",
      "                   multi_class='warn', n_jobs=None, penalty='l2',\n",
      "                   random_state=None, solver='warn', tol=0.0001, verbose=0,\n",
      "                   warm_start=False)\n",
      "\n",
      "\n",
      "Accuracy_score  - 0.9862136878385032\n",
      "\n",
      "\n",
      "cross_val_score  - 0.9539312620641345\n",
      "\n",
      "\n",
      "roc_auc_score  - 0.9863376146218886\n",
      "\n",
      "\n",
      "Recall_score  - 0.9828897338403042\n",
      "\n",
      "\n",
      "classification report\n",
      "               precision    recall  f1-score   support\n",
      "\n",
      "           0       0.98      0.99      0.99       979\n",
      "           1       0.99      0.98      0.99      1052\n",
      "\n",
      "    accuracy                           0.99      2031\n",
      "   macro avg       0.99      0.99      0.99      2031\n",
      "weighted avg       0.99      0.99      0.99      2031\n",
      "\n",
      "\n",
      "\n",
      "[[ 969   10]\n",
      " [  18 1034]]\n",
      "\n",
      "\n",
      "AxesSubplot(0.125,0.808774;0.62x0.0712264)\n",
      "\n",
      "\n",
      "\n",
      "***************** DecisionTreeClassifier *******************\n",
      "\n",
      "\n",
      "DecisionTreeClassifier(class_weight=None, criterion='gini', max_depth=None,\n",
      "                       max_features=None, max_leaf_nodes=None,\n",
      "                       min_impurity_decrease=0.0, min_impurity_split=None,\n",
      "                       min_samples_leaf=1, min_samples_split=2,\n",
      "                       min_weight_fraction_leaf=0.0, presort=False,\n",
      "                       random_state=None, splitter='best')\n",
      "\n",
      "\n",
      "Accuracy_score  - 1.0\n",
      "\n",
      "\n",
      "cross_val_score  - 0.9859438865658694\n",
      "\n",
      "\n",
      "roc_auc_score  - 1.0\n",
      "\n",
      "\n",
      "Recall_score  - 1.0\n",
      "\n",
      "\n",
      "classification report\n",
      "               precision    recall  f1-score   support\n",
      "\n",
      "           0       1.00      1.00      1.00       979\n",
      "           1       1.00      1.00      1.00      1052\n",
      "\n",
      "    accuracy                           1.00      2031\n",
      "   macro avg       1.00      1.00      1.00      2031\n",
      "weighted avg       1.00      1.00      1.00      2031\n",
      "\n",
      "\n",
      "\n",
      "[[ 979    0]\n",
      " [   0 1052]]\n",
      "\n",
      "\n",
      "AxesSubplot(0.125,0.808774;0.62x0.0712264)\n",
      "\n",
      "\n",
      "\n",
      "***************** GaussianNB *******************\n",
      "\n",
      "\n",
      "GaussianNB(priors=None, var_smoothing=1e-09)\n",
      "\n",
      "\n",
      "Accuracy_score  - 0.9379615952732644\n",
      "\n",
      "\n",
      "cross_val_score  - 0.9217283027352149\n",
      "\n",
      "\n",
      "roc_auc_score  - 0.9370307833321035\n",
      "\n",
      "\n",
      "Recall_score  - 0.9629277566539924\n",
      "\n",
      "\n",
      "classification report\n",
      "               precision    recall  f1-score   support\n",
      "\n",
      "           0       0.96      0.91      0.93       979\n",
      "           1       0.92      0.96      0.94      1052\n",
      "\n",
      "    accuracy                           0.94      2031\n",
      "   macro avg       0.94      0.94      0.94      2031\n",
      "weighted avg       0.94      0.94      0.94      2031\n",
      "\n",
      "\n",
      "\n",
      "[[ 892   87]\n",
      " [  39 1013]]\n",
      "\n",
      "\n",
      "AxesSubplot(0.125,0.808774;0.62x0.0712264)\n",
      "\n",
      "\n",
      "\n",
      "***************** RandomForestClassifier *******************\n",
      "\n",
      "\n",
      "RandomForestClassifier(bootstrap=True, class_weight=None, criterion='gini',\n",
      "                       max_depth=None, max_features='auto', max_leaf_nodes=None,\n",
      "                       min_impurity_decrease=0.0, min_impurity_split=None,\n",
      "                       min_samples_leaf=1, min_samples_split=2,\n",
      "                       min_weight_fraction_leaf=0.0, n_estimators=10,\n",
      "                       n_jobs=None, oob_score=False, random_state=None,\n",
      "                       verbose=0, warm_start=False)\n",
      "\n",
      "\n",
      "Accuracy_score  - 1.0\n",
      "\n",
      "\n",
      "cross_val_score  - 0.9670320303696254\n",
      "\n",
      "\n",
      "roc_auc_score  - 1.0\n",
      "\n",
      "\n",
      "Recall_score  - 1.0\n",
      "\n",
      "\n",
      "classification report\n",
      "               precision    recall  f1-score   support\n",
      "\n",
      "           0       1.00      1.00      1.00       979\n",
      "           1       1.00      1.00      1.00      1052\n",
      "\n",
      "    accuracy                           1.00      2031\n",
      "   macro avg       1.00      1.00      1.00      2031\n",
      "weighted avg       1.00      1.00      1.00      2031\n",
      "\n",
      "\n",
      "\n",
      "[[ 979    0]\n",
      " [   0 1052]]\n",
      "\n",
      "\n",
      "AxesSubplot(0.125,0.808774;0.62x0.0712264)\n",
      "\n",
      "\n",
      "\n",
      "***************** XGBClassifier *******************\n",
      "\n",
      "\n",
      "XGBClassifier(base_score=0.5, booster=None, colsample_bylevel=1,\n",
      "              colsample_bynode=1, colsample_bytree=1, gamma=0, gpu_id=-1,\n",
      "              importance_type='gain', interaction_constraints=None,\n",
      "              learning_rate=0.300000012, max_delta_step=0, max_depth=6,\n",
      "              min_child_weight=1, missing=nan, monotone_constraints=None,\n",
      "              n_estimators=100, n_jobs=0, num_parallel_tree=1,\n",
      "              objective='binary:logistic', random_state=0, reg_alpha=0,\n",
      "              reg_lambda=1, scale_pos_weight=1, subsample=1, tree_method=None,\n",
      "              validate_parameters=False, verbosity=None)\n",
      "\n",
      "\n",
      "Accuracy_score  - 1.0\n",
      "\n",
      "\n",
      "cross_val_score  - 0.9685116851168513\n",
      "\n",
      "\n",
      "roc_auc_score  - 1.0\n",
      "\n",
      "\n",
      "Recall_score  - 1.0\n",
      "\n",
      "\n",
      "classification report\n",
      "               precision    recall  f1-score   support\n",
      "\n",
      "           0       1.00      1.00      1.00       979\n",
      "           1       1.00      1.00      1.00      1052\n",
      "\n",
      "    accuracy                           1.00      2031\n",
      "   macro avg       1.00      1.00      1.00      2031\n",
      "weighted avg       1.00      1.00      1.00      2031\n",
      "\n",
      "\n",
      "\n",
      "[[ 979    0]\n",
      " [   0 1052]]\n",
      "\n",
      "\n",
      "AxesSubplot(0.125,0.808774;0.62x0.0712264)\n",
      "\n",
      "\n",
      "\n"
     ]
    },
    {
     "data": {
      "image/png": "[encoded data removed]",
      "text/plain": [
       "<Figure size 1000x4000 with 3 Axes>"
      ]
     },
     "metadata": {},
     "output_type": "display_data"
    },
    {
     "data": {
      "image/png": "[encoded data removed]",
      "text/plain": [
       "<Figure size 1000x4000 with 3 Axes>"
      ]
     },
     "metadata": {},
     "output_type": "display_data"
    },
    {
     "data": {
      "image/png": "[encoded data removed]",
      "text/plain": [
       "<Figure size 1000x4000 with 3 Axes>"
      ]
     },
     "metadata": {},
     "output_type": "display_data"
    },
    {
     "data": {
      "image/png": "[encoded data removed]",
      "text/plain": [
       "<Figure size 1000x4000 with 3 Axes>"
      ]
     },
     "metadata": {},
     "output_type": "display_data"
    },
    {
     "data": {
      "image/png": "[encoded data removed]",
      "text/plain": [
       "<Figure size 1000x4000 with 3 Axes>"
      ]
     },
     "metadata": {},
     "output_type": "display_data"
    },
    {
     "data": {
      "image/png": "[encoded data removed]",
      "text/plain": [
       "<Figure size 1000x4000 with 3 Axes>"
      ]
     },
     "metadata": {},
     "output_type": "display_data"
    },
    {
     "data": {
      "image/png": "[encoded data removed]",
      "text/plain": [
       "<Figure size 1000x4000 with 3 Axes>"
      ]
     },
     "metadata": {},
     "output_type": "display_data"
    }
   ],
   "source": [
    "Model=[]\n",
    "score=[]\n",
    "cv=[]\n",
    "rocscore=[]\n",
    "recall=[]\n",
    "for name,model in models:\n",
    "    print('*****************',name,'*******************')\n",
    "    print('\\n')\n",
    "    Model.append(name)\n",
    "    model.fit(x_train,y_train)\n",
    "    print(model)\n",
    "    pre=model.predict(x_test)\n",
    "    print('\\n')\n",
    "    AS=accuracy_score(y_test,pre)\n",
    "    print('Accuracy_score  -',AS)\n",
    "    score.append(AS*100)\n",
    "    print('\\n')\n",
    "    sc=cross_val_score(model,x,y,cv=10,scoring='accuracy').mean()\n",
    "    print('cross_val_score  -',sc)\n",
    "    cv.append(sc*100)\n",
    "    print('\\n')\n",
    "    fpr,tpr,threshold=roc_curve(y_test,pre)\n",
    "    roc_auc=auc(fpr,tpr)\n",
    "    print('roc_auc_score  -',roc_auc)\n",
    "    rocscore.append(roc_auc*100)\n",
    "    print('\\n')\n",
    "    \n",
    "    re=recall_score(y_test,pre)\n",
    "    print('Recall_score  -',re)\n",
    "    recall.append(re*100)\n",
    "    print('\\n')\n",
    "    \n",
    "    print('classification report\\n',classification_report(y_test,pre))\n",
    "    print('\\n')\n",
    "    cm=confusion_matrix(y_test,pre)\n",
    "    print(cm)\n",
    "    print('\\n')\n",
    "    plt.figure(figsize=(10,40))\n",
    "    plt.subplot(911)\n",
    "    plt.title(name)\n",
    "    print(sns.heatmap(cm,annot=True))\n",
    "    plt.subplot(912)\n",
    "    plt.title(name)\n",
    "    plt.plot(fpr,tpr,label='Auc = ' +str(roc_auc))\n",
    "    plt.plot([0,1],[0,1],'r--')\n",
    "    plt.legend(loc='lower right')\n",
    "    plt.ylabel('True Positive Rate')\n",
    "    plt.xlabel('False Positive Rate')\n",
    "    print('\\n\\n')\n",
    "    \n",
    "    \n",
    "    "
   ]
  },
  {
   "cell_type": "code",
   "execution_count": 34,
   "metadata": {},
   "outputs": [
    {
     "data": {
      "text/html": [
       "<div>\n",
       "<style scoped>\n",
       "    .dataframe tbody tr th:only-of-type {\n",
       "        vertical-align: middle;\n",
       "    }\n",
       "\n",
       "    .dataframe tbody tr th {\n",
       "        vertical-align: top;\n",
       "    }\n",
       "\n",
       "    .dataframe thead th {\n",
       "        text-align: right;\n",
       "    }\n",
       "</style>\n",
       "<table border=\"1\" class=\"dataframe\">\n",
       "  <thead>\n",
       "    <tr style=\"text-align: right;\">\n",
       "      <th></th>\n",
       "      <th>Model</th>\n",
       "      <th>Accuracy_score</th>\n",
       "      <th>Recall_score</th>\n",
       "      <th>Cross_val_score</th>\n",
       "      <th>Roc_auc_curve</th>\n",
       "    </tr>\n",
       "  </thead>\n",
       "  <tbody>\n",
       "    <tr>\n",
       "      <th>0</th>\n",
       "      <td>KNeighborsClassifier</td>\n",
       "      <td>100.000000</td>\n",
       "      <td>100.000000</td>\n",
       "      <td>96.024239</td>\n",
       "      <td>100.000000</td>\n",
       "    </tr>\n",
       "    <tr>\n",
       "      <th>1</th>\n",
       "      <td>SVC</td>\n",
       "      <td>100.000000</td>\n",
       "      <td>100.000000</td>\n",
       "      <td>96.308628</td>\n",
       "      <td>100.000000</td>\n",
       "    </tr>\n",
       "    <tr>\n",
       "      <th>2</th>\n",
       "      <td>LogisticRegression</td>\n",
       "      <td>98.621369</td>\n",
       "      <td>98.288973</td>\n",
       "      <td>95.393126</td>\n",
       "      <td>98.633761</td>\n",
       "    </tr>\n",
       "    <tr>\n",
       "      <th>3</th>\n",
       "      <td>DecisionTreeClassifier</td>\n",
       "      <td>100.000000</td>\n",
       "      <td>100.000000</td>\n",
       "      <td>98.594389</td>\n",
       "      <td>100.000000</td>\n",
       "    </tr>\n",
       "    <tr>\n",
       "      <th>4</th>\n",
       "      <td>GaussianNB</td>\n",
       "      <td>93.796160</td>\n",
       "      <td>96.292776</td>\n",
       "      <td>92.172830</td>\n",
       "      <td>93.703078</td>\n",
       "    </tr>\n",
       "    <tr>\n",
       "      <th>5</th>\n",
       "      <td>RandomForestClassifier</td>\n",
       "      <td>100.000000</td>\n",
       "      <td>100.000000</td>\n",
       "      <td>96.703203</td>\n",
       "      <td>100.000000</td>\n",
       "    </tr>\n",
       "    <tr>\n",
       "      <th>6</th>\n",
       "      <td>XGBClassifier</td>\n",
       "      <td>100.000000</td>\n",
       "      <td>100.000000</td>\n",
       "      <td>96.851169</td>\n",
       "      <td>100.000000</td>\n",
       "    </tr>\n",
       "  </tbody>\n",
       "</table>\n",
       "</div>"
      ],
      "text/plain": [
       "                    Model  Accuracy_score  Recall_score  Cross_val_score  \\\n",
       "0    KNeighborsClassifier      100.000000    100.000000        96.024239   \n",
       "1                     SVC      100.000000    100.000000        96.308628   \n",
       "2      LogisticRegression       98.621369     98.288973        95.393126   \n",
       "3  DecisionTreeClassifier      100.000000    100.000000        98.594389   \n",
       "4              GaussianNB       93.796160     96.292776        92.172830   \n",
       "5  RandomForestClassifier      100.000000    100.000000        96.703203   \n",
       "6           XGBClassifier      100.000000    100.000000        96.851169   \n",
       "\n",
       "   Roc_auc_curve  \n",
       "0     100.000000  \n",
       "1     100.000000  \n",
       "2      98.633761  \n",
       "3     100.000000  \n",
       "4      93.703078  \n",
       "5     100.000000  \n",
       "6     100.000000  "
      ]
     },
     "execution_count": 34,
     "metadata": {},
     "output_type": "execute_result"
    }
   ],
   "source": [
    "result=pd.DataFrame({'Model':Model,'Accuracy_score':score,'Recall_score':recall,'Cross_val_score':cv,'Roc_auc_curve':rocscore})\n",
    "result"
   ]
  },
  {
   "cell_type": "code",
   "execution_count": null,
   "metadata": {},
   "outputs": [],
   "source": []
  },
  {
   "cell_type": "code",
   "execution_count": 35,
   "metadata": {},
   "outputs": [],
   "source": [
    "#hence XGBClassifier is the best performing Algorithm for the taken dataset.\n",
    "#As recall_score & roc_auc_score is 100,we are not finding anymore random_state.random_state=42 is working best \n",
    "#not doing gridsearchcv"
   ]
  },
  {
   "cell_type": "markdown",
   "metadata": {},
   "source": [
    "# saving the final XGBClassifier model"
   ]
  },
  {
   "cell_type": "code",
   "execution_count": 36,
   "metadata": {},
   "outputs": [
    {
     "name": "stdout",
     "output_type": "stream",
     "text": [
      "recall_score=   1.0\n",
      "roc_score= 1.0\n"
     ]
    }
   ],
   "source": [
    "x_train,x_test,y_train,y_test=train_test_split(x,y,random_state=42,stratify=y)\n",
    "xgb.fit(x_train,y_train)\n",
    "pred=xgb.predict(x_test)\n",
    "print('recall_score=  ',recall_score(y_test,pred))\n",
    "print('roc_score='     ,roc_auc_score(y_test,pred))"
   ]
  },
  {
   "cell_type": "code",
   "execution_count": 37,
   "metadata": {},
   "outputs": [
    {
     "name": "stdout",
     "output_type": "stream",
     "text": [
      "cross_val_scores=   0.9685116851168513\n"
     ]
    },
    {
     "data": {
      "text/plain": [
       "array([[3660,    0],\n",
       "       [ 256, 4208]], dtype=int64)"
      ]
     },
     "execution_count": 37,
     "metadata": {},
     "output_type": "execute_result"
    }
   ],
   "source": [
    "#Cross validating the model and checking the cross_val_score.\n",
    "from sklearn.model_selection import cross_val_predict\n",
    "xgb=XGBClassifier()\n",
    "xgb.fit(x,y)\n",
    "cvs=cross_val_score(xgb,x,y,scoring='accuracy',cv=10)\n",
    "print('cross_val_scores=  ',cvs.mean())\n",
    "y_pred=cross_val_predict(xgb,x,y,cv=10)\n",
    "conf_mat=confusion_matrix(y_pred,y)\n",
    "conf_mat"
   ]
  },
  {
   "cell_type": "code",
   "execution_count": 39,
   "metadata": {},
   "outputs": [
    {
     "data": {
      "text/plain": [
       "['mushroomenumerate_xgb_classification.obj']"
      ]
     },
     "execution_count": 39,
     "metadata": {},
     "output_type": "execute_result"
    }
   ],
   "source": [
    "from sklearn.externals import joblib\n",
    "joblib.dump(xgb,'mushroomenumerate_xgb_classification.obj')"
   ]
  },
  {
   "cell_type": "code",
   "execution_count": 40,
   "metadata": {},
   "outputs": [],
   "source": [
    "model=joblib.load('mushroomenumerate_xgb_classification.obj')"
   ]
  },
  {
   "cell_type": "code",
   "execution_count": 42,
   "metadata": {},
   "outputs": [],
   "source": [
    "final_predictions=model.predict(x_test)\n",
    "final_predictions=pd.DataFrame(final_predictions,columns=['target'])"
   ]
  },
  {
   "cell_type": "code",
   "execution_count": 43,
   "metadata": {},
   "outputs": [
    {
     "data": {
      "text/html": [
       "<div>\n",
       "<style scoped>\n",
       "    .dataframe tbody tr th:only-of-type {\n",
       "        vertical-align: middle;\n",
       "    }\n",
       "\n",
       "    .dataframe tbody tr th {\n",
       "        vertical-align: top;\n",
       "    }\n",
       "\n",
       "    .dataframe thead th {\n",
       "        text-align: right;\n",
       "    }\n",
       "</style>\n",
       "<table border=\"1\" class=\"dataframe\">\n",
       "  <thead>\n",
       "    <tr style=\"text-align: right;\">\n",
       "      <th></th>\n",
       "      <th>target</th>\n",
       "    </tr>\n",
       "  </thead>\n",
       "  <tbody>\n",
       "    <tr>\n",
       "      <th>94</th>\n",
       "      <td>0</td>\n",
       "    </tr>\n",
       "    <tr>\n",
       "      <th>120</th>\n",
       "      <td>0</td>\n",
       "    </tr>\n",
       "    <tr>\n",
       "      <th>1312</th>\n",
       "      <td>0</td>\n",
       "    </tr>\n",
       "    <tr>\n",
       "      <th>1994</th>\n",
       "      <td>1</td>\n",
       "    </tr>\n",
       "    <tr>\n",
       "      <th>72</th>\n",
       "      <td>0</td>\n",
       "    </tr>\n",
       "    <tr>\n",
       "      <th>1676</th>\n",
       "      <td>0</td>\n",
       "    </tr>\n",
       "    <tr>\n",
       "      <th>480</th>\n",
       "      <td>1</td>\n",
       "    </tr>\n",
       "    <tr>\n",
       "      <th>1256</th>\n",
       "      <td>1</td>\n",
       "    </tr>\n",
       "    <tr>\n",
       "      <th>73</th>\n",
       "      <td>1</td>\n",
       "    </tr>\n",
       "    <tr>\n",
       "      <th>1624</th>\n",
       "      <td>1</td>\n",
       "    </tr>\n",
       "  </tbody>\n",
       "</table>\n",
       "</div>"
      ],
      "text/plain": [
       "      target\n",
       "94         0\n",
       "120        0\n",
       "1312       0\n",
       "1994       1\n",
       "72         0\n",
       "1676       0\n",
       "480        1\n",
       "1256       1\n",
       "73         1\n",
       "1624       1"
      ]
     },
     "execution_count": 43,
     "metadata": {},
     "output_type": "execute_result"
    }
   ],
   "source": [
    "final_predictions.sample(n=10)"
   ]
  },
  {
   "cell_type": "markdown",
   "metadata": {},
   "source": [
    "# Saving final predictions in file.csv "
   ]
  },
  {
   "cell_type": "code",
   "execution_count": 44,
   "metadata": {},
   "outputs": [],
   "source": [
    "final_predictions.to_csv('E:\\\\final_predictionmushroom.csv',index=False)"
   ]
  },
  {
   "cell_type": "markdown",
   "metadata": {},
   "source": [
    "# Conclusion:-"
   ]
  },
  {
   "cell_type": "raw",
   "metadata": {},
   "source": [
    "1-Wether the mushroom edible(e)(1) or poisonous(p)(0) can be predicted using the model above. \n",
    "2-By using sklearn(XGBClassifier)we have build a machine learning model that will predict wether, \n",
    "                                                                      the mushroom edible(e)(1) or poisonous(p)(0).\n"
   ]
  },
  {
   "cell_type": "code",
   "execution_count": null,
   "metadata": {},
   "outputs": [],
   "source": []
  }
 ],
 "metadata": {
  "kernelspec": {
   "display_name": "Python 3",
   "language": "python",
   "name": "python3"
  },
  "language_info": {
   "codemirror_mode": {
    "name": "ipython",
    "version": 3
   },
   "file_extension": ".py",
   "mimetype": "text/x-python",
   "name": "python",
   "nbconvert_exporter": "python",
   "pygments_lexer": "ipython3",
   "version": "3.7.4"
  }
 },
 "nbformat": 4,
 "nbformat_minor": 2
}
