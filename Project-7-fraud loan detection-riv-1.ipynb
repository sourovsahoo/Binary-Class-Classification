{
 "cells": [
  {
   "cell_type": "raw",
   "metadata": {},
   "source": [
    "Data Understanding and pre data analysis:-\n",
    "\n",
    "This is a binary class classification problem.\n",
    "We will use recall as our evaluation metrics to predict wether the loan(Loan_Status) to be given-Yes(1) or \n",
    "                                                                                           Not (0).      "
   ]
  },
  {
   "cell_type": "code",
   "execution_count": 1,
   "metadata": {},
   "outputs": [],
   "source": [
    "import numpy as np\n",
    "import pandas as pd\n",
    "import matplotlib.pyplot as plt\n",
    "import warnings\n",
    "warnings.filterwarnings('ignore')\n",
    "import seaborn as sns\n",
    "\n",
    "from sklearn.preprocessing import PowerTransformer\n",
    "from sklearn.preprocessing import StandardScaler\n",
    "from sklearn.model_selection import train_test_split,cross_val_score\n",
    "\n",
    "from sklearn.neighbors import KNeighborsClassifier\n",
    "from sklearn.svm import SVC\n",
    "from sklearn.linear_model import LogisticRegression\n",
    "from sklearn.tree import DecisionTreeClassifier\n",
    "from sklearn.naive_bayes import GaussianNB\n",
    "from sklearn.ensemble import RandomForestClassifier\n",
    "from xgboost import XGBClassifier\n",
    "from sklearn.ensemble import GradientBoostingClassifier\n",
    "from sklearn.ensemble import AdaBoostClassifier\n",
    "\n",
    "from sklearn.metrics import classification_report,confusion_matrix,accuracy_score\n",
    "from sklearn.model_selection import GridSearchCV\n",
    "\n",
    "from sklearn.model_selection import cross_val_predict\n",
    "\n",
    "import joblib"
   ]
  },
  {
   "cell_type": "code",
   "execution_count": 44,
   "metadata": {},
   "outputs": [],
   "source": [
    "df=pd.read_csv('fraud loan prediction.csv')\n",
    "pd.set_option('display.max_columns',None)"
   ]
  },
  {
   "cell_type": "code",
   "execution_count": 45,
   "metadata": {},
   "outputs": [
    {
     "data": {
      "text/html": [
       "<div>\n",
       "<style scoped>\n",
       "    .dataframe tbody tr th:only-of-type {\n",
       "        vertical-align: middle;\n",
       "    }\n",
       "\n",
       "    .dataframe tbody tr th {\n",
       "        vertical-align: top;\n",
       "    }\n",
       "\n",
       "    .dataframe thead th {\n",
       "        text-align: right;\n",
       "    }\n",
       "</style>\n",
       "<table border=\"1\" class=\"dataframe\">\n",
       "  <thead>\n",
       "    <tr style=\"text-align: right;\">\n",
       "      <th></th>\n",
       "      <th>Loan_ID</th>\n",
       "      <th>Gender</th>\n",
       "      <th>Married</th>\n",
       "      <th>Dependents</th>\n",
       "      <th>Education</th>\n",
       "      <th>Self_Employed</th>\n",
       "      <th>ApplicantIncome</th>\n",
       "      <th>CoapplicantIncome</th>\n",
       "      <th>LoanAmount</th>\n",
       "      <th>Loan_Amount_Term</th>\n",
       "      <th>Credit_History</th>\n",
       "      <th>Property_Area</th>\n",
       "      <th>Loan_Status</th>\n",
       "    </tr>\n",
       "  </thead>\n",
       "  <tbody>\n",
       "    <tr>\n",
       "      <th>0</th>\n",
       "      <td>LP001002</td>\n",
       "      <td>Male</td>\n",
       "      <td>No</td>\n",
       "      <td>0</td>\n",
       "      <td>Graduate</td>\n",
       "      <td>No</td>\n",
       "      <td>5849</td>\n",
       "      <td>0.0</td>\n",
       "      <td>NaN</td>\n",
       "      <td>360.0</td>\n",
       "      <td>1.0</td>\n",
       "      <td>Urban</td>\n",
       "      <td>Y</td>\n",
       "    </tr>\n",
       "    <tr>\n",
       "      <th>1</th>\n",
       "      <td>LP001003</td>\n",
       "      <td>Male</td>\n",
       "      <td>Yes</td>\n",
       "      <td>1</td>\n",
       "      <td>Graduate</td>\n",
       "      <td>No</td>\n",
       "      <td>4583</td>\n",
       "      <td>1508.0</td>\n",
       "      <td>128.0</td>\n",
       "      <td>360.0</td>\n",
       "      <td>1.0</td>\n",
       "      <td>Rural</td>\n",
       "      <td>N</td>\n",
       "    </tr>\n",
       "    <tr>\n",
       "      <th>2</th>\n",
       "      <td>LP001005</td>\n",
       "      <td>Male</td>\n",
       "      <td>Yes</td>\n",
       "      <td>0</td>\n",
       "      <td>Graduate</td>\n",
       "      <td>Yes</td>\n",
       "      <td>3000</td>\n",
       "      <td>0.0</td>\n",
       "      <td>66.0</td>\n",
       "      <td>360.0</td>\n",
       "      <td>1.0</td>\n",
       "      <td>Urban</td>\n",
       "      <td>Y</td>\n",
       "    </tr>\n",
       "    <tr>\n",
       "      <th>3</th>\n",
       "      <td>LP001006</td>\n",
       "      <td>Male</td>\n",
       "      <td>Yes</td>\n",
       "      <td>0</td>\n",
       "      <td>Not Graduate</td>\n",
       "      <td>No</td>\n",
       "      <td>2583</td>\n",
       "      <td>2358.0</td>\n",
       "      <td>120.0</td>\n",
       "      <td>360.0</td>\n",
       "      <td>1.0</td>\n",
       "      <td>Urban</td>\n",
       "      <td>Y</td>\n",
       "    </tr>\n",
       "    <tr>\n",
       "      <th>4</th>\n",
       "      <td>LP001008</td>\n",
       "      <td>Male</td>\n",
       "      <td>No</td>\n",
       "      <td>0</td>\n",
       "      <td>Graduate</td>\n",
       "      <td>No</td>\n",
       "      <td>6000</td>\n",
       "      <td>0.0</td>\n",
       "      <td>141.0</td>\n",
       "      <td>360.0</td>\n",
       "      <td>1.0</td>\n",
       "      <td>Urban</td>\n",
       "      <td>Y</td>\n",
       "    </tr>\n",
       "  </tbody>\n",
       "</table>\n",
       "</div>"
      ],
      "text/plain": [
       "    Loan_ID Gender Married Dependents     Education Self_Employed  \\\n",
       "0  LP001002   Male      No          0      Graduate            No   \n",
       "1  LP001003   Male     Yes          1      Graduate            No   \n",
       "2  LP001005   Male     Yes          0      Graduate           Yes   \n",
       "3  LP001006   Male     Yes          0  Not Graduate            No   \n",
       "4  LP001008   Male      No          0      Graduate            No   \n",
       "\n",
       "   ApplicantIncome  CoapplicantIncome  LoanAmount  Loan_Amount_Term  \\\n",
       "0             5849                0.0         NaN             360.0   \n",
       "1             4583             1508.0       128.0             360.0   \n",
       "2             3000                0.0        66.0             360.0   \n",
       "3             2583             2358.0       120.0             360.0   \n",
       "4             6000                0.0       141.0             360.0   \n",
       "\n",
       "   Credit_History Property_Area Loan_Status  \n",
       "0             1.0         Urban           Y  \n",
       "1             1.0         Rural           N  \n",
       "2             1.0         Urban           Y  \n",
       "3             1.0         Urban           Y  \n",
       "4             1.0         Urban           Y  "
      ]
     },
     "execution_count": 45,
     "metadata": {},
     "output_type": "execute_result"
    }
   ],
   "source": [
    "df.head()"
   ]
  },
  {
   "cell_type": "code",
   "execution_count": 46,
   "metadata": {},
   "outputs": [
    {
     "data": {
      "text/plain": [
       "(614, 13)"
      ]
     },
     "execution_count": 46,
     "metadata": {},
     "output_type": "execute_result"
    }
   ],
   "source": [
    "df.shape"
   ]
  },
  {
   "cell_type": "code",
   "execution_count": 47,
   "metadata": {},
   "outputs": [
    {
     "data": {
      "text/plain": [
       "Loan_ID               object\n",
       "Gender                object\n",
       "Married               object\n",
       "Dependents            object\n",
       "Education             object\n",
       "Self_Employed         object\n",
       "ApplicantIncome        int64\n",
       "CoapplicantIncome    float64\n",
       "LoanAmount           float64\n",
       "Loan_Amount_Term     float64\n",
       "Credit_History       float64\n",
       "Property_Area         object\n",
       "Loan_Status           object\n",
       "dtype: object"
      ]
     },
     "execution_count": 47,
     "metadata": {},
     "output_type": "execute_result"
    }
   ],
   "source": [
    "df.dtypes  #dependents columns is in object type but the data are numerical. "
   ]
  },
  {
   "cell_type": "code",
   "execution_count": 48,
   "metadata": {},
   "outputs": [
    {
     "data": {
      "text/plain": [
       "<matplotlib.axes._subplots.AxesSubplot at 0x207f54bf640>"
      ]
     },
     "execution_count": 48,
     "metadata": {},
     "output_type": "execute_result"
    },
    {
     "data": {
      "image/png": "[encoded data removed]",
      "text/plain": [
       "<Figure size 600x400 with 2 Axes>"
      ]
     },
     "metadata": {},
     "output_type": "display_data"
    }
   ],
   "source": [
    "sns.heatmap(df.isnull())#there are missing values in the dataset"
   ]
  },
  {
   "cell_type": "code",
   "execution_count": 49,
   "metadata": {},
   "outputs": [
    {
     "data": {
      "text/plain": [
       "Loan_ID               0\n",
       "Gender               13\n",
       "Married               3\n",
       "Dependents           15\n",
       "Education             0\n",
       "Self_Employed        32\n",
       "ApplicantIncome       0\n",
       "CoapplicantIncome     0\n",
       "LoanAmount           22\n",
       "Loan_Amount_Term     14\n",
       "Credit_History       50\n",
       "Property_Area         0\n",
       "Loan_Status           0\n",
       "dtype: int64"
      ]
     },
     "execution_count": 49,
     "metadata": {},
     "output_type": "execute_result"
    }
   ],
   "source": [
    "df.isnull().sum()"
   ]
  },
  {
   "cell_type": "code",
   "execution_count": 50,
   "metadata": {},
   "outputs": [
    {
     "data": {
      "text/plain": [
       "Loan_ID               object\n",
       "Gender                object\n",
       "Married               object\n",
       "Dependents            object\n",
       "Education             object\n",
       "Self_Employed         object\n",
       "ApplicantIncome        int64\n",
       "CoapplicantIncome    float64\n",
       "LoanAmount           float64\n",
       "Loan_Amount_Term     float64\n",
       "Credit_History       float64\n",
       "Property_Area         object\n",
       "Loan_Status           object\n",
       "dtype: object"
      ]
     },
     "execution_count": 50,
     "metadata": {},
     "output_type": "execute_result"
    }
   ],
   "source": [
    "df.dtypes"
   ]
  },
  {
   "cell_type": "markdown",
   "metadata": {},
   "source": [
    "# EDA by sweetviz library"
   ]
  },
  {
   "cell_type": "code",
   "execution_count": 9,
   "metadata": {},
   "outputs": [],
   "source": [
    "import sweetviz"
   ]
  },
  {
   "cell_type": "code",
   "execution_count": 10,
   "metadata": {},
   "outputs": [
    {
     "name": "stderr",
     "output_type": "stream",
     "text": [
      ":FEATURES DONE:                    |█████████████████████| [100%]   00:04  -> (00:00 left)\n",
      ":PAIRWISE DONE:                    |█████████████████████| [100%]   00:00  -> (00:00 left)\n"
     ]
    },
    {
     "name": "stdout",
     "output_type": "stream",
     "text": [
      "Creating Associations graph... DONE!\n"
     ]
    }
   ],
   "source": [
    "my_report=sweetviz.analyze([df,'df'],target_feat='Loan_Status')"
   ]
  },
  {
   "cell_type": "code",
   "execution_count": 11,
   "metadata": {},
   "outputs": [
    {
     "name": "stdout",
     "output_type": "stream",
     "text": [
      "Report fraudloandetectionriv-1.html was generated! NOTEBOOK/COLAB USERS: no browser will pop up, the report is saved in your notebook/colab files.\n"
     ]
    }
   ],
   "source": [
    "my_report.show_html('fraudloandetectionriv-1.html')"
   ]
  },
  {
   "cell_type": "markdown",
   "metadata": {},
   "source": [
    "# Imputing missing values"
   ]
  },
  {
   "cell_type": "code",
   "execution_count": 51,
   "metadata": {},
   "outputs": [],
   "source": [
    "df['Gender']=df['Gender'].fillna(df['Gender'].mode()[0])\n",
    "df['Married']=df['Married'].fillna(df['Married'].mode()[0])\n",
    "df['Dependents']=df['Dependents'].fillna(df['Dependents'].mode()[0])    #numeric but treated as object.not changing dtype.\n",
    "df['Self_Employed']=df['Self_Employed'].fillna(df['Self_Employed'].mode()[0])\n",
    "df['LoanAmount']=df['LoanAmount'].fillna(df['LoanAmount'].mean())\n",
    "df['Loan_Amount_Term']=df['Loan_Amount_Term'].fillna(df['Loan_Amount_Term'].mean())\n",
    "df['Credit_History']=df['Credit_History'].fillna(df['Credit_History'].mean())"
   ]
  },
  {
   "cell_type": "code",
   "execution_count": 52,
   "metadata": {},
   "outputs": [
    {
     "data": {
      "text/plain": [
       "Loan_ID              0\n",
       "Gender               0\n",
       "Married              0\n",
       "Dependents           0\n",
       "Education            0\n",
       "Self_Employed        0\n",
       "ApplicantIncome      0\n",
       "CoapplicantIncome    0\n",
       "LoanAmount           0\n",
       "Loan_Amount_Term     0\n",
       "Credit_History       0\n",
       "Property_Area        0\n",
       "Loan_Status          0\n",
       "dtype: int64"
      ]
     },
     "execution_count": 52,
     "metadata": {},
     "output_type": "execute_result"
    }
   ],
   "source": [
    "df.isnull().sum()"
   ]
  },
  {
   "cell_type": "code",
   "execution_count": 53,
   "metadata": {},
   "outputs": [
    {
     "data": {
      "text/html": [
       "<div>\n",
       "<style scoped>\n",
       "    .dataframe tbody tr th:only-of-type {\n",
       "        vertical-align: middle;\n",
       "    }\n",
       "\n",
       "    .dataframe tbody tr th {\n",
       "        vertical-align: top;\n",
       "    }\n",
       "\n",
       "    .dataframe thead th {\n",
       "        text-align: right;\n",
       "    }\n",
       "</style>\n",
       "<table border=\"1\" class=\"dataframe\">\n",
       "  <thead>\n",
       "    <tr style=\"text-align: right;\">\n",
       "      <th></th>\n",
       "      <th>ApplicantIncome</th>\n",
       "      <th>CoapplicantIncome</th>\n",
       "      <th>LoanAmount</th>\n",
       "      <th>Loan_Amount_Term</th>\n",
       "      <th>Credit_History</th>\n",
       "    </tr>\n",
       "  </thead>\n",
       "  <tbody>\n",
       "    <tr>\n",
       "      <th>count</th>\n",
       "      <td>614.000000</td>\n",
       "      <td>614.000000</td>\n",
       "      <td>614.000000</td>\n",
       "      <td>614.000000</td>\n",
       "      <td>614.000000</td>\n",
       "    </tr>\n",
       "    <tr>\n",
       "      <th>mean</th>\n",
       "      <td>5403.459283</td>\n",
       "      <td>1621.245798</td>\n",
       "      <td>146.412162</td>\n",
       "      <td>342.000000</td>\n",
       "      <td>0.842199</td>\n",
       "    </tr>\n",
       "    <tr>\n",
       "      <th>std</th>\n",
       "      <td>6109.041673</td>\n",
       "      <td>2926.248369</td>\n",
       "      <td>84.037468</td>\n",
       "      <td>64.372489</td>\n",
       "      <td>0.349681</td>\n",
       "    </tr>\n",
       "    <tr>\n",
       "      <th>min</th>\n",
       "      <td>150.000000</td>\n",
       "      <td>0.000000</td>\n",
       "      <td>9.000000</td>\n",
       "      <td>12.000000</td>\n",
       "      <td>0.000000</td>\n",
       "    </tr>\n",
       "    <tr>\n",
       "      <th>25%</th>\n",
       "      <td>2877.500000</td>\n",
       "      <td>0.000000</td>\n",
       "      <td>100.250000</td>\n",
       "      <td>360.000000</td>\n",
       "      <td>1.000000</td>\n",
       "    </tr>\n",
       "    <tr>\n",
       "      <th>50%</th>\n",
       "      <td>3812.500000</td>\n",
       "      <td>1188.500000</td>\n",
       "      <td>129.000000</td>\n",
       "      <td>360.000000</td>\n",
       "      <td>1.000000</td>\n",
       "    </tr>\n",
       "    <tr>\n",
       "      <th>75%</th>\n",
       "      <td>5795.000000</td>\n",
       "      <td>2297.250000</td>\n",
       "      <td>164.750000</td>\n",
       "      <td>360.000000</td>\n",
       "      <td>1.000000</td>\n",
       "    </tr>\n",
       "    <tr>\n",
       "      <th>max</th>\n",
       "      <td>81000.000000</td>\n",
       "      <td>41667.000000</td>\n",
       "      <td>700.000000</td>\n",
       "      <td>480.000000</td>\n",
       "      <td>1.000000</td>\n",
       "    </tr>\n",
       "  </tbody>\n",
       "</table>\n",
       "</div>"
      ],
      "text/plain": [
       "       ApplicantIncome  CoapplicantIncome  LoanAmount  Loan_Amount_Term  \\\n",
       "count       614.000000         614.000000  614.000000        614.000000   \n",
       "mean       5403.459283        1621.245798  146.412162        342.000000   \n",
       "std        6109.041673        2926.248369   84.037468         64.372489   \n",
       "min         150.000000           0.000000    9.000000         12.000000   \n",
       "25%        2877.500000           0.000000  100.250000        360.000000   \n",
       "50%        3812.500000        1188.500000  129.000000        360.000000   \n",
       "75%        5795.000000        2297.250000  164.750000        360.000000   \n",
       "max       81000.000000       41667.000000  700.000000        480.000000   \n",
       "\n",
       "       Credit_History  \n",
       "count      614.000000  \n",
       "mean         0.842199  \n",
       "std          0.349681  \n",
       "min          0.000000  \n",
       "25%          1.000000  \n",
       "50%          1.000000  \n",
       "75%          1.000000  \n",
       "max          1.000000  "
      ]
     },
     "execution_count": 53,
     "metadata": {},
     "output_type": "execute_result"
    }
   ],
   "source": [
    "df.describe()"
   ]
  },
  {
   "cell_type": "code",
   "execution_count": 54,
   "metadata": {},
   "outputs": [],
   "source": [
    "#outliers are present in some columns as difference between mean value and max value is very high."
   ]
  },
  {
   "cell_type": "markdown",
   "metadata": {},
   "source": [
    "# EDA"
   ]
  },
  {
   "cell_type": "code",
   "execution_count": 16,
   "metadata": {},
   "outputs": [
    {
     "data": {
      "image/png": "[encoded data removed]",
      "text/plain": [
       "<Figure size 600x400 with 1 Axes>"
      ]
     },
     "metadata": {},
     "output_type": "display_data"
    },
    {
     "data": {
      "image/png": "[encoded data removed]",
      "text/plain": [
       "<Figure size 600x400 with 1 Axes>"
      ]
     },
     "metadata": {},
     "output_type": "display_data"
    },
    {
     "data": {
      "image/png": "[encoded data removed]",
      "text/plain": [
       "<Figure size 600x400 with 1 Axes>"
      ]
     },
     "metadata": {},
     "output_type": "display_data"
    },
    {
     "data": {
      "image/png": "[encoded data removed]",
      "text/plain": [
       "<Figure size 600x400 with 1 Axes>"
      ]
     },
     "metadata": {},
     "output_type": "display_data"
    },
    {
     "data": {
      "image/png": "[encoded data removed]",
      "text/plain": [
       "<Figure size 600x400 with 1 Axes>"
      ]
     },
     "metadata": {},
     "output_type": "display_data"
    }
   ],
   "source": [
    "#checking for skewness\n",
    "numerical_features=[feature for feature in df.columns if df[feature].dtypes!='object']\n",
    "for feature in numerical_features:\n",
    "    \n",
    "    df[feature].hist(bins=25)\n",
    "    plt.xlabel(feature)\n",
    "    plt.show()"
   ]
  },
  {
   "cell_type": "code",
   "execution_count": 17,
   "metadata": {},
   "outputs": [],
   "source": [
    "#checking relation of each attribute w.r.t target attribute"
   ]
  },
  {
   "cell_type": "code",
   "execution_count": 18,
   "metadata": {},
   "outputs": [
    {
     "data": {
      "image/png": "[encoded data removed]",
      "text/plain": [
       "<Figure size 600x400 with 1 Axes>"
      ]
     },
     "metadata": {},
     "output_type": "display_data"
    },
    {
     "data": {
      "image/png": "[encoded data removed]",
      "text/plain": [
       "<Figure size 600x400 with 1 Axes>"
      ]
     },
     "metadata": {},
     "output_type": "display_data"
    },
    {
     "data": {
      "image/png": "[encoded data removed]",
      "text/plain": [
       "<Figure size 600x400 with 1 Axes>"
      ]
     },
     "metadata": {},
     "output_type": "display_data"
    },
    {
     "data": {
      "image/png": "[encoded data removed]",
      "text/plain": [
       "<Figure size 600x400 with 1 Axes>"
      ]
     },
     "metadata": {},
     "output_type": "display_data"
    },
    {
     "data": {
      "image/png": "[encoded data removed]",
      "text/plain": [
       "<Figure size 600x400 with 1 Axes>"
      ]
     },
     "metadata": {},
     "output_type": "display_data"
    }
   ],
   "source": [
    "numerical_features=[feature for feature in df.columns if df[feature].dtypes!='object']\n",
    "for feature in numerical_features:\n",
    "    \n",
    "    df.groupby('Loan_Status')[feature].mean().plot.bar()\n",
    "    plt.xlabel(feature)\n",
    "    plt.show()\n"
   ]
  },
  {
   "cell_type": "raw",
   "metadata": {},
   "source": [
    "Features mainly responsible for predicting wether to give loan or not are:-\n",
    "    \n",
    "    1-applicants income\n",
    "    2-loan amount\n",
    "    3-credit history"
   ]
  },
  {
   "cell_type": "code",
   "execution_count": 19,
   "metadata": {},
   "outputs": [
    {
     "data": {
      "image/png": "[encoded data removed]",
      "text/plain": [
       "<Figure size 600x400 with 1 Axes>"
      ]
     },
     "metadata": {},
     "output_type": "display_data"
    },
    {
     "data": {
      "image/png": "[encoded data removed]",
      "text/plain": [
       "<Figure size 600x400 with 1 Axes>"
      ]
     },
     "metadata": {},
     "output_type": "display_data"
    },
    {
     "data": {
      "image/png": "[encoded data removed]",
      "text/plain": [
       "<Figure size 600x400 with 1 Axes>"
      ]
     },
     "metadata": {},
     "output_type": "display_data"
    },
    {
     "data": {
      "image/png": "[encoded data removed]",
      "text/plain": [
       "<Figure size 600x400 with 1 Axes>"
      ]
     },
     "metadata": {},
     "output_type": "display_data"
    },
    {
     "data": {
      "image/png": "[encoded data removed]",
      "text/plain": [
       "<Figure size 600x400 with 1 Axes>"
      ]
     },
     "metadata": {},
     "output_type": "display_data"
    }
   ],
   "source": [
    "#checking for outliers\n",
    "\n",
    "numerical_features=[feature for feature in df.columns if df[feature].dtypes!='object']\n",
    "for feature in numerical_features:\n",
    "    \n",
    "    df[feature].plot.box()\n",
    "    plt.xlabel(feature)\n",
    "    plt.show()"
   ]
  },
  {
   "cell_type": "code",
   "execution_count": 20,
   "metadata": {},
   "outputs": [
    {
     "data": {
      "text/plain": [
       "<matplotlib.axes._subplots.AxesSubplot at 0x207f0fcb4c0>"
      ]
     },
     "execution_count": 20,
     "metadata": {},
     "output_type": "execute_result"
    },
    {
     "data": {
      "image/png": "[encoded data removed]",
      "text/plain": [
       "<Figure size 600x400 with 1 Axes>"
      ]
     },
     "metadata": {},
     "output_type": "display_data"
    }
   ],
   "source": [
    "#Imbalanced dataset,will do oversampling to balance the data before model building.\n",
    "df['Loan_Status'].value_counts().plot.bar()"
   ]
  },
  {
   "cell_type": "markdown",
   "metadata": {},
   "source": [
    "# Feature Engineering"
   ]
  },
  {
   "cell_type": "code",
   "execution_count": 55,
   "metadata": {},
   "outputs": [
    {
     "data": {
      "text/plain": [
       "Y    422\n",
       "N    192\n",
       "Name: Loan_Status, dtype: int64"
      ]
     },
     "execution_count": 55,
     "metadata": {},
     "output_type": "execute_result"
    }
   ],
   "source": [
    "df['Loan_Status'].value_counts()"
   ]
  },
  {
   "cell_type": "code",
   "execution_count": 56,
   "metadata": {},
   "outputs": [
    {
     "name": "stdout",
     "output_type": "stream",
     "text": [
      "Loan_ID 614\n",
      "Gender 2\n",
      "Married 2\n",
      "Dependents 4\n",
      "Education 2\n",
      "Self_Employed 2\n",
      "Property_Area 3\n",
      "Loan_Status 2\n"
     ]
    }
   ],
   "source": [
    "categorical_features=[feature for feature in df.columns if df[feature].dtypes=='object']\n",
    "for feature in categorical_features:\n",
    "    if df[feature].nunique()>=2:\n",
    "        print(feature,df[feature].nunique())"
   ]
  },
  {
   "cell_type": "code",
   "execution_count": 57,
   "metadata": {},
   "outputs": [],
   "source": [
    "#Replacing instead of label encoding because we want Yes=1 & No=0\n",
    "df['Loan_Status']=df['Loan_Status'].replace(['Y','N'],[1,0])"
   ]
  },
  {
   "cell_type": "code",
   "execution_count": 58,
   "metadata": {},
   "outputs": [
    {
     "data": {
      "text/plain": [
       "1    422\n",
       "0    192\n",
       "Name: Loan_Status, dtype: int64"
      ]
     },
     "execution_count": 58,
     "metadata": {},
     "output_type": "execute_result"
    }
   ],
   "source": [
    "df['Loan_Status'].value_counts()"
   ]
  },
  {
   "cell_type": "markdown",
   "metadata": {},
   "source": [
    "# Segregating target(label) and independent features"
   ]
  },
  {
   "cell_type": "code",
   "execution_count": 59,
   "metadata": {},
   "outputs": [],
   "source": [
    "y=df[['Loan_Status']]\n",
    "x=df.drop(['Loan_Status'],axis=1)"
   ]
  },
  {
   "cell_type": "code",
   "execution_count": 60,
   "metadata": {},
   "outputs": [],
   "source": [
    "from imblearn.over_sampling import RandomOverSampler\n",
    "ros=RandomOverSampler(random_state=42)"
   ]
  },
  {
   "cell_type": "code",
   "execution_count": 61,
   "metadata": {},
   "outputs": [],
   "source": [
    "x_ovrsampled,y_oversampled=ros.fit_sample(x,y)"
   ]
  },
  {
   "cell_type": "code",
   "execution_count": 62,
   "metadata": {},
   "outputs": [
    {
     "name": "stdout",
     "output_type": "stream",
     "text": [
      "(614, 12) (844, 12)\n",
      "(614, 1) (844, 1)\n"
     ]
    }
   ],
   "source": [
    "print(x.shape,x_ovrsampled.shape)\n",
    "print(y.shape,y_oversampled.shape)"
   ]
  },
  {
   "cell_type": "code",
   "execution_count": 63,
   "metadata": {},
   "outputs": [
    {
     "data": {
      "text/plain": [
       "230"
      ]
     },
     "execution_count": 63,
     "metadata": {},
     "output_type": "execute_result"
    }
   ],
   "source": [
    "x_ovrsampled.shape[0]-x.shape[0] #Exta rows added due to oversampling technique."
   ]
  },
  {
   "cell_type": "code",
   "execution_count": 64,
   "metadata": {},
   "outputs": [
    {
     "data": {
      "text/plain": [
       "1    422\n",
       "0    192\n",
       "Name: Loan_Status, dtype: int64"
      ]
     },
     "execution_count": 64,
     "metadata": {},
     "output_type": "execute_result"
    }
   ],
   "source": [
    "df['Loan_Status'].value_counts()"
   ]
  },
  {
   "cell_type": "code",
   "execution_count": 65,
   "metadata": {},
   "outputs": [
    {
     "data": {
      "text/plain": [
       "1    422\n",
       "0    422\n",
       "Name: Loan_Status, dtype: int64"
      ]
     },
     "execution_count": 65,
     "metadata": {},
     "output_type": "execute_result"
    }
   ],
   "source": [
    "y_oversampled['Loan_Status'].value_counts()"
   ]
  },
  {
   "cell_type": "code",
   "execution_count": 66,
   "metadata": {},
   "outputs": [
    {
     "data": {
      "text/html": [
       "<div>\n",
       "<style scoped>\n",
       "    .dataframe tbody tr th:only-of-type {\n",
       "        vertical-align: middle;\n",
       "    }\n",
       "\n",
       "    .dataframe tbody tr th {\n",
       "        vertical-align: top;\n",
       "    }\n",
       "\n",
       "    .dataframe thead th {\n",
       "        text-align: right;\n",
       "    }\n",
       "</style>\n",
       "<table border=\"1\" class=\"dataframe\">\n",
       "  <thead>\n",
       "    <tr style=\"text-align: right;\">\n",
       "      <th></th>\n",
       "      <th>Loan_ID</th>\n",
       "      <th>Gender</th>\n",
       "      <th>Married</th>\n",
       "      <th>Dependents</th>\n",
       "      <th>Education</th>\n",
       "      <th>Self_Employed</th>\n",
       "      <th>ApplicantIncome</th>\n",
       "      <th>CoapplicantIncome</th>\n",
       "      <th>LoanAmount</th>\n",
       "      <th>Loan_Amount_Term</th>\n",
       "      <th>Credit_History</th>\n",
       "      <th>Property_Area</th>\n",
       "    </tr>\n",
       "  </thead>\n",
       "  <tbody>\n",
       "    <tr>\n",
       "      <th>0</th>\n",
       "      <td>LP001002</td>\n",
       "      <td>Male</td>\n",
       "      <td>No</td>\n",
       "      <td>0</td>\n",
       "      <td>Graduate</td>\n",
       "      <td>No</td>\n",
       "      <td>5849</td>\n",
       "      <td>0.0</td>\n",
       "      <td>146.412162</td>\n",
       "      <td>360.0</td>\n",
       "      <td>1.0</td>\n",
       "      <td>Urban</td>\n",
       "    </tr>\n",
       "    <tr>\n",
       "      <th>1</th>\n",
       "      <td>LP001003</td>\n",
       "      <td>Male</td>\n",
       "      <td>Yes</td>\n",
       "      <td>1</td>\n",
       "      <td>Graduate</td>\n",
       "      <td>No</td>\n",
       "      <td>4583</td>\n",
       "      <td>1508.0</td>\n",
       "      <td>128.000000</td>\n",
       "      <td>360.0</td>\n",
       "      <td>1.0</td>\n",
       "      <td>Rural</td>\n",
       "    </tr>\n",
       "    <tr>\n",
       "      <th>2</th>\n",
       "      <td>LP001005</td>\n",
       "      <td>Male</td>\n",
       "      <td>Yes</td>\n",
       "      <td>0</td>\n",
       "      <td>Graduate</td>\n",
       "      <td>Yes</td>\n",
       "      <td>3000</td>\n",
       "      <td>0.0</td>\n",
       "      <td>66.000000</td>\n",
       "      <td>360.0</td>\n",
       "      <td>1.0</td>\n",
       "      <td>Urban</td>\n",
       "    </tr>\n",
       "    <tr>\n",
       "      <th>3</th>\n",
       "      <td>LP001006</td>\n",
       "      <td>Male</td>\n",
       "      <td>Yes</td>\n",
       "      <td>0</td>\n",
       "      <td>Not Graduate</td>\n",
       "      <td>No</td>\n",
       "      <td>2583</td>\n",
       "      <td>2358.0</td>\n",
       "      <td>120.000000</td>\n",
       "      <td>360.0</td>\n",
       "      <td>1.0</td>\n",
       "      <td>Urban</td>\n",
       "    </tr>\n",
       "    <tr>\n",
       "      <th>4</th>\n",
       "      <td>LP001008</td>\n",
       "      <td>Male</td>\n",
       "      <td>No</td>\n",
       "      <td>0</td>\n",
       "      <td>Graduate</td>\n",
       "      <td>No</td>\n",
       "      <td>6000</td>\n",
       "      <td>0.0</td>\n",
       "      <td>141.000000</td>\n",
       "      <td>360.0</td>\n",
       "      <td>1.0</td>\n",
       "      <td>Urban</td>\n",
       "    </tr>\n",
       "  </tbody>\n",
       "</table>\n",
       "</div>"
      ],
      "text/plain": [
       "    Loan_ID Gender Married Dependents     Education Self_Employed  \\\n",
       "0  LP001002   Male      No          0      Graduate            No   \n",
       "1  LP001003   Male     Yes          1      Graduate            No   \n",
       "2  LP001005   Male     Yes          0      Graduate           Yes   \n",
       "3  LP001006   Male     Yes          0  Not Graduate            No   \n",
       "4  LP001008   Male      No          0      Graduate            No   \n",
       "\n",
       "   ApplicantIncome  CoapplicantIncome  LoanAmount  Loan_Amount_Term  \\\n",
       "0             5849                0.0  146.412162             360.0   \n",
       "1             4583             1508.0  128.000000             360.0   \n",
       "2             3000                0.0   66.000000             360.0   \n",
       "3             2583             2358.0  120.000000             360.0   \n",
       "4             6000                0.0  141.000000             360.0   \n",
       "\n",
       "   Credit_History Property_Area  \n",
       "0             1.0         Urban  \n",
       "1             1.0         Rural  \n",
       "2             1.0         Urban  \n",
       "3             1.0         Urban  \n",
       "4             1.0         Urban  "
      ]
     },
     "execution_count": 66,
     "metadata": {},
     "output_type": "execute_result"
    }
   ],
   "source": [
    "x_ovrsampled.head()"
   ]
  },
  {
   "cell_type": "code",
   "execution_count": 67,
   "metadata": {},
   "outputs": [
    {
     "data": {
      "text/html": [
       "<div>\n",
       "<style scoped>\n",
       "    .dataframe tbody tr th:only-of-type {\n",
       "        vertical-align: middle;\n",
       "    }\n",
       "\n",
       "    .dataframe tbody tr th {\n",
       "        vertical-align: top;\n",
       "    }\n",
       "\n",
       "    .dataframe thead th {\n",
       "        text-align: right;\n",
       "    }\n",
       "</style>\n",
       "<table border=\"1\" class=\"dataframe\">\n",
       "  <thead>\n",
       "    <tr style=\"text-align: right;\">\n",
       "      <th></th>\n",
       "      <th>Loan_Status</th>\n",
       "    </tr>\n",
       "  </thead>\n",
       "  <tbody>\n",
       "    <tr>\n",
       "      <th>0</th>\n",
       "      <td>1</td>\n",
       "    </tr>\n",
       "    <tr>\n",
       "      <th>1</th>\n",
       "      <td>0</td>\n",
       "    </tr>\n",
       "    <tr>\n",
       "      <th>2</th>\n",
       "      <td>1</td>\n",
       "    </tr>\n",
       "    <tr>\n",
       "      <th>3</th>\n",
       "      <td>1</td>\n",
       "    </tr>\n",
       "    <tr>\n",
       "      <th>4</th>\n",
       "      <td>1</td>\n",
       "    </tr>\n",
       "  </tbody>\n",
       "</table>\n",
       "</div>"
      ],
      "text/plain": [
       "   Loan_Status\n",
       "0            1\n",
       "1            0\n",
       "2            1\n",
       "3            1\n",
       "4            1"
      ]
     },
     "execution_count": 67,
     "metadata": {},
     "output_type": "execute_result"
    }
   ],
   "source": [
    "y_oversampled.head()"
   ]
  },
  {
   "cell_type": "code",
   "execution_count": 68,
   "metadata": {},
   "outputs": [],
   "source": [
    "df=x_ovrsampled"
   ]
  },
  {
   "cell_type": "markdown",
   "metadata": {},
   "source": [
    "# Making dummies"
   ]
  },
  {
   "cell_type": "code",
   "execution_count": 69,
   "metadata": {},
   "outputs": [],
   "source": [
    "df=pd.concat([df,pd.get_dummies(df['Gender'],prefix=str('Gender'),prefix_sep='_')],axis=1)\n",
    "df=pd.concat([df,pd.get_dummies(df['Married'],prefix=str('Married'),prefix_sep='_')],axis=1)\n",
    "df=pd.concat([df,pd.get_dummies(df['Dependents'],prefix=str('Dependents'),prefix_sep='_')],axis=1)\n",
    "df=pd.concat([df,pd.get_dummies(df['Education'],prefix=str('Education'),prefix_sep='_')],axis=1)\n",
    "df=pd.concat([df,pd.get_dummies(df['Self_Employed'],prefix=str('Self_Employed'),prefix_sep='_')],axis=1)\n",
    "df=pd.concat([df,pd.get_dummies(df['Property_Area'],prefix=str('Property_Area'),prefix_sep='_')],axis=1)\n"
   ]
  },
  {
   "cell_type": "code",
   "execution_count": 70,
   "metadata": {},
   "outputs": [
    {
     "data": {
      "text/plain": [
       "(844, 27)"
      ]
     },
     "execution_count": 70,
     "metadata": {},
     "output_type": "execute_result"
    }
   ],
   "source": [
    "df.shape"
   ]
  },
  {
   "cell_type": "code",
   "execution_count": 71,
   "metadata": {},
   "outputs": [
    {
     "data": {
      "text/html": [
       "<div>\n",
       "<style scoped>\n",
       "    .dataframe tbody tr th:only-of-type {\n",
       "        vertical-align: middle;\n",
       "    }\n",
       "\n",
       "    .dataframe tbody tr th {\n",
       "        vertical-align: top;\n",
       "    }\n",
       "\n",
       "    .dataframe thead th {\n",
       "        text-align: right;\n",
       "    }\n",
       "</style>\n",
       "<table border=\"1\" class=\"dataframe\">\n",
       "  <thead>\n",
       "    <tr style=\"text-align: right;\">\n",
       "      <th></th>\n",
       "      <th>Loan_ID</th>\n",
       "      <th>Gender</th>\n",
       "      <th>Married</th>\n",
       "      <th>Dependents</th>\n",
       "      <th>Education</th>\n",
       "      <th>Self_Employed</th>\n",
       "      <th>ApplicantIncome</th>\n",
       "      <th>CoapplicantIncome</th>\n",
       "      <th>LoanAmount</th>\n",
       "      <th>Loan_Amount_Term</th>\n",
       "      <th>Credit_History</th>\n",
       "      <th>Property_Area</th>\n",
       "      <th>Gender_Female</th>\n",
       "      <th>Gender_Male</th>\n",
       "      <th>Married_No</th>\n",
       "      <th>Married_Yes</th>\n",
       "      <th>Dependents_0</th>\n",
       "      <th>Dependents_1</th>\n",
       "      <th>Dependents_2</th>\n",
       "      <th>Dependents_3+</th>\n",
       "      <th>Education_Graduate</th>\n",
       "      <th>Education_Not Graduate</th>\n",
       "      <th>Self_Employed_No</th>\n",
       "      <th>Self_Employed_Yes</th>\n",
       "      <th>Property_Area_Rural</th>\n",
       "      <th>Property_Area_Semiurban</th>\n",
       "      <th>Property_Area_Urban</th>\n",
       "    </tr>\n",
       "  </thead>\n",
       "  <tbody>\n",
       "    <tr>\n",
       "      <th>0</th>\n",
       "      <td>LP001002</td>\n",
       "      <td>Male</td>\n",
       "      <td>No</td>\n",
       "      <td>0</td>\n",
       "      <td>Graduate</td>\n",
       "      <td>No</td>\n",
       "      <td>5849</td>\n",
       "      <td>0.0</td>\n",
       "      <td>146.412162</td>\n",
       "      <td>360.0</td>\n",
       "      <td>1.0</td>\n",
       "      <td>Urban</td>\n",
       "      <td>0</td>\n",
       "      <td>1</td>\n",
       "      <td>1</td>\n",
       "      <td>0</td>\n",
       "      <td>1</td>\n",
       "      <td>0</td>\n",
       "      <td>0</td>\n",
       "      <td>0</td>\n",
       "      <td>1</td>\n",
       "      <td>0</td>\n",
       "      <td>1</td>\n",
       "      <td>0</td>\n",
       "      <td>0</td>\n",
       "      <td>0</td>\n",
       "      <td>1</td>\n",
       "    </tr>\n",
       "    <tr>\n",
       "      <th>1</th>\n",
       "      <td>LP001003</td>\n",
       "      <td>Male</td>\n",
       "      <td>Yes</td>\n",
       "      <td>1</td>\n",
       "      <td>Graduate</td>\n",
       "      <td>No</td>\n",
       "      <td>4583</td>\n",
       "      <td>1508.0</td>\n",
       "      <td>128.000000</td>\n",
       "      <td>360.0</td>\n",
       "      <td>1.0</td>\n",
       "      <td>Rural</td>\n",
       "      <td>0</td>\n",
       "      <td>1</td>\n",
       "      <td>0</td>\n",
       "      <td>1</td>\n",
       "      <td>0</td>\n",
       "      <td>1</td>\n",
       "      <td>0</td>\n",
       "      <td>0</td>\n",
       "      <td>1</td>\n",
       "      <td>0</td>\n",
       "      <td>1</td>\n",
       "      <td>0</td>\n",
       "      <td>1</td>\n",
       "      <td>0</td>\n",
       "      <td>0</td>\n",
       "    </tr>\n",
       "    <tr>\n",
       "      <th>2</th>\n",
       "      <td>LP001005</td>\n",
       "      <td>Male</td>\n",
       "      <td>Yes</td>\n",
       "      <td>0</td>\n",
       "      <td>Graduate</td>\n",
       "      <td>Yes</td>\n",
       "      <td>3000</td>\n",
       "      <td>0.0</td>\n",
       "      <td>66.000000</td>\n",
       "      <td>360.0</td>\n",
       "      <td>1.0</td>\n",
       "      <td>Urban</td>\n",
       "      <td>0</td>\n",
       "      <td>1</td>\n",
       "      <td>0</td>\n",
       "      <td>1</td>\n",
       "      <td>1</td>\n",
       "      <td>0</td>\n",
       "      <td>0</td>\n",
       "      <td>0</td>\n",
       "      <td>1</td>\n",
       "      <td>0</td>\n",
       "      <td>0</td>\n",
       "      <td>1</td>\n",
       "      <td>0</td>\n",
       "      <td>0</td>\n",
       "      <td>1</td>\n",
       "    </tr>\n",
       "    <tr>\n",
       "      <th>3</th>\n",
       "      <td>LP001006</td>\n",
       "      <td>Male</td>\n",
       "      <td>Yes</td>\n",
       "      <td>0</td>\n",
       "      <td>Not Graduate</td>\n",
       "      <td>No</td>\n",
       "      <td>2583</td>\n",
       "      <td>2358.0</td>\n",
       "      <td>120.000000</td>\n",
       "      <td>360.0</td>\n",
       "      <td>1.0</td>\n",
       "      <td>Urban</td>\n",
       "      <td>0</td>\n",
       "      <td>1</td>\n",
       "      <td>0</td>\n",
       "      <td>1</td>\n",
       "      <td>1</td>\n",
       "      <td>0</td>\n",
       "      <td>0</td>\n",
       "      <td>0</td>\n",
       "      <td>0</td>\n",
       "      <td>1</td>\n",
       "      <td>1</td>\n",
       "      <td>0</td>\n",
       "      <td>0</td>\n",
       "      <td>0</td>\n",
       "      <td>1</td>\n",
       "    </tr>\n",
       "    <tr>\n",
       "      <th>4</th>\n",
       "      <td>LP001008</td>\n",
       "      <td>Male</td>\n",
       "      <td>No</td>\n",
       "      <td>0</td>\n",
       "      <td>Graduate</td>\n",
       "      <td>No</td>\n",
       "      <td>6000</td>\n",
       "      <td>0.0</td>\n",
       "      <td>141.000000</td>\n",
       "      <td>360.0</td>\n",
       "      <td>1.0</td>\n",
       "      <td>Urban</td>\n",
       "      <td>0</td>\n",
       "      <td>1</td>\n",
       "      <td>1</td>\n",
       "      <td>0</td>\n",
       "      <td>1</td>\n",
       "      <td>0</td>\n",
       "      <td>0</td>\n",
       "      <td>0</td>\n",
       "      <td>1</td>\n",
       "      <td>0</td>\n",
       "      <td>1</td>\n",
       "      <td>0</td>\n",
       "      <td>0</td>\n",
       "      <td>0</td>\n",
       "      <td>1</td>\n",
       "    </tr>\n",
       "  </tbody>\n",
       "</table>\n",
       "</div>"
      ],
      "text/plain": [
       "    Loan_ID Gender Married Dependents     Education Self_Employed  \\\n",
       "0  LP001002   Male      No          0      Graduate            No   \n",
       "1  LP001003   Male     Yes          1      Graduate            No   \n",
       "2  LP001005   Male     Yes          0      Graduate           Yes   \n",
       "3  LP001006   Male     Yes          0  Not Graduate            No   \n",
       "4  LP001008   Male      No          0      Graduate            No   \n",
       "\n",
       "   ApplicantIncome  CoapplicantIncome  LoanAmount  Loan_Amount_Term  \\\n",
       "0             5849                0.0  146.412162             360.0   \n",
       "1             4583             1508.0  128.000000             360.0   \n",
       "2             3000                0.0   66.000000             360.0   \n",
       "3             2583             2358.0  120.000000             360.0   \n",
       "4             6000                0.0  141.000000             360.0   \n",
       "\n",
       "   Credit_History Property_Area  Gender_Female  Gender_Male  Married_No  \\\n",
       "0             1.0         Urban              0            1           1   \n",
       "1             1.0         Rural              0            1           0   \n",
       "2             1.0         Urban              0            1           0   \n",
       "3             1.0         Urban              0            1           0   \n",
       "4             1.0         Urban              0            1           1   \n",
       "\n",
       "   Married_Yes  Dependents_0  Dependents_1  Dependents_2  Dependents_3+  \\\n",
       "0            0             1             0             0              0   \n",
       "1            1             0             1             0              0   \n",
       "2            1             1             0             0              0   \n",
       "3            1             1             0             0              0   \n",
       "4            0             1             0             0              0   \n",
       "\n",
       "   Education_Graduate  Education_Not Graduate  Self_Employed_No  \\\n",
       "0                   1                       0                 1   \n",
       "1                   1                       0                 1   \n",
       "2                   1                       0                 0   \n",
       "3                   0                       1                 1   \n",
       "4                   1                       0                 1   \n",
       "\n",
       "   Self_Employed_Yes  Property_Area_Rural  Property_Area_Semiurban  \\\n",
       "0                  0                    0                        0   \n",
       "1                  0                    1                        0   \n",
       "2                  1                    0                        0   \n",
       "3                  0                    0                        0   \n",
       "4                  0                    0                        0   \n",
       "\n",
       "   Property_Area_Urban  \n",
       "0                    1  \n",
       "1                    0  \n",
       "2                    1  \n",
       "3                    1  \n",
       "4                    1  "
      ]
     },
     "execution_count": 71,
     "metadata": {},
     "output_type": "execute_result"
    }
   ],
   "source": [
    "df.head()"
   ]
  },
  {
   "cell_type": "code",
   "execution_count": 72,
   "metadata": {},
   "outputs": [],
   "source": [
    "#dropping columns as we have extracted data by dummies technique\n",
    "df=df.drop(['Loan_ID','Married','Gender','Dependents','Education','Self_Employed','Property_Area'],axis=1)"
   ]
  },
  {
   "cell_type": "code",
   "execution_count": 73,
   "metadata": {},
   "outputs": [
    {
     "data": {
      "text/html": [
       "<div>\n",
       "<style scoped>\n",
       "    .dataframe tbody tr th:only-of-type {\n",
       "        vertical-align: middle;\n",
       "    }\n",
       "\n",
       "    .dataframe tbody tr th {\n",
       "        vertical-align: top;\n",
       "    }\n",
       "\n",
       "    .dataframe thead th {\n",
       "        text-align: right;\n",
       "    }\n",
       "</style>\n",
       "<table border=\"1\" class=\"dataframe\">\n",
       "  <thead>\n",
       "    <tr style=\"text-align: right;\">\n",
       "      <th></th>\n",
       "      <th>ApplicantIncome</th>\n",
       "      <th>CoapplicantIncome</th>\n",
       "      <th>LoanAmount</th>\n",
       "      <th>Loan_Amount_Term</th>\n",
       "      <th>Credit_History</th>\n",
       "      <th>Gender_Female</th>\n",
       "      <th>Gender_Male</th>\n",
       "      <th>Married_No</th>\n",
       "      <th>Married_Yes</th>\n",
       "      <th>Dependents_0</th>\n",
       "      <th>Dependents_1</th>\n",
       "      <th>Dependents_2</th>\n",
       "      <th>Dependents_3+</th>\n",
       "      <th>Education_Graduate</th>\n",
       "      <th>Education_Not Graduate</th>\n",
       "      <th>Self_Employed_No</th>\n",
       "      <th>Self_Employed_Yes</th>\n",
       "      <th>Property_Area_Rural</th>\n",
       "      <th>Property_Area_Semiurban</th>\n",
       "      <th>Property_Area_Urban</th>\n",
       "    </tr>\n",
       "  </thead>\n",
       "  <tbody>\n",
       "    <tr>\n",
       "      <th>0</th>\n",
       "      <td>5849</td>\n",
       "      <td>0.0</td>\n",
       "      <td>146.412162</td>\n",
       "      <td>360.0</td>\n",
       "      <td>1.0</td>\n",
       "      <td>0</td>\n",
       "      <td>1</td>\n",
       "      <td>1</td>\n",
       "      <td>0</td>\n",
       "      <td>1</td>\n",
       "      <td>0</td>\n",
       "      <td>0</td>\n",
       "      <td>0</td>\n",
       "      <td>1</td>\n",
       "      <td>0</td>\n",
       "      <td>1</td>\n",
       "      <td>0</td>\n",
       "      <td>0</td>\n",
       "      <td>0</td>\n",
       "      <td>1</td>\n",
       "    </tr>\n",
       "    <tr>\n",
       "      <th>1</th>\n",
       "      <td>4583</td>\n",
       "      <td>1508.0</td>\n",
       "      <td>128.000000</td>\n",
       "      <td>360.0</td>\n",
       "      <td>1.0</td>\n",
       "      <td>0</td>\n",
       "      <td>1</td>\n",
       "      <td>0</td>\n",
       "      <td>1</td>\n",
       "      <td>0</td>\n",
       "      <td>1</td>\n",
       "      <td>0</td>\n",
       "      <td>0</td>\n",
       "      <td>1</td>\n",
       "      <td>0</td>\n",
       "      <td>1</td>\n",
       "      <td>0</td>\n",
       "      <td>1</td>\n",
       "      <td>0</td>\n",
       "      <td>0</td>\n",
       "    </tr>\n",
       "    <tr>\n",
       "      <th>2</th>\n",
       "      <td>3000</td>\n",
       "      <td>0.0</td>\n",
       "      <td>66.000000</td>\n",
       "      <td>360.0</td>\n",
       "      <td>1.0</td>\n",
       "      <td>0</td>\n",
       "      <td>1</td>\n",
       "      <td>0</td>\n",
       "      <td>1</td>\n",
       "      <td>1</td>\n",
       "      <td>0</td>\n",
       "      <td>0</td>\n",
       "      <td>0</td>\n",
       "      <td>1</td>\n",
       "      <td>0</td>\n",
       "      <td>0</td>\n",
       "      <td>1</td>\n",
       "      <td>0</td>\n",
       "      <td>0</td>\n",
       "      <td>1</td>\n",
       "    </tr>\n",
       "    <tr>\n",
       "      <th>3</th>\n",
       "      <td>2583</td>\n",
       "      <td>2358.0</td>\n",
       "      <td>120.000000</td>\n",
       "      <td>360.0</td>\n",
       "      <td>1.0</td>\n",
       "      <td>0</td>\n",
       "      <td>1</td>\n",
       "      <td>0</td>\n",
       "      <td>1</td>\n",
       "      <td>1</td>\n",
       "      <td>0</td>\n",
       "      <td>0</td>\n",
       "      <td>0</td>\n",
       "      <td>0</td>\n",
       "      <td>1</td>\n",
       "      <td>1</td>\n",
       "      <td>0</td>\n",
       "      <td>0</td>\n",
       "      <td>0</td>\n",
       "      <td>1</td>\n",
       "    </tr>\n",
       "    <tr>\n",
       "      <th>4</th>\n",
       "      <td>6000</td>\n",
       "      <td>0.0</td>\n",
       "      <td>141.000000</td>\n",
       "      <td>360.0</td>\n",
       "      <td>1.0</td>\n",
       "      <td>0</td>\n",
       "      <td>1</td>\n",
       "      <td>1</td>\n",
       "      <td>0</td>\n",
       "      <td>1</td>\n",
       "      <td>0</td>\n",
       "      <td>0</td>\n",
       "      <td>0</td>\n",
       "      <td>1</td>\n",
       "      <td>0</td>\n",
       "      <td>1</td>\n",
       "      <td>0</td>\n",
       "      <td>0</td>\n",
       "      <td>0</td>\n",
       "      <td>1</td>\n",
       "    </tr>\n",
       "  </tbody>\n",
       "</table>\n",
       "</div>"
      ],
      "text/plain": [
       "   ApplicantIncome  CoapplicantIncome  LoanAmount  Loan_Amount_Term  \\\n",
       "0             5849                0.0  146.412162             360.0   \n",
       "1             4583             1508.0  128.000000             360.0   \n",
       "2             3000                0.0   66.000000             360.0   \n",
       "3             2583             2358.0  120.000000             360.0   \n",
       "4             6000                0.0  141.000000             360.0   \n",
       "\n",
       "   Credit_History  Gender_Female  Gender_Male  Married_No  Married_Yes  \\\n",
       "0             1.0              0            1           1            0   \n",
       "1             1.0              0            1           0            1   \n",
       "2             1.0              0            1           0            1   \n",
       "3             1.0              0            1           0            1   \n",
       "4             1.0              0            1           1            0   \n",
       "\n",
       "   Dependents_0  Dependents_1  Dependents_2  Dependents_3+  \\\n",
       "0             1             0             0              0   \n",
       "1             0             1             0              0   \n",
       "2             1             0             0              0   \n",
       "3             1             0             0              0   \n",
       "4             1             0             0              0   \n",
       "\n",
       "   Education_Graduate  Education_Not Graduate  Self_Employed_No  \\\n",
       "0                   1                       0                 1   \n",
       "1                   1                       0                 1   \n",
       "2                   1                       0                 0   \n",
       "3                   0                       1                 1   \n",
       "4                   1                       0                 1   \n",
       "\n",
       "   Self_Employed_Yes  Property_Area_Rural  Property_Area_Semiurban  \\\n",
       "0                  0                    0                        0   \n",
       "1                  0                    1                        0   \n",
       "2                  1                    0                        0   \n",
       "3                  0                    0                        0   \n",
       "4                  0                    0                        0   \n",
       "\n",
       "   Property_Area_Urban  \n",
       "0                    1  \n",
       "1                    0  \n",
       "2                    1  \n",
       "3                    1  \n",
       "4                    1  "
      ]
     },
     "execution_count": 73,
     "metadata": {},
     "output_type": "execute_result"
    }
   ],
   "source": [
    "df.head()"
   ]
  },
  {
   "cell_type": "code",
   "execution_count": 74,
   "metadata": {},
   "outputs": [
    {
     "data": {
      "text/html": [
       "<div>\n",
       "<style scoped>\n",
       "    .dataframe tbody tr th:only-of-type {\n",
       "        vertical-align: middle;\n",
       "    }\n",
       "\n",
       "    .dataframe tbody tr th {\n",
       "        vertical-align: top;\n",
       "    }\n",
       "\n",
       "    .dataframe thead th {\n",
       "        text-align: right;\n",
       "    }\n",
       "</style>\n",
       "<table border=\"1\" class=\"dataframe\">\n",
       "  <thead>\n",
       "    <tr style=\"text-align: right;\">\n",
       "      <th></th>\n",
       "      <th>ApplicantIncome</th>\n",
       "      <th>CoapplicantIncome</th>\n",
       "      <th>LoanAmount</th>\n",
       "      <th>Loan_Amount_Term</th>\n",
       "      <th>Credit_History</th>\n",
       "      <th>Gender_Female</th>\n",
       "      <th>Gender_Male</th>\n",
       "      <th>Married_No</th>\n",
       "      <th>Married_Yes</th>\n",
       "      <th>Dependents_0</th>\n",
       "      <th>Dependents_1</th>\n",
       "      <th>Dependents_2</th>\n",
       "      <th>Dependents_3+</th>\n",
       "      <th>Education_Graduate</th>\n",
       "      <th>Education_Not Graduate</th>\n",
       "      <th>Self_Employed_No</th>\n",
       "      <th>Self_Employed_Yes</th>\n",
       "      <th>Property_Area_Rural</th>\n",
       "      <th>Property_Area_Semiurban</th>\n",
       "      <th>Property_Area_Urban</th>\n",
       "    </tr>\n",
       "  </thead>\n",
       "  <tbody>\n",
       "    <tr>\n",
       "      <th>ApplicantIncome</th>\n",
       "      <td>1.000000</td>\n",
       "      <td>-0.135540</td>\n",
       "      <td>0.527429</td>\n",
       "      <td>-0.006863</td>\n",
       "      <td>0.044676</td>\n",
       "      <td>-0.097233</td>\n",
       "      <td>0.097233</td>\n",
       "      <td>-0.054354</td>\n",
       "      <td>0.054354</td>\n",
       "      <td>-0.083052</td>\n",
       "      <td>0.096995</td>\n",
       "      <td>-0.054485</td>\n",
       "      <td>0.078992</td>\n",
       "      <td>0.158442</td>\n",
       "      <td>-0.158442</td>\n",
       "      <td>-0.115123</td>\n",
       "      <td>0.115123</td>\n",
       "      <td>0.022202</td>\n",
       "      <td>0.017441</td>\n",
       "      <td>-0.039327</td>\n",
       "    </tr>\n",
       "    <tr>\n",
       "      <th>CoapplicantIncome</th>\n",
       "      <td>-0.135540</td>\n",
       "      <td>1.000000</td>\n",
       "      <td>0.309448</td>\n",
       "      <td>-0.231123</td>\n",
       "      <td>0.022320</td>\n",
       "      <td>0.091035</td>\n",
       "      <td>-0.091035</td>\n",
       "      <td>0.035926</td>\n",
       "      <td>-0.035926</td>\n",
       "      <td>-0.108111</td>\n",
       "      <td>-0.055971</td>\n",
       "      <td>-0.009754</td>\n",
       "      <td>0.259662</td>\n",
       "      <td>0.080487</td>\n",
       "      <td>-0.080487</td>\n",
       "      <td>0.014149</td>\n",
       "      <td>-0.014149</td>\n",
       "      <td>-0.068203</td>\n",
       "      <td>-0.072303</td>\n",
       "      <td>0.139615</td>\n",
       "    </tr>\n",
       "    <tr>\n",
       "      <th>LoanAmount</th>\n",
       "      <td>0.527429</td>\n",
       "      <td>0.309448</td>\n",
       "      <td>1.000000</td>\n",
       "      <td>-0.014633</td>\n",
       "      <td>0.042433</td>\n",
       "      <td>-0.071618</td>\n",
       "      <td>0.071618</td>\n",
       "      <td>-0.086504</td>\n",
       "      <td>0.086504</td>\n",
       "      <td>-0.152309</td>\n",
       "      <td>0.059217</td>\n",
       "      <td>-0.016977</td>\n",
       "      <td>0.195223</td>\n",
       "      <td>0.182148</td>\n",
       "      <td>-0.182148</td>\n",
       "      <td>-0.088364</td>\n",
       "      <td>0.088364</td>\n",
       "      <td>0.027151</td>\n",
       "      <td>-0.022996</td>\n",
       "      <td>-0.003584</td>\n",
       "    </tr>\n",
       "    <tr>\n",
       "      <th>Loan_Amount_Term</th>\n",
       "      <td>-0.006863</td>\n",
       "      <td>-0.231123</td>\n",
       "      <td>-0.014633</td>\n",
       "      <td>1.000000</td>\n",
       "      <td>-0.019632</td>\n",
       "      <td>0.020381</td>\n",
       "      <td>-0.020381</td>\n",
       "      <td>0.066706</td>\n",
       "      <td>-0.066706</td>\n",
       "      <td>0.158606</td>\n",
       "      <td>-0.091550</td>\n",
       "      <td>-0.007020</td>\n",
       "      <td>-0.135874</td>\n",
       "      <td>0.047981</td>\n",
       "      <td>-0.047981</td>\n",
       "      <td>0.039510</td>\n",
       "      <td>-0.039510</td>\n",
       "      <td>0.058403</td>\n",
       "      <td>0.057596</td>\n",
       "      <td>-0.115220</td>\n",
       "    </tr>\n",
       "    <tr>\n",
       "      <th>Credit_History</th>\n",
       "      <td>0.044676</td>\n",
       "      <td>0.022320</td>\n",
       "      <td>0.042433</td>\n",
       "      <td>-0.019632</td>\n",
       "      <td>1.000000</td>\n",
       "      <td>-0.021852</td>\n",
       "      <td>0.021852</td>\n",
       "      <td>0.005523</td>\n",
       "      <td>-0.005523</td>\n",
       "      <td>0.040646</td>\n",
       "      <td>-0.015175</td>\n",
       "      <td>0.023700</td>\n",
       "      <td>-0.075909</td>\n",
       "      <td>0.117775</td>\n",
       "      <td>-0.117775</td>\n",
       "      <td>0.016606</td>\n",
       "      <td>-0.016606</td>\n",
       "      <td>0.049852</td>\n",
       "      <td>-0.003107</td>\n",
       "      <td>-0.045860</td>\n",
       "    </tr>\n",
       "    <tr>\n",
       "      <th>Gender_Female</th>\n",
       "      <td>-0.097233</td>\n",
       "      <td>0.091035</td>\n",
       "      <td>-0.071618</td>\n",
       "      <td>0.020381</td>\n",
       "      <td>-0.021852</td>\n",
       "      <td>1.000000</td>\n",
       "      <td>-1.000000</td>\n",
       "      <td>0.359026</td>\n",
       "      <td>-0.359026</td>\n",
       "      <td>0.126847</td>\n",
       "      <td>-0.005731</td>\n",
       "      <td>-0.137826</td>\n",
       "      <td>-0.035200</td>\n",
       "      <td>0.051209</td>\n",
       "      <td>-0.051209</td>\n",
       "      <td>0.025586</td>\n",
       "      <td>-0.025586</td>\n",
       "      <td>-0.099267</td>\n",
       "      <td>0.063925</td>\n",
       "      <td>0.033341</td>\n",
       "    </tr>\n",
       "    <tr>\n",
       "      <th>Gender_Male</th>\n",
       "      <td>0.097233</td>\n",
       "      <td>-0.091035</td>\n",
       "      <td>0.071618</td>\n",
       "      <td>-0.020381</td>\n",
       "      <td>0.021852</td>\n",
       "      <td>-1.000000</td>\n",
       "      <td>1.000000</td>\n",
       "      <td>-0.359026</td>\n",
       "      <td>0.359026</td>\n",
       "      <td>-0.126847</td>\n",
       "      <td>0.005731</td>\n",
       "      <td>0.137826</td>\n",
       "      <td>0.035200</td>\n",
       "      <td>-0.051209</td>\n",
       "      <td>0.051209</td>\n",
       "      <td>-0.025586</td>\n",
       "      <td>0.025586</td>\n",
       "      <td>0.099267</td>\n",
       "      <td>-0.063925</td>\n",
       "      <td>-0.033341</td>\n",
       "    </tr>\n",
       "    <tr>\n",
       "      <th>Married_No</th>\n",
       "      <td>-0.054354</td>\n",
       "      <td>0.035926</td>\n",
       "      <td>-0.086504</td>\n",
       "      <td>0.066706</td>\n",
       "      <td>0.005523</td>\n",
       "      <td>0.359026</td>\n",
       "      <td>-0.359026</td>\n",
       "      <td>1.000000</td>\n",
       "      <td>-1.000000</td>\n",
       "      <td>0.307071</td>\n",
       "      <td>-0.118464</td>\n",
       "      <td>-0.235133</td>\n",
       "      <td>-0.071332</td>\n",
       "      <td>0.027996</td>\n",
       "      <td>-0.027996</td>\n",
       "      <td>0.024620</td>\n",
       "      <td>-0.024620</td>\n",
       "      <td>0.022688</td>\n",
       "      <td>-0.044275</td>\n",
       "      <td>0.022168</td>\n",
       "    </tr>\n",
       "    <tr>\n",
       "      <th>Married_Yes</th>\n",
       "      <td>0.054354</td>\n",
       "      <td>-0.035926</td>\n",
       "      <td>0.086504</td>\n",
       "      <td>-0.066706</td>\n",
       "      <td>-0.005523</td>\n",
       "      <td>-0.359026</td>\n",
       "      <td>0.359026</td>\n",
       "      <td>-1.000000</td>\n",
       "      <td>1.000000</td>\n",
       "      <td>-0.307071</td>\n",
       "      <td>0.118464</td>\n",
       "      <td>0.235133</td>\n",
       "      <td>0.071332</td>\n",
       "      <td>-0.027996</td>\n",
       "      <td>0.027996</td>\n",
       "      <td>-0.024620</td>\n",
       "      <td>0.024620</td>\n",
       "      <td>-0.022688</td>\n",
       "      <td>0.044275</td>\n",
       "      <td>-0.022168</td>\n",
       "    </tr>\n",
       "    <tr>\n",
       "      <th>Dependents_0</th>\n",
       "      <td>-0.083052</td>\n",
       "      <td>-0.108111</td>\n",
       "      <td>-0.152309</td>\n",
       "      <td>0.158606</td>\n",
       "      <td>0.040646</td>\n",
       "      <td>0.126847</td>\n",
       "      <td>-0.126847</td>\n",
       "      <td>0.307071</td>\n",
       "      <td>-0.307071</td>\n",
       "      <td>1.000000</td>\n",
       "      <td>-0.528744</td>\n",
       "      <td>-0.489696</td>\n",
       "      <td>-0.383084</td>\n",
       "      <td>-0.005060</td>\n",
       "      <td>0.005060</td>\n",
       "      <td>0.142026</td>\n",
       "      <td>-0.142026</td>\n",
       "      <td>0.063796</td>\n",
       "      <td>-0.010650</td>\n",
       "      <td>-0.051987</td>\n",
       "    </tr>\n",
       "    <tr>\n",
       "      <th>Dependents_1</th>\n",
       "      <td>0.096995</td>\n",
       "      <td>-0.055971</td>\n",
       "      <td>0.059217</td>\n",
       "      <td>-0.091550</td>\n",
       "      <td>-0.015175</td>\n",
       "      <td>-0.005731</td>\n",
       "      <td>0.005731</td>\n",
       "      <td>-0.118464</td>\n",
       "      <td>0.118464</td>\n",
       "      <td>-0.528744</td>\n",
       "      <td>1.000000</td>\n",
       "      <td>-0.200176</td>\n",
       "      <td>-0.156596</td>\n",
       "      <td>0.058704</td>\n",
       "      <td>-0.058704</td>\n",
       "      <td>-0.137905</td>\n",
       "      <td>0.137905</td>\n",
       "      <td>-0.082992</td>\n",
       "      <td>0.008360</td>\n",
       "      <td>0.073147</td>\n",
       "    </tr>\n",
       "    <tr>\n",
       "      <th>Dependents_2</th>\n",
       "      <td>-0.054485</td>\n",
       "      <td>-0.009754</td>\n",
       "      <td>-0.016977</td>\n",
       "      <td>-0.007020</td>\n",
       "      <td>0.023700</td>\n",
       "      <td>-0.137826</td>\n",
       "      <td>0.137826</td>\n",
       "      <td>-0.235133</td>\n",
       "      <td>0.235133</td>\n",
       "      <td>-0.489696</td>\n",
       "      <td>-0.200176</td>\n",
       "      <td>1.000000</td>\n",
       "      <td>-0.145031</td>\n",
       "      <td>-0.040019</td>\n",
       "      <td>0.040019</td>\n",
       "      <td>-0.091183</td>\n",
       "      <td>0.091183</td>\n",
       "      <td>0.008709</td>\n",
       "      <td>-0.010376</td>\n",
       "      <td>0.001862</td>\n",
       "    </tr>\n",
       "    <tr>\n",
       "      <th>Dependents_3+</th>\n",
       "      <td>0.078992</td>\n",
       "      <td>0.259662</td>\n",
       "      <td>0.195223</td>\n",
       "      <td>-0.135874</td>\n",
       "      <td>-0.075909</td>\n",
       "      <td>-0.035200</td>\n",
       "      <td>0.035200</td>\n",
       "      <td>-0.071332</td>\n",
       "      <td>0.071332</td>\n",
       "      <td>-0.383084</td>\n",
       "      <td>-0.156596</td>\n",
       "      <td>-0.145031</td>\n",
       "      <td>1.000000</td>\n",
       "      <td>-0.017838</td>\n",
       "      <td>0.017838</td>\n",
       "      <td>0.050940</td>\n",
       "      <td>-0.050940</td>\n",
       "      <td>-0.010158</td>\n",
       "      <td>0.019351</td>\n",
       "      <td>-0.009451</td>\n",
       "    </tr>\n",
       "    <tr>\n",
       "      <th>Education_Graduate</th>\n",
       "      <td>0.158442</td>\n",
       "      <td>0.080487</td>\n",
       "      <td>0.182148</td>\n",
       "      <td>0.047981</td>\n",
       "      <td>0.117775</td>\n",
       "      <td>0.051209</td>\n",
       "      <td>-0.051209</td>\n",
       "      <td>0.027996</td>\n",
       "      <td>-0.027996</td>\n",
       "      <td>-0.005060</td>\n",
       "      <td>0.058704</td>\n",
       "      <td>-0.040019</td>\n",
       "      <td>-0.017838</td>\n",
       "      <td>1.000000</td>\n",
       "      <td>-1.000000</td>\n",
       "      <td>-0.009430</td>\n",
       "      <td>0.009430</td>\n",
       "      <td>-0.076365</td>\n",
       "      <td>0.064371</td>\n",
       "      <td>0.010391</td>\n",
       "    </tr>\n",
       "    <tr>\n",
       "      <th>Education_Not Graduate</th>\n",
       "      <td>-0.158442</td>\n",
       "      <td>-0.080487</td>\n",
       "      <td>-0.182148</td>\n",
       "      <td>-0.047981</td>\n",
       "      <td>-0.117775</td>\n",
       "      <td>-0.051209</td>\n",
       "      <td>0.051209</td>\n",
       "      <td>-0.027996</td>\n",
       "      <td>0.027996</td>\n",
       "      <td>0.005060</td>\n",
       "      <td>-0.058704</td>\n",
       "      <td>0.040019</td>\n",
       "      <td>0.017838</td>\n",
       "      <td>-1.000000</td>\n",
       "      <td>1.000000</td>\n",
       "      <td>0.009430</td>\n",
       "      <td>-0.009430</td>\n",
       "      <td>0.076365</td>\n",
       "      <td>-0.064371</td>\n",
       "      <td>-0.010391</td>\n",
       "    </tr>\n",
       "    <tr>\n",
       "      <th>Self_Employed_No</th>\n",
       "      <td>-0.115123</td>\n",
       "      <td>0.014149</td>\n",
       "      <td>-0.088364</td>\n",
       "      <td>0.039510</td>\n",
       "      <td>0.016606</td>\n",
       "      <td>0.025586</td>\n",
       "      <td>-0.025586</td>\n",
       "      <td>0.024620</td>\n",
       "      <td>-0.024620</td>\n",
       "      <td>0.142026</td>\n",
       "      <td>-0.137905</td>\n",
       "      <td>-0.091183</td>\n",
       "      <td>0.050940</td>\n",
       "      <td>-0.009430</td>\n",
       "      <td>0.009430</td>\n",
       "      <td>1.000000</td>\n",
       "      <td>-1.000000</td>\n",
       "      <td>-0.011781</td>\n",
       "      <td>0.011875</td>\n",
       "      <td>-0.000350</td>\n",
       "    </tr>\n",
       "    <tr>\n",
       "      <th>Self_Employed_Yes</th>\n",
       "      <td>0.115123</td>\n",
       "      <td>-0.014149</td>\n",
       "      <td>0.088364</td>\n",
       "      <td>-0.039510</td>\n",
       "      <td>-0.016606</td>\n",
       "      <td>-0.025586</td>\n",
       "      <td>0.025586</td>\n",
       "      <td>-0.024620</td>\n",
       "      <td>0.024620</td>\n",
       "      <td>-0.142026</td>\n",
       "      <td>0.137905</td>\n",
       "      <td>0.091183</td>\n",
       "      <td>-0.050940</td>\n",
       "      <td>0.009430</td>\n",
       "      <td>-0.009430</td>\n",
       "      <td>-1.000000</td>\n",
       "      <td>1.000000</td>\n",
       "      <td>0.011781</td>\n",
       "      <td>-0.011875</td>\n",
       "      <td>0.000350</td>\n",
       "    </tr>\n",
       "    <tr>\n",
       "      <th>Property_Area_Rural</th>\n",
       "      <td>0.022202</td>\n",
       "      <td>-0.068203</td>\n",
       "      <td>0.027151</td>\n",
       "      <td>0.058403</td>\n",
       "      <td>0.049852</td>\n",
       "      <td>-0.099267</td>\n",
       "      <td>0.099267</td>\n",
       "      <td>0.022688</td>\n",
       "      <td>-0.022688</td>\n",
       "      <td>0.063796</td>\n",
       "      <td>-0.082992</td>\n",
       "      <td>0.008709</td>\n",
       "      <td>-0.010158</td>\n",
       "      <td>-0.076365</td>\n",
       "      <td>0.076365</td>\n",
       "      <td>-0.011781</td>\n",
       "      <td>0.011781</td>\n",
       "      <td>1.000000</td>\n",
       "      <td>-0.493460</td>\n",
       "      <td>-0.487005</td>\n",
       "    </tr>\n",
       "    <tr>\n",
       "      <th>Property_Area_Semiurban</th>\n",
       "      <td>0.017441</td>\n",
       "      <td>-0.072303</td>\n",
       "      <td>-0.022996</td>\n",
       "      <td>0.057596</td>\n",
       "      <td>-0.003107</td>\n",
       "      <td>0.063925</td>\n",
       "      <td>-0.063925</td>\n",
       "      <td>-0.044275</td>\n",
       "      <td>0.044275</td>\n",
       "      <td>-0.010650</td>\n",
       "      <td>0.008360</td>\n",
       "      <td>-0.010376</td>\n",
       "      <td>0.019351</td>\n",
       "      <td>0.064371</td>\n",
       "      <td>-0.064371</td>\n",
       "      <td>0.011875</td>\n",
       "      <td>-0.011875</td>\n",
       "      <td>-0.493460</td>\n",
       "      <td>1.000000</td>\n",
       "      <td>-0.519338</td>\n",
       "    </tr>\n",
       "    <tr>\n",
       "      <th>Property_Area_Urban</th>\n",
       "      <td>-0.039327</td>\n",
       "      <td>0.139615</td>\n",
       "      <td>-0.003584</td>\n",
       "      <td>-0.115220</td>\n",
       "      <td>-0.045860</td>\n",
       "      <td>0.033341</td>\n",
       "      <td>-0.033341</td>\n",
       "      <td>0.022168</td>\n",
       "      <td>-0.022168</td>\n",
       "      <td>-0.051987</td>\n",
       "      <td>0.073147</td>\n",
       "      <td>0.001862</td>\n",
       "      <td>-0.009451</td>\n",
       "      <td>0.010391</td>\n",
       "      <td>-0.010391</td>\n",
       "      <td>-0.000350</td>\n",
       "      <td>0.000350</td>\n",
       "      <td>-0.487005</td>\n",
       "      <td>-0.519338</td>\n",
       "      <td>1.000000</td>\n",
       "    </tr>\n",
       "  </tbody>\n",
       "</table>\n",
       "</div>"
      ],
      "text/plain": [
       "                         ApplicantIncome  CoapplicantIncome  LoanAmount  \\\n",
       "ApplicantIncome                 1.000000          -0.135540    0.527429   \n",
       "CoapplicantIncome              -0.135540           1.000000    0.309448   \n",
       "LoanAmount                      0.527429           0.309448    1.000000   \n",
       "Loan_Amount_Term               -0.006863          -0.231123   -0.014633   \n",
       "Credit_History                  0.044676           0.022320    0.042433   \n",
       "Gender_Female                  -0.097233           0.091035   -0.071618   \n",
       "Gender_Male                     0.097233          -0.091035    0.071618   \n",
       "Married_No                     -0.054354           0.035926   -0.086504   \n",
       "Married_Yes                     0.054354          -0.035926    0.086504   \n",
       "Dependents_0                   -0.083052          -0.108111   -0.152309   \n",
       "Dependents_1                    0.096995          -0.055971    0.059217   \n",
       "Dependents_2                   -0.054485          -0.009754   -0.016977   \n",
       "Dependents_3+                   0.078992           0.259662    0.195223   \n",
       "Education_Graduate              0.158442           0.080487    0.182148   \n",
       "Education_Not Graduate         -0.158442          -0.080487   -0.182148   \n",
       "Self_Employed_No               -0.115123           0.014149   -0.088364   \n",
       "Self_Employed_Yes               0.115123          -0.014149    0.088364   \n",
       "Property_Area_Rural             0.022202          -0.068203    0.027151   \n",
       "Property_Area_Semiurban         0.017441          -0.072303   -0.022996   \n",
       "Property_Area_Urban            -0.039327           0.139615   -0.003584   \n",
       "\n",
       "                         Loan_Amount_Term  Credit_History  Gender_Female  \\\n",
       "ApplicantIncome                 -0.006863        0.044676      -0.097233   \n",
       "CoapplicantIncome               -0.231123        0.022320       0.091035   \n",
       "LoanAmount                      -0.014633        0.042433      -0.071618   \n",
       "Loan_Amount_Term                 1.000000       -0.019632       0.020381   \n",
       "Credit_History                  -0.019632        1.000000      -0.021852   \n",
       "Gender_Female                    0.020381       -0.021852       1.000000   \n",
       "Gender_Male                     -0.020381        0.021852      -1.000000   \n",
       "Married_No                       0.066706        0.005523       0.359026   \n",
       "Married_Yes                     -0.066706       -0.005523      -0.359026   \n",
       "Dependents_0                     0.158606        0.040646       0.126847   \n",
       "Dependents_1                    -0.091550       -0.015175      -0.005731   \n",
       "Dependents_2                    -0.007020        0.023700      -0.137826   \n",
       "Dependents_3+                   -0.135874       -0.075909      -0.035200   \n",
       "Education_Graduate               0.047981        0.117775       0.051209   \n",
       "Education_Not Graduate          -0.047981       -0.117775      -0.051209   \n",
       "Self_Employed_No                 0.039510        0.016606       0.025586   \n",
       "Self_Employed_Yes               -0.039510       -0.016606      -0.025586   \n",
       "Property_Area_Rural              0.058403        0.049852      -0.099267   \n",
       "Property_Area_Semiurban          0.057596       -0.003107       0.063925   \n",
       "Property_Area_Urban             -0.115220       -0.045860       0.033341   \n",
       "\n",
       "                         Gender_Male  Married_No  Married_Yes  Dependents_0  \\\n",
       "ApplicantIncome             0.097233   -0.054354     0.054354     -0.083052   \n",
       "CoapplicantIncome          -0.091035    0.035926    -0.035926     -0.108111   \n",
       "LoanAmount                  0.071618   -0.086504     0.086504     -0.152309   \n",
       "Loan_Amount_Term           -0.020381    0.066706    -0.066706      0.158606   \n",
       "Credit_History              0.021852    0.005523    -0.005523      0.040646   \n",
       "Gender_Female              -1.000000    0.359026    -0.359026      0.126847   \n",
       "Gender_Male                 1.000000   -0.359026     0.359026     -0.126847   \n",
       "Married_No                 -0.359026    1.000000    -1.000000      0.307071   \n",
       "Married_Yes                 0.359026   -1.000000     1.000000     -0.307071   \n",
       "Dependents_0               -0.126847    0.307071    -0.307071      1.000000   \n",
       "Dependents_1                0.005731   -0.118464     0.118464     -0.528744   \n",
       "Dependents_2                0.137826   -0.235133     0.235133     -0.489696   \n",
       "Dependents_3+               0.035200   -0.071332     0.071332     -0.383084   \n",
       "Education_Graduate         -0.051209    0.027996    -0.027996     -0.005060   \n",
       "Education_Not Graduate      0.051209   -0.027996     0.027996      0.005060   \n",
       "Self_Employed_No           -0.025586    0.024620    -0.024620      0.142026   \n",
       "Self_Employed_Yes           0.025586   -0.024620     0.024620     -0.142026   \n",
       "Property_Area_Rural         0.099267    0.022688    -0.022688      0.063796   \n",
       "Property_Area_Semiurban    -0.063925   -0.044275     0.044275     -0.010650   \n",
       "Property_Area_Urban        -0.033341    0.022168    -0.022168     -0.051987   \n",
       "\n",
       "                         Dependents_1  Dependents_2  Dependents_3+  \\\n",
       "ApplicantIncome              0.096995     -0.054485       0.078992   \n",
       "CoapplicantIncome           -0.055971     -0.009754       0.259662   \n",
       "LoanAmount                   0.059217     -0.016977       0.195223   \n",
       "Loan_Amount_Term            -0.091550     -0.007020      -0.135874   \n",
       "Credit_History              -0.015175      0.023700      -0.075909   \n",
       "Gender_Female               -0.005731     -0.137826      -0.035200   \n",
       "Gender_Male                  0.005731      0.137826       0.035200   \n",
       "Married_No                  -0.118464     -0.235133      -0.071332   \n",
       "Married_Yes                  0.118464      0.235133       0.071332   \n",
       "Dependents_0                -0.528744     -0.489696      -0.383084   \n",
       "Dependents_1                 1.000000     -0.200176      -0.156596   \n",
       "Dependents_2                -0.200176      1.000000      -0.145031   \n",
       "Dependents_3+               -0.156596     -0.145031       1.000000   \n",
       "Education_Graduate           0.058704     -0.040019      -0.017838   \n",
       "Education_Not Graduate      -0.058704      0.040019       0.017838   \n",
       "Self_Employed_No            -0.137905     -0.091183       0.050940   \n",
       "Self_Employed_Yes            0.137905      0.091183      -0.050940   \n",
       "Property_Area_Rural         -0.082992      0.008709      -0.010158   \n",
       "Property_Area_Semiurban      0.008360     -0.010376       0.019351   \n",
       "Property_Area_Urban          0.073147      0.001862      -0.009451   \n",
       "\n",
       "                         Education_Graduate  Education_Not Graduate  \\\n",
       "ApplicantIncome                    0.158442               -0.158442   \n",
       "CoapplicantIncome                  0.080487               -0.080487   \n",
       "LoanAmount                         0.182148               -0.182148   \n",
       "Loan_Amount_Term                   0.047981               -0.047981   \n",
       "Credit_History                     0.117775               -0.117775   \n",
       "Gender_Female                      0.051209               -0.051209   \n",
       "Gender_Male                       -0.051209                0.051209   \n",
       "Married_No                         0.027996               -0.027996   \n",
       "Married_Yes                       -0.027996                0.027996   \n",
       "Dependents_0                      -0.005060                0.005060   \n",
       "Dependents_1                       0.058704               -0.058704   \n",
       "Dependents_2                      -0.040019                0.040019   \n",
       "Dependents_3+                     -0.017838                0.017838   \n",
       "Education_Graduate                 1.000000               -1.000000   \n",
       "Education_Not Graduate            -1.000000                1.000000   \n",
       "Self_Employed_No                  -0.009430                0.009430   \n",
       "Self_Employed_Yes                  0.009430               -0.009430   \n",
       "Property_Area_Rural               -0.076365                0.076365   \n",
       "Property_Area_Semiurban            0.064371               -0.064371   \n",
       "Property_Area_Urban                0.010391               -0.010391   \n",
       "\n",
       "                         Self_Employed_No  Self_Employed_Yes  \\\n",
       "ApplicantIncome                 -0.115123           0.115123   \n",
       "CoapplicantIncome                0.014149          -0.014149   \n",
       "LoanAmount                      -0.088364           0.088364   \n",
       "Loan_Amount_Term                 0.039510          -0.039510   \n",
       "Credit_History                   0.016606          -0.016606   \n",
       "Gender_Female                    0.025586          -0.025586   \n",
       "Gender_Male                     -0.025586           0.025586   \n",
       "Married_No                       0.024620          -0.024620   \n",
       "Married_Yes                     -0.024620           0.024620   \n",
       "Dependents_0                     0.142026          -0.142026   \n",
       "Dependents_1                    -0.137905           0.137905   \n",
       "Dependents_2                    -0.091183           0.091183   \n",
       "Dependents_3+                    0.050940          -0.050940   \n",
       "Education_Graduate              -0.009430           0.009430   \n",
       "Education_Not Graduate           0.009430          -0.009430   \n",
       "Self_Employed_No                 1.000000          -1.000000   \n",
       "Self_Employed_Yes               -1.000000           1.000000   \n",
       "Property_Area_Rural             -0.011781           0.011781   \n",
       "Property_Area_Semiurban          0.011875          -0.011875   \n",
       "Property_Area_Urban             -0.000350           0.000350   \n",
       "\n",
       "                         Property_Area_Rural  Property_Area_Semiurban  \\\n",
       "ApplicantIncome                     0.022202                 0.017441   \n",
       "CoapplicantIncome                  -0.068203                -0.072303   \n",
       "LoanAmount                          0.027151                -0.022996   \n",
       "Loan_Amount_Term                    0.058403                 0.057596   \n",
       "Credit_History                      0.049852                -0.003107   \n",
       "Gender_Female                      -0.099267                 0.063925   \n",
       "Gender_Male                         0.099267                -0.063925   \n",
       "Married_No                          0.022688                -0.044275   \n",
       "Married_Yes                        -0.022688                 0.044275   \n",
       "Dependents_0                        0.063796                -0.010650   \n",
       "Dependents_1                       -0.082992                 0.008360   \n",
       "Dependents_2                        0.008709                -0.010376   \n",
       "Dependents_3+                      -0.010158                 0.019351   \n",
       "Education_Graduate                 -0.076365                 0.064371   \n",
       "Education_Not Graduate              0.076365                -0.064371   \n",
       "Self_Employed_No                   -0.011781                 0.011875   \n",
       "Self_Employed_Yes                   0.011781                -0.011875   \n",
       "Property_Area_Rural                 1.000000                -0.493460   \n",
       "Property_Area_Semiurban            -0.493460                 1.000000   \n",
       "Property_Area_Urban                -0.487005                -0.519338   \n",
       "\n",
       "                         Property_Area_Urban  \n",
       "ApplicantIncome                    -0.039327  \n",
       "CoapplicantIncome                   0.139615  \n",
       "LoanAmount                         -0.003584  \n",
       "Loan_Amount_Term                   -0.115220  \n",
       "Credit_History                     -0.045860  \n",
       "Gender_Female                       0.033341  \n",
       "Gender_Male                        -0.033341  \n",
       "Married_No                          0.022168  \n",
       "Married_Yes                        -0.022168  \n",
       "Dependents_0                       -0.051987  \n",
       "Dependents_1                        0.073147  \n",
       "Dependents_2                        0.001862  \n",
       "Dependents_3+                      -0.009451  \n",
       "Education_Graduate                  0.010391  \n",
       "Education_Not Graduate             -0.010391  \n",
       "Self_Employed_No                   -0.000350  \n",
       "Self_Employed_Yes                   0.000350  \n",
       "Property_Area_Rural                -0.487005  \n",
       "Property_Area_Semiurban            -0.519338  \n",
       "Property_Area_Urban                 1.000000  "
      ]
     },
     "execution_count": 74,
     "metadata": {},
     "output_type": "execute_result"
    }
   ],
   "source": [
    "df.corr()\n",
    "##none of the negatively correlated columns with the target have very high values.no need to delete any column."
   ]
  },
  {
   "cell_type": "markdown",
   "metadata": {},
   "source": [
    "# Removing outliers(not removing outliers as data we have is alredy less.)"
   ]
  },
  {
   "cell_type": "raw",
   "metadata": {},
   "source": [
    "from scipy.stats import zscore\n",
    "z=abs(zscore(df))\n",
    "z.shape"
   ]
  },
  {
   "cell_type": "raw",
   "metadata": {},
   "source": [
    "df=df[(z<3).all(axis=1)]\n",
    "df.shape"
   ]
  },
  {
   "cell_type": "markdown",
   "metadata": {},
   "source": [
    "# Applying Power transformation to remove skewness"
   ]
  },
  {
   "cell_type": "code",
   "execution_count": 75,
   "metadata": {},
   "outputs": [
    {
     "data": {
      "text/plain": [
       "ApplicantIncome            5.900475\n",
       "CoapplicantIncome          6.633281\n",
       "LoanAmount                 2.385979\n",
       "Loan_Amount_Term          -2.272254\n",
       "Credit_History            -1.253517\n",
       "Gender_Female              1.464259\n",
       "Gender_Male               -1.464259\n",
       "Married_No                 0.540957\n",
       "Married_Yes               -0.540957\n",
       "Dependents_0              -0.258505\n",
       "Dependents_1               1.689065\n",
       "Dependents_2               1.895282\n",
       "Dependents_3+              2.636686\n",
       "Education_Graduate        -1.262700\n",
       "Education_Not Graduate     1.262700\n",
       "Self_Employed_No          -2.169202\n",
       "Self_Employed_Yes          2.169202\n",
       "Property_Area_Rural        0.791209\n",
       "Property_Area_Semiurban    0.654282\n",
       "Property_Area_Urban        0.682090\n",
       "dtype: float64"
      ]
     },
     "execution_count": 75,
     "metadata": {},
     "output_type": "execute_result"
    }
   ],
   "source": [
    "df.skew()"
   ]
  },
  {
   "cell_type": "code",
   "execution_count": 76,
   "metadata": {},
   "outputs": [],
   "source": [
    "from sklearn.preprocessing import PowerTransformer\n",
    "pt=PowerTransformer(method='yeo-johnson') \n",
    "X_power=pt.fit_transform(df)\n",
    "df=pd.DataFrame(X_power,columns=df.columns)"
   ]
  },
  {
   "cell_type": "code",
   "execution_count": 77,
   "metadata": {},
   "outputs": [
    {
     "data": {
      "text/plain": [
       "ApplicantIncome            0.006291\n",
       "CoapplicantIncome         -0.087202\n",
       "LoanAmount                 0.010012\n",
       "Loan_Amount_Term           0.383733\n",
       "Credit_History            -1.133461\n",
       "Gender_Female              1.464259\n",
       "Gender_Male               -1.464259\n",
       "Married_No                 0.540957\n",
       "Married_Yes               -0.540957\n",
       "Dependents_0              -0.258505\n",
       "Dependents_1               1.689065\n",
       "Dependents_2               1.895282\n",
       "Dependents_3+              2.636686\n",
       "Education_Graduate        -1.262700\n",
       "Education_Not Graduate     1.262700\n",
       "Self_Employed_No          -2.169202\n",
       "Self_Employed_Yes          2.169202\n",
       "Property_Area_Rural        0.791209\n",
       "Property_Area_Semiurban    0.654282\n",
       "Property_Area_Urban        0.682090\n",
       "dtype: float64"
      ]
     },
     "execution_count": 77,
     "metadata": {},
     "output_type": "execute_result"
    }
   ],
   "source": [
    "df.skew()"
   ]
  },
  {
   "cell_type": "code",
   "execution_count": 78,
   "metadata": {},
   "outputs": [
    {
     "data": {
      "text/html": [
       "<div>\n",
       "<style scoped>\n",
       "    .dataframe tbody tr th:only-of-type {\n",
       "        vertical-align: middle;\n",
       "    }\n",
       "\n",
       "    .dataframe tbody tr th {\n",
       "        vertical-align: top;\n",
       "    }\n",
       "\n",
       "    .dataframe thead th {\n",
       "        text-align: right;\n",
       "    }\n",
       "</style>\n",
       "<table border=\"1\" class=\"dataframe\">\n",
       "  <thead>\n",
       "    <tr style=\"text-align: right;\">\n",
       "      <th></th>\n",
       "      <th>ApplicantIncome</th>\n",
       "      <th>CoapplicantIncome</th>\n",
       "      <th>LoanAmount</th>\n",
       "      <th>Loan_Amount_Term</th>\n",
       "      <th>Credit_History</th>\n",
       "      <th>Gender_Female</th>\n",
       "      <th>Gender_Male</th>\n",
       "      <th>Married_No</th>\n",
       "      <th>Married_Yes</th>\n",
       "      <th>Dependents_0</th>\n",
       "      <th>Dependents_1</th>\n",
       "      <th>Dependents_2</th>\n",
       "      <th>Dependents_3+</th>\n",
       "      <th>Education_Graduate</th>\n",
       "      <th>Education_Not Graduate</th>\n",
       "      <th>Self_Employed_No</th>\n",
       "      <th>Self_Employed_Yes</th>\n",
       "      <th>Property_Area_Rural</th>\n",
       "      <th>Property_Area_Semiurban</th>\n",
       "      <th>Property_Area_Urban</th>\n",
       "    </tr>\n",
       "  </thead>\n",
       "  <tbody>\n",
       "    <tr>\n",
       "      <th>0</th>\n",
       "      <td>0.488939</td>\n",
       "      <td>-1.074635</td>\n",
       "      <td>0.162619</td>\n",
       "      <td>0.173263</td>\n",
       "      <td>0.620774</td>\n",
       "      <td>-0.507764</td>\n",
       "      <td>0.507764</td>\n",
       "      <td>1.305806</td>\n",
       "      <td>-1.305806</td>\n",
       "      <td>0.879266</td>\n",
       "      <td>-0.464907</td>\n",
       "      <td>-0.430573</td>\n",
       "      <td>-0.336833</td>\n",
       "      <td>0.551799</td>\n",
       "      <td>-0.551799</td>\n",
       "      <td>0.391159</td>\n",
       "      <td>-0.391159</td>\n",
       "      <td>-0.680249</td>\n",
       "      <td>-0.725411</td>\n",
       "      <td>1.396800</td>\n",
       "    </tr>\n",
       "    <tr>\n",
       "      <th>1</th>\n",
       "      <td>0.137131</td>\n",
       "      <td>0.764374</td>\n",
       "      <td>-0.110399</td>\n",
       "      <td>0.173263</td>\n",
       "      <td>0.620774</td>\n",
       "      <td>-0.507764</td>\n",
       "      <td>0.507764</td>\n",
       "      <td>-0.765811</td>\n",
       "      <td>0.765811</td>\n",
       "      <td>-1.137312</td>\n",
       "      <td>2.150969</td>\n",
       "      <td>-0.430573</td>\n",
       "      <td>-0.336833</td>\n",
       "      <td>0.551799</td>\n",
       "      <td>-0.551799</td>\n",
       "      <td>0.391159</td>\n",
       "      <td>-0.391159</td>\n",
       "      <td>1.470051</td>\n",
       "      <td>-0.725411</td>\n",
       "      <td>-0.715922</td>\n",
       "    </tr>\n",
       "    <tr>\n",
       "      <th>2</th>\n",
       "      <td>-0.472504</td>\n",
       "      <td>-1.074635</td>\n",
       "      <td>-1.434560</td>\n",
       "      <td>0.173263</td>\n",
       "      <td>0.620774</td>\n",
       "      <td>-0.507764</td>\n",
       "      <td>0.507764</td>\n",
       "      <td>-0.765811</td>\n",
       "      <td>0.765811</td>\n",
       "      <td>0.879266</td>\n",
       "      <td>-0.464907</td>\n",
       "      <td>-0.430573</td>\n",
       "      <td>-0.336833</td>\n",
       "      <td>0.551799</td>\n",
       "      <td>-0.551799</td>\n",
       "      <td>-2.556504</td>\n",
       "      <td>2.556504</td>\n",
       "      <td>-0.680249</td>\n",
       "      <td>-0.725411</td>\n",
       "      <td>1.396800</td>\n",
       "    </tr>\n",
       "    <tr>\n",
       "      <th>3</th>\n",
       "      <td>-0.687349</td>\n",
       "      <td>0.892772</td>\n",
       "      <td>-0.241003</td>\n",
       "      <td>0.173263</td>\n",
       "      <td>0.620774</td>\n",
       "      <td>-0.507764</td>\n",
       "      <td>0.507764</td>\n",
       "      <td>-0.765811</td>\n",
       "      <td>0.765811</td>\n",
       "      <td>0.879266</td>\n",
       "      <td>-0.464907</td>\n",
       "      <td>-0.430573</td>\n",
       "      <td>-0.336833</td>\n",
       "      <td>-1.812254</td>\n",
       "      <td>1.812254</td>\n",
       "      <td>0.391159</td>\n",
       "      <td>-0.391159</td>\n",
       "      <td>-0.680249</td>\n",
       "      <td>-0.725411</td>\n",
       "      <td>1.396800</td>\n",
       "    </tr>\n",
       "    <tr>\n",
       "      <th>4</th>\n",
       "      <td>0.525740</td>\n",
       "      <td>-1.074635</td>\n",
       "      <td>0.085961</td>\n",
       "      <td>0.173263</td>\n",
       "      <td>0.620774</td>\n",
       "      <td>-0.507764</td>\n",
       "      <td>0.507764</td>\n",
       "      <td>1.305806</td>\n",
       "      <td>-1.305806</td>\n",
       "      <td>0.879266</td>\n",
       "      <td>-0.464907</td>\n",
       "      <td>-0.430573</td>\n",
       "      <td>-0.336833</td>\n",
       "      <td>0.551799</td>\n",
       "      <td>-0.551799</td>\n",
       "      <td>0.391159</td>\n",
       "      <td>-0.391159</td>\n",
       "      <td>-0.680249</td>\n",
       "      <td>-0.725411</td>\n",
       "      <td>1.396800</td>\n",
       "    </tr>\n",
       "  </tbody>\n",
       "</table>\n",
       "</div>"
      ],
      "text/plain": [
       "   ApplicantIncome  CoapplicantIncome  LoanAmount  Loan_Amount_Term  \\\n",
       "0         0.488939          -1.074635    0.162619          0.173263   \n",
       "1         0.137131           0.764374   -0.110399          0.173263   \n",
       "2        -0.472504          -1.074635   -1.434560          0.173263   \n",
       "3        -0.687349           0.892772   -0.241003          0.173263   \n",
       "4         0.525740          -1.074635    0.085961          0.173263   \n",
       "\n",
       "   Credit_History  Gender_Female  Gender_Male  Married_No  Married_Yes  \\\n",
       "0        0.620774      -0.507764     0.507764    1.305806    -1.305806   \n",
       "1        0.620774      -0.507764     0.507764   -0.765811     0.765811   \n",
       "2        0.620774      -0.507764     0.507764   -0.765811     0.765811   \n",
       "3        0.620774      -0.507764     0.507764   -0.765811     0.765811   \n",
       "4        0.620774      -0.507764     0.507764    1.305806    -1.305806   \n",
       "\n",
       "   Dependents_0  Dependents_1  Dependents_2  Dependents_3+  \\\n",
       "0      0.879266     -0.464907     -0.430573      -0.336833   \n",
       "1     -1.137312      2.150969     -0.430573      -0.336833   \n",
       "2      0.879266     -0.464907     -0.430573      -0.336833   \n",
       "3      0.879266     -0.464907     -0.430573      -0.336833   \n",
       "4      0.879266     -0.464907     -0.430573      -0.336833   \n",
       "\n",
       "   Education_Graduate  Education_Not Graduate  Self_Employed_No  \\\n",
       "0            0.551799               -0.551799          0.391159   \n",
       "1            0.551799               -0.551799          0.391159   \n",
       "2            0.551799               -0.551799         -2.556504   \n",
       "3           -1.812254                1.812254          0.391159   \n",
       "4            0.551799               -0.551799          0.391159   \n",
       "\n",
       "   Self_Employed_Yes  Property_Area_Rural  Property_Area_Semiurban  \\\n",
       "0          -0.391159            -0.680249                -0.725411   \n",
       "1          -0.391159             1.470051                -0.725411   \n",
       "2           2.556504            -0.680249                -0.725411   \n",
       "3          -0.391159            -0.680249                -0.725411   \n",
       "4          -0.391159            -0.680249                -0.725411   \n",
       "\n",
       "   Property_Area_Urban  \n",
       "0             1.396800  \n",
       "1            -0.715922  \n",
       "2             1.396800  \n",
       "3             1.396800  \n",
       "4             1.396800  "
      ]
     },
     "execution_count": 78,
     "metadata": {},
     "output_type": "execute_result"
    }
   ],
   "source": [
    "df.head()"
   ]
  },
  {
   "cell_type": "markdown",
   "metadata": {},
   "source": [
    "# Scaling the Data"
   ]
  },
  {
   "cell_type": "code",
   "execution_count": 79,
   "metadata": {},
   "outputs": [],
   "source": [
    "#Applying Standard scalar to independent variable only\n",
    "from sklearn.preprocessing import StandardScaler\n",
    "ss=StandardScaler()\n",
    "X_scaled=ss.fit_transform(df)\n",
    "x=pd.DataFrame(data=X_scaled,columns=df.columns)\n"
   ]
  },
  {
   "cell_type": "code",
   "execution_count": 80,
   "metadata": {},
   "outputs": [
    {
     "data": {
      "text/html": [
       "<div>\n",
       "<style scoped>\n",
       "    .dataframe tbody tr th:only-of-type {\n",
       "        vertical-align: middle;\n",
       "    }\n",
       "\n",
       "    .dataframe tbody tr th {\n",
       "        vertical-align: top;\n",
       "    }\n",
       "\n",
       "    .dataframe thead th {\n",
       "        text-align: right;\n",
       "    }\n",
       "</style>\n",
       "<table border=\"1\" class=\"dataframe\">\n",
       "  <thead>\n",
       "    <tr style=\"text-align: right;\">\n",
       "      <th></th>\n",
       "      <th>ApplicantIncome</th>\n",
       "      <th>CoapplicantIncome</th>\n",
       "      <th>LoanAmount</th>\n",
       "      <th>Loan_Amount_Term</th>\n",
       "      <th>Credit_History</th>\n",
       "      <th>Gender_Female</th>\n",
       "      <th>Gender_Male</th>\n",
       "      <th>Married_No</th>\n",
       "      <th>Married_Yes</th>\n",
       "      <th>Dependents_0</th>\n",
       "      <th>Dependents_1</th>\n",
       "      <th>Dependents_2</th>\n",
       "      <th>Dependents_3+</th>\n",
       "      <th>Education_Graduate</th>\n",
       "      <th>Education_Not Graduate</th>\n",
       "      <th>Self_Employed_No</th>\n",
       "      <th>Self_Employed_Yes</th>\n",
       "      <th>Property_Area_Rural</th>\n",
       "      <th>Property_Area_Semiurban</th>\n",
       "      <th>Property_Area_Urban</th>\n",
       "    </tr>\n",
       "  </thead>\n",
       "  <tbody>\n",
       "    <tr>\n",
       "      <th>0</th>\n",
       "      <td>0.488939</td>\n",
       "      <td>-1.074635</td>\n",
       "      <td>0.162619</td>\n",
       "      <td>0.173263</td>\n",
       "      <td>0.620774</td>\n",
       "      <td>-0.507764</td>\n",
       "      <td>0.507764</td>\n",
       "      <td>1.305806</td>\n",
       "      <td>-1.305806</td>\n",
       "      <td>0.879266</td>\n",
       "      <td>-0.464907</td>\n",
       "      <td>-0.430573</td>\n",
       "      <td>-0.336833</td>\n",
       "      <td>0.551799</td>\n",
       "      <td>-0.551799</td>\n",
       "      <td>0.391159</td>\n",
       "      <td>-0.391159</td>\n",
       "      <td>-0.680249</td>\n",
       "      <td>-0.725411</td>\n",
       "      <td>1.396800</td>\n",
       "    </tr>\n",
       "    <tr>\n",
       "      <th>1</th>\n",
       "      <td>0.137131</td>\n",
       "      <td>0.764374</td>\n",
       "      <td>-0.110399</td>\n",
       "      <td>0.173263</td>\n",
       "      <td>0.620774</td>\n",
       "      <td>-0.507764</td>\n",
       "      <td>0.507764</td>\n",
       "      <td>-0.765811</td>\n",
       "      <td>0.765811</td>\n",
       "      <td>-1.137312</td>\n",
       "      <td>2.150969</td>\n",
       "      <td>-0.430573</td>\n",
       "      <td>-0.336833</td>\n",
       "      <td>0.551799</td>\n",
       "      <td>-0.551799</td>\n",
       "      <td>0.391159</td>\n",
       "      <td>-0.391159</td>\n",
       "      <td>1.470051</td>\n",
       "      <td>-0.725411</td>\n",
       "      <td>-0.715922</td>\n",
       "    </tr>\n",
       "    <tr>\n",
       "      <th>2</th>\n",
       "      <td>-0.472504</td>\n",
       "      <td>-1.074635</td>\n",
       "      <td>-1.434560</td>\n",
       "      <td>0.173263</td>\n",
       "      <td>0.620774</td>\n",
       "      <td>-0.507764</td>\n",
       "      <td>0.507764</td>\n",
       "      <td>-0.765811</td>\n",
       "      <td>0.765811</td>\n",
       "      <td>0.879266</td>\n",
       "      <td>-0.464907</td>\n",
       "      <td>-0.430573</td>\n",
       "      <td>-0.336833</td>\n",
       "      <td>0.551799</td>\n",
       "      <td>-0.551799</td>\n",
       "      <td>-2.556504</td>\n",
       "      <td>2.556504</td>\n",
       "      <td>-0.680249</td>\n",
       "      <td>-0.725411</td>\n",
       "      <td>1.396800</td>\n",
       "    </tr>\n",
       "    <tr>\n",
       "      <th>3</th>\n",
       "      <td>-0.687349</td>\n",
       "      <td>0.892772</td>\n",
       "      <td>-0.241003</td>\n",
       "      <td>0.173263</td>\n",
       "      <td>0.620774</td>\n",
       "      <td>-0.507764</td>\n",
       "      <td>0.507764</td>\n",
       "      <td>-0.765811</td>\n",
       "      <td>0.765811</td>\n",
       "      <td>0.879266</td>\n",
       "      <td>-0.464907</td>\n",
       "      <td>-0.430573</td>\n",
       "      <td>-0.336833</td>\n",
       "      <td>-1.812254</td>\n",
       "      <td>1.812254</td>\n",
       "      <td>0.391159</td>\n",
       "      <td>-0.391159</td>\n",
       "      <td>-0.680249</td>\n",
       "      <td>-0.725411</td>\n",
       "      <td>1.396800</td>\n",
       "    </tr>\n",
       "    <tr>\n",
       "      <th>4</th>\n",
       "      <td>0.525740</td>\n",
       "      <td>-1.074635</td>\n",
       "      <td>0.085961</td>\n",
       "      <td>0.173263</td>\n",
       "      <td>0.620774</td>\n",
       "      <td>-0.507764</td>\n",
       "      <td>0.507764</td>\n",
       "      <td>1.305806</td>\n",
       "      <td>-1.305806</td>\n",
       "      <td>0.879266</td>\n",
       "      <td>-0.464907</td>\n",
       "      <td>-0.430573</td>\n",
       "      <td>-0.336833</td>\n",
       "      <td>0.551799</td>\n",
       "      <td>-0.551799</td>\n",
       "      <td>0.391159</td>\n",
       "      <td>-0.391159</td>\n",
       "      <td>-0.680249</td>\n",
       "      <td>-0.725411</td>\n",
       "      <td>1.396800</td>\n",
       "    </tr>\n",
       "  </tbody>\n",
       "</table>\n",
       "</div>"
      ],
      "text/plain": [
       "   ApplicantIncome  CoapplicantIncome  LoanAmount  Loan_Amount_Term  \\\n",
       "0         0.488939          -1.074635    0.162619          0.173263   \n",
       "1         0.137131           0.764374   -0.110399          0.173263   \n",
       "2        -0.472504          -1.074635   -1.434560          0.173263   \n",
       "3        -0.687349           0.892772   -0.241003          0.173263   \n",
       "4         0.525740          -1.074635    0.085961          0.173263   \n",
       "\n",
       "   Credit_History  Gender_Female  Gender_Male  Married_No  Married_Yes  \\\n",
       "0        0.620774      -0.507764     0.507764    1.305806    -1.305806   \n",
       "1        0.620774      -0.507764     0.507764   -0.765811     0.765811   \n",
       "2        0.620774      -0.507764     0.507764   -0.765811     0.765811   \n",
       "3        0.620774      -0.507764     0.507764   -0.765811     0.765811   \n",
       "4        0.620774      -0.507764     0.507764    1.305806    -1.305806   \n",
       "\n",
       "   Dependents_0  Dependents_1  Dependents_2  Dependents_3+  \\\n",
       "0      0.879266     -0.464907     -0.430573      -0.336833   \n",
       "1     -1.137312      2.150969     -0.430573      -0.336833   \n",
       "2      0.879266     -0.464907     -0.430573      -0.336833   \n",
       "3      0.879266     -0.464907     -0.430573      -0.336833   \n",
       "4      0.879266     -0.464907     -0.430573      -0.336833   \n",
       "\n",
       "   Education_Graduate  Education_Not Graduate  Self_Employed_No  \\\n",
       "0            0.551799               -0.551799          0.391159   \n",
       "1            0.551799               -0.551799          0.391159   \n",
       "2            0.551799               -0.551799         -2.556504   \n",
       "3           -1.812254                1.812254          0.391159   \n",
       "4            0.551799               -0.551799          0.391159   \n",
       "\n",
       "   Self_Employed_Yes  Property_Area_Rural  Property_Area_Semiurban  \\\n",
       "0          -0.391159            -0.680249                -0.725411   \n",
       "1          -0.391159             1.470051                -0.725411   \n",
       "2           2.556504            -0.680249                -0.725411   \n",
       "3          -0.391159            -0.680249                -0.725411   \n",
       "4          -0.391159            -0.680249                -0.725411   \n",
       "\n",
       "   Property_Area_Urban  \n",
       "0             1.396800  \n",
       "1            -0.715922  \n",
       "2             1.396800  \n",
       "3             1.396800  \n",
       "4             1.396800  "
      ]
     },
     "execution_count": 80,
     "metadata": {},
     "output_type": "execute_result"
    }
   ],
   "source": [
    "x.head()"
   ]
  },
  {
   "cell_type": "markdown",
   "metadata": {},
   "source": [
    "# Model Building"
   ]
  },
  {
   "cell_type": "code",
   "execution_count": 81,
   "metadata": {},
   "outputs": [],
   "source": [
    "y=y_oversampled\n",
    "x=x"
   ]
  },
  {
   "cell_type": "code",
   "execution_count": 82,
   "metadata": {},
   "outputs": [],
   "source": [
    "from sklearn.model_selection import train_test_split,cross_val_score\n",
    "x_train,x_test,y_train,y_test=train_test_split(x,y,random_state=42,stratify=y)"
   ]
  },
  {
   "cell_type": "code",
   "execution_count": 83,
   "metadata": {},
   "outputs": [],
   "source": [
    "from sklearn.neighbors import KNeighborsClassifier\n",
    "from sklearn.svm import SVC\n",
    "from sklearn.linear_model import LogisticRegression\n",
    "from sklearn.tree import DecisionTreeClassifier\n",
    "from sklearn.naive_bayes import GaussianNB\n",
    "from sklearn.ensemble import RandomForestClassifier\n",
    "from xgboost import XGBClassifier\n",
    "from sklearn.ensemble import GradientBoostingClassifier\n",
    "from sklearn.ensemble import AdaBoostClassifier"
   ]
  },
  {
   "cell_type": "code",
   "execution_count": 84,
   "metadata": {},
   "outputs": [],
   "source": [
    "knn=KNeighborsClassifier()\n",
    "svc=SVC()\n",
    "lr=LogisticRegression()\n",
    "dt=DecisionTreeClassifier()\n",
    "gnb=GaussianNB()\n",
    "rfc=RandomForestClassifier()\n",
    "xgb=XGBClassifier()\n",
    "gbc=GradientBoostingClassifier()\n",
    "ada=AdaBoostClassifier()"
   ]
  },
  {
   "cell_type": "code",
   "execution_count": 85,
   "metadata": {},
   "outputs": [],
   "source": [
    "models=[]\n",
    "models.append(('KNeighborsClassifier',knn))\n",
    "models.append(('SVC',svc))\n",
    "models.append(('LogisticRegression',lr))\n",
    "models.append(('DecisionTreeClassifier',dt))\n",
    "models.append(('GaussianNB',gnb))\n",
    "models.append(('RandomForestClassifier',rfc))\n",
    "models.append(('XGBClassifier',xgb))\n",
    "models.append(('GradientBoostingClassifier',gbc))\n",
    "models.append(('AdaBoostClassifier',ada))"
   ]
  },
  {
   "cell_type": "code",
   "execution_count": 86,
   "metadata": {},
   "outputs": [],
   "source": [
    "from sklearn.metrics import classification_report,confusion_matrix,accuracy_score,roc_curve,auc,recall_score"
   ]
  },
  {
   "cell_type": "code",
   "execution_count": 87,
   "metadata": {},
   "outputs": [
    {
     "name": "stdout",
     "output_type": "stream",
     "text": [
      "***************** KNeighborsClassifier *******************\n",
      "\n",
      "\n",
      "KNeighborsClassifier()\n",
      "\n",
      "\n",
      "Accuracy_score  - 0.7061611374407583\n",
      "\n",
      "\n",
      "cross_val_score  - 0.7133333333333333\n",
      "\n",
      "\n",
      "roc_auc_score  - 0.7066037735849058\n",
      "\n",
      "\n",
      "Recall_score  - 0.8\n",
      "\n",
      "\n",
      "classification report\n",
      "               precision    recall  f1-score   support\n",
      "\n",
      "           0       0.76      0.61      0.68       106\n",
      "           1       0.67      0.80      0.73       105\n",
      "\n",
      "    accuracy                           0.71       211\n",
      "   macro avg       0.71      0.71      0.70       211\n",
      "weighted avg       0.71      0.71      0.70       211\n",
      "\n",
      "\n",
      "\n",
      "[[65 41]\n",
      " [21 84]]\n",
      "\n",
      "\n",
      "AxesSubplot(0.125,0.808774;0.62x0.0712264)\n",
      "\n",
      "\n",
      "\n",
      "***************** SVC *******************\n",
      "\n",
      "\n",
      "SVC()\n",
      "\n",
      "\n",
      "Accuracy_score  - 0.8104265402843602\n",
      "\n",
      "\n",
      "cross_val_score  - 0.7893557422969188\n",
      "\n",
      "\n",
      "roc_auc_score  - 0.8106918238993711\n",
      "\n",
      "\n",
      "Recall_score  - 0.8666666666666667\n",
      "\n",
      "\n",
      "classification report\n",
      "               precision    recall  f1-score   support\n",
      "\n",
      "           0       0.85      0.75      0.80       106\n",
      "           1       0.78      0.87      0.82       105\n",
      "\n",
      "    accuracy                           0.81       211\n",
      "   macro avg       0.81      0.81      0.81       211\n",
      "weighted avg       0.81      0.81      0.81       211\n",
      "\n",
      "\n",
      "\n",
      "[[80 26]\n",
      " [14 91]]\n",
      "\n",
      "\n",
      "AxesSubplot(0.125,0.808774;0.62x0.0712264)\n",
      "\n",
      "\n",
      "\n",
      "***************** LogisticRegression *******************\n",
      "\n",
      "\n",
      "LogisticRegression()\n",
      "\n",
      "\n",
      "Accuracy_score  - 0.7535545023696683\n",
      "\n",
      "\n",
      "cross_val_score  - 0.751218487394958\n",
      "\n",
      "\n",
      "roc_auc_score  - 0.7539982030548069\n",
      "\n",
      "\n",
      "Recall_score  - 0.8476190476190476\n",
      "\n",
      "\n",
      "classification report\n",
      "               precision    recall  f1-score   support\n",
      "\n",
      "           0       0.81      0.66      0.73       106\n",
      "           1       0.71      0.85      0.77       105\n",
      "\n",
      "    accuracy                           0.75       211\n",
      "   macro avg       0.76      0.75      0.75       211\n",
      "weighted avg       0.76      0.75      0.75       211\n",
      "\n",
      "\n",
      "\n",
      "[[70 36]\n",
      " [16 89]]\n",
      "\n",
      "\n",
      "AxesSubplot(0.125,0.808774;0.62x0.0712264)\n",
      "\n",
      "\n",
      "\n",
      "***************** DecisionTreeClassifier *******************\n",
      "\n",
      "\n",
      "DecisionTreeClassifier()\n",
      "\n",
      "\n",
      "Accuracy_score  - 0.8436018957345972\n",
      "\n",
      "\n",
      "cross_val_score  - 0.8603921568627451\n",
      "\n",
      "\n",
      "roc_auc_score  - 0.8432614555256065\n",
      "\n",
      "\n",
      "Recall_score  - 0.7714285714285715\n",
      "\n",
      "\n",
      "classification report\n",
      "               precision    recall  f1-score   support\n",
      "\n",
      "           0       0.80      0.92      0.85       106\n",
      "           1       0.90      0.77      0.83       105\n",
      "\n",
      "    accuracy                           0.84       211\n",
      "   macro avg       0.85      0.84      0.84       211\n",
      "weighted avg       0.85      0.84      0.84       211\n",
      "\n",
      "\n",
      "\n",
      "[[97  9]\n",
      " [24 81]]\n",
      "\n",
      "\n",
      "AxesSubplot(0.125,0.808774;0.62x0.0712264)\n",
      "\n",
      "\n",
      "\n",
      "***************** GaussianNB *******************\n",
      "\n",
      "\n",
      "GaussianNB()\n",
      "\n",
      "\n",
      "Accuracy_score  - 0.6872037914691943\n",
      "\n",
      "\n",
      "cross_val_score  - 0.7120448179271709\n",
      "\n",
      "\n",
      "roc_auc_score  - 0.6876010781671158\n",
      "\n",
      "\n",
      "Recall_score  - 0.7714285714285715\n",
      "\n",
      "\n",
      "classification report\n",
      "               precision    recall  f1-score   support\n",
      "\n",
      "           0       0.73      0.60      0.66       106\n",
      "           1       0.66      0.77      0.71       105\n",
      "\n",
      "    accuracy                           0.69       211\n",
      "   macro avg       0.69      0.69      0.69       211\n",
      "weighted avg       0.69      0.69      0.69       211\n",
      "\n",
      "\n",
      "\n",
      "[[64 42]\n",
      " [24 81]]\n",
      "\n",
      "\n",
      "AxesSubplot(0.125,0.808774;0.62x0.0712264)\n",
      "\n",
      "\n",
      "\n",
      "***************** RandomForestClassifier *******************\n",
      "\n",
      "\n",
      "RandomForestClassifier()\n",
      "\n",
      "\n",
      "Accuracy_score  - 0.919431279620853\n",
      "\n",
      "\n",
      "cross_val_score  - 0.8947478991596638\n",
      "\n",
      "\n",
      "roc_auc_score  - 0.9194519317160826\n",
      "\n",
      "\n",
      "Recall_score  - 0.9238095238095239\n",
      "\n",
      "\n",
      "classification report\n",
      "               precision    recall  f1-score   support\n",
      "\n",
      "           0       0.92      0.92      0.92       106\n",
      "           1       0.92      0.92      0.92       105\n",
      "\n",
      "    accuracy                           0.92       211\n",
      "   macro avg       0.92      0.92      0.92       211\n",
      "weighted avg       0.92      0.92      0.92       211\n",
      "\n",
      "\n",
      "\n",
      "[[97  9]\n",
      " [ 8 97]]\n",
      "\n",
      "\n",
      "AxesSubplot(0.125,0.808774;0.62x0.0712264)\n",
      "\n",
      "\n",
      "\n",
      "***************** XGBClassifier *******************\n",
      "\n",
      "\n",
      "XGBClassifier(base_score=0.5, booster='gbtree', colsample_bylevel=1,\n",
      "              colsample_bynode=1, colsample_bytree=1, gamma=0, gpu_id=-1,\n",
      "              importance_type='gain', interaction_constraints='',\n",
      "              learning_rate=0.300000012, max_delta_step=0, max_depth=6,\n",
      "              min_child_weight=1, missing=nan, monotone_constraints='()',\n",
      "              n_estimators=100, n_jobs=0, num_parallel_tree=1, random_state=0,\n",
      "              reg_alpha=0, reg_lambda=1, scale_pos_weight=1, subsample=1,\n",
      "              tree_method='exact', validate_parameters=1, verbosity=None)\n",
      "\n",
      "\n",
      "Accuracy_score  - 0.909952606635071\n",
      "\n",
      "\n",
      "cross_val_score  - 0.8675630252100841\n",
      "\n",
      "\n",
      "roc_auc_score  - 0.9099281221922731\n",
      "\n",
      "\n",
      "Recall_score  - 0.9047619047619048\n",
      "\n",
      "\n",
      "classification report\n",
      "               precision    recall  f1-score   support\n",
      "\n",
      "           0       0.91      0.92      0.91       106\n",
      "           1       0.91      0.90      0.91       105\n",
      "\n",
      "    accuracy                           0.91       211\n",
      "   macro avg       0.91      0.91      0.91       211\n",
      "weighted avg       0.91      0.91      0.91       211\n",
      "\n",
      "\n",
      "\n",
      "[[97  9]\n",
      " [10 95]]\n",
      "\n",
      "\n",
      "AxesSubplot(0.125,0.808774;0.62x0.0712264)\n",
      "\n",
      "\n",
      "\n",
      "***************** GradientBoostingClassifier *******************\n",
      "\n",
      "\n",
      "GradientBoostingClassifier()\n",
      "\n",
      "\n",
      "Accuracy_score  - 0.8436018957345972\n",
      "\n",
      "\n",
      "cross_val_score  - 0.8023949579831934\n",
      "\n",
      "\n",
      "roc_auc_score  - 0.8437556154537287\n",
      "\n",
      "\n",
      "Recall_score  - 0.8761904761904762\n",
      "\n",
      "\n",
      "classification report\n",
      "               precision    recall  f1-score   support\n",
      "\n",
      "           0       0.87      0.81      0.84       106\n",
      "           1       0.82      0.88      0.85       105\n",
      "\n",
      "    accuracy                           0.84       211\n",
      "   macro avg       0.85      0.84      0.84       211\n",
      "weighted avg       0.85      0.84      0.84       211\n",
      "\n",
      "\n",
      "\n",
      "[[86 20]\n",
      " [13 92]]\n",
      "\n",
      "\n",
      "AxesSubplot(0.125,0.808774;0.62x0.0712264)\n",
      "\n",
      "\n",
      "\n",
      "***************** AdaBoostClassifier *******************\n",
      "\n",
      "\n",
      "AdaBoostClassifier()\n",
      "\n",
      "\n",
      "Accuracy_score  - 0.7725118483412322\n",
      "\n",
      "\n",
      "cross_val_score  - 0.7621008403361345\n",
      "\n",
      "\n",
      "roc_auc_score  - 0.7727762803234502\n",
      "\n",
      "\n",
      "Recall_score  - 0.8285714285714286\n",
      "\n",
      "\n",
      "classification report\n",
      "               precision    recall  f1-score   support\n",
      "\n",
      "           0       0.81      0.72      0.76       106\n",
      "           1       0.74      0.83      0.78       105\n",
      "\n",
      "    accuracy                           0.77       211\n",
      "   macro avg       0.78      0.77      0.77       211\n",
      "weighted avg       0.78      0.77      0.77       211\n",
      "\n",
      "\n",
      "\n",
      "[[76 30]\n",
      " [18 87]]\n",
      "\n",
      "\n",
      "AxesSubplot(0.125,0.808774;0.62x0.0712264)\n",
      "\n",
      "\n",
      "\n"
     ]
    },
    {
     "data": {
      "image/png": "[encoded data removed]",
      "text/plain": [
       "<Figure size 1000x4000 with 3 Axes>"
      ]
     },
     "metadata": {},
     "output_type": "display_data"
    },
    {
     "data": {
      "image/png": "[encoded data removed]",
      "text/plain": [
       "<Figure size 1000x4000 with 3 Axes>"
      ]
     },
     "metadata": {},
     "output_type": "display_data"
    },
    {
     "data": {
      "image/png": "[encoded data removed]",
      "text/plain": [
       "<Figure size 1000x4000 with 3 Axes>"
      ]
     },
     "metadata": {},
     "output_type": "display_data"
    },
    {
     "data": {
      "image/png": "[encoded data removed]",
      "text/plain": [
       "<Figure size 1000x4000 with 3 Axes>"
      ]
     },
     "metadata": {},
     "output_type": "display_data"
    },
    {
     "data": {
      "image/png": "[encoded data removed]",
      "text/plain": [
       "<Figure size 1000x4000 with 3 Axes>"
      ]
     },
     "metadata": {},
     "output_type": "display_data"
    },
    {
     "data": {
      "image/png": "[encoded data removed]",
      "text/plain": [
       "<Figure size 1000x4000 with 3 Axes>"
      ]
     },
     "metadata": {},
     "output_type": "display_data"
    },
    {
     "data": {
      "image/png": "[encoded data removed]",
      "text/plain": [
       "<Figure size 1000x4000 with 3 Axes>"
      ]
     },
     "metadata": {},
     "output_type": "display_data"
    },
    {
     "data": {
      "image/png": "[encoded data removed]",
      "text/plain": [
       "<Figure size 1000x4000 with 3 Axes>"
      ]
     },
     "metadata": {},
     "output_type": "display_data"
    },
    {
     "data": {
      "image/png": "[encoded data removed]",
      "text/plain": [
       "<Figure size 1000x4000 with 3 Axes>"
      ]
     },
     "metadata": {},
     "output_type": "display_data"
    }
   ],
   "source": [
    "Model=[]\n",
    "score=[]\n",
    "cv=[]\n",
    "rocscore=[]\n",
    "recall=[]\n",
    "for name,model in models:\n",
    "    print('*****************',name,'*******************')\n",
    "    print('\\n')\n",
    "    Model.append(name)\n",
    "    model.fit(x_train,y_train)\n",
    "    print(model)\n",
    "    pre=model.predict(x_test)\n",
    "    print('\\n')\n",
    "    AS=accuracy_score(y_test,pre)\n",
    "    print('Accuracy_score  -',AS)\n",
    "    score.append(AS*100)\n",
    "    print('\\n')\n",
    "    sc=cross_val_score(model,x,y,cv=10,scoring='accuracy').mean()\n",
    "    print('cross_val_score  -',sc)\n",
    "    cv.append(sc*100)\n",
    "    print('\\n')\n",
    "    \n",
    "    fpr,tpr,threshold=roc_curve(y_test,pre)\n",
    "    roc_auc=auc(fpr,tpr)\n",
    "    print('roc_auc_score  -',roc_auc)\n",
    "    rocscore.append(roc_auc*100)\n",
    "    print('\\n')\n",
    "    \n",
    "    re=recall_score(y_test,pre)\n",
    "    print('Recall_score  -',re)\n",
    "    recall.append(re*100)\n",
    "    print('\\n')\n",
    "    \n",
    "    print('classification report\\n',classification_report(y_test,pre))\n",
    "    print('\\n')\n",
    "    cm=confusion_matrix(y_test,pre)\n",
    "    print(cm)\n",
    "    print('\\n')\n",
    "    plt.figure(figsize=(10,40))\n",
    "    plt.subplot(911)\n",
    "    plt.title(name)\n",
    "    print(sns.heatmap(cm,annot=True))\n",
    "    plt.subplot(912)\n",
    "    plt.title(name)\n",
    "    plt.plot(fpr,tpr,label='Auc = ' +str(roc_auc))\n",
    "    plt.plot([0,1],[0,1],'r--')\n",
    "    plt.legend(loc='lower right')\n",
    "    plt.ylabel('True Positive Rate')\n",
    "    plt.xlabel('False Positive Rate')\n",
    "    print('\\n\\n')\n",
    "    "
   ]
  },
  {
   "cell_type": "code",
   "execution_count": 88,
   "metadata": {},
   "outputs": [
    {
     "data": {
      "text/html": [
       "<div>\n",
       "<style scoped>\n",
       "    .dataframe tbody tr th:only-of-type {\n",
       "        vertical-align: middle;\n",
       "    }\n",
       "\n",
       "    .dataframe tbody tr th {\n",
       "        vertical-align: top;\n",
       "    }\n",
       "\n",
       "    .dataframe thead th {\n",
       "        text-align: right;\n",
       "    }\n",
       "</style>\n",
       "<table border=\"1\" class=\"dataframe\">\n",
       "  <thead>\n",
       "    <tr style=\"text-align: right;\">\n",
       "      <th></th>\n",
       "      <th>Model</th>\n",
       "      <th>Accuracy_score</th>\n",
       "      <th>Recall_score</th>\n",
       "      <th>Cross_val_score</th>\n",
       "      <th>auc_score</th>\n",
       "    </tr>\n",
       "  </thead>\n",
       "  <tbody>\n",
       "    <tr>\n",
       "      <th>0</th>\n",
       "      <td>KNeighborsClassifier</td>\n",
       "      <td>70.616114</td>\n",
       "      <td>80.000000</td>\n",
       "      <td>71.333333</td>\n",
       "      <td>70.660377</td>\n",
       "    </tr>\n",
       "    <tr>\n",
       "      <th>1</th>\n",
       "      <td>SVC</td>\n",
       "      <td>81.042654</td>\n",
       "      <td>86.666667</td>\n",
       "      <td>78.935574</td>\n",
       "      <td>81.069182</td>\n",
       "    </tr>\n",
       "    <tr>\n",
       "      <th>2</th>\n",
       "      <td>LogisticRegression</td>\n",
       "      <td>75.355450</td>\n",
       "      <td>84.761905</td>\n",
       "      <td>75.121849</td>\n",
       "      <td>75.399820</td>\n",
       "    </tr>\n",
       "    <tr>\n",
       "      <th>3</th>\n",
       "      <td>DecisionTreeClassifier</td>\n",
       "      <td>84.360190</td>\n",
       "      <td>77.142857</td>\n",
       "      <td>86.039216</td>\n",
       "      <td>84.326146</td>\n",
       "    </tr>\n",
       "    <tr>\n",
       "      <th>4</th>\n",
       "      <td>GaussianNB</td>\n",
       "      <td>68.720379</td>\n",
       "      <td>77.142857</td>\n",
       "      <td>71.204482</td>\n",
       "      <td>68.760108</td>\n",
       "    </tr>\n",
       "    <tr>\n",
       "      <th>5</th>\n",
       "      <td>RandomForestClassifier</td>\n",
       "      <td>91.943128</td>\n",
       "      <td>92.380952</td>\n",
       "      <td>89.474790</td>\n",
       "      <td>91.945193</td>\n",
       "    </tr>\n",
       "    <tr>\n",
       "      <th>6</th>\n",
       "      <td>XGBClassifier</td>\n",
       "      <td>90.995261</td>\n",
       "      <td>90.476190</td>\n",
       "      <td>86.756303</td>\n",
       "      <td>90.992812</td>\n",
       "    </tr>\n",
       "    <tr>\n",
       "      <th>7</th>\n",
       "      <td>GradientBoostingClassifier</td>\n",
       "      <td>84.360190</td>\n",
       "      <td>87.619048</td>\n",
       "      <td>80.239496</td>\n",
       "      <td>84.375562</td>\n",
       "    </tr>\n",
       "    <tr>\n",
       "      <th>8</th>\n",
       "      <td>AdaBoostClassifier</td>\n",
       "      <td>77.251185</td>\n",
       "      <td>82.857143</td>\n",
       "      <td>76.210084</td>\n",
       "      <td>77.277628</td>\n",
       "    </tr>\n",
       "  </tbody>\n",
       "</table>\n",
       "</div>"
      ],
      "text/plain": [
       "                        Model  Accuracy_score  Recall_score  Cross_val_score  \\\n",
       "0        KNeighborsClassifier       70.616114     80.000000        71.333333   \n",
       "1                         SVC       81.042654     86.666667        78.935574   \n",
       "2          LogisticRegression       75.355450     84.761905        75.121849   \n",
       "3      DecisionTreeClassifier       84.360190     77.142857        86.039216   \n",
       "4                  GaussianNB       68.720379     77.142857        71.204482   \n",
       "5      RandomForestClassifier       91.943128     92.380952        89.474790   \n",
       "6               XGBClassifier       90.995261     90.476190        86.756303   \n",
       "7  GradientBoostingClassifier       84.360190     87.619048        80.239496   \n",
       "8          AdaBoostClassifier       77.251185     82.857143        76.210084   \n",
       "\n",
       "   auc_score  \n",
       "0  70.660377  \n",
       "1  81.069182  \n",
       "2  75.399820  \n",
       "3  84.326146  \n",
       "4  68.760108  \n",
       "5  91.945193  \n",
       "6  90.992812  \n",
       "7  84.375562  \n",
       "8  77.277628  "
      ]
     },
     "execution_count": 88,
     "metadata": {},
     "output_type": "execute_result"
    }
   ],
   "source": [
    "result=pd.DataFrame({'Model':Model,'Accuracy_score':score,'Recall_score':recall,'Cross_val_score':cv,'auc_score':rocscore})\n",
    "result"
   ]
  },
  {
   "cell_type": "code",
   "execution_count": 40,
   "metadata": {},
   "outputs": [],
   "source": [
    "#We can see from the table RandomForestClassifier is the best performing Algorithms.\n",
    "\n",
    "#to improve the score we will apply gridsearchcv technique to the top the performing models."
   ]
  },
  {
   "cell_type": "code",
   "execution_count": 41,
   "metadata": {},
   "outputs": [],
   "source": [
    "#First lets calculate the random state of the models at which they perform the best.\n",
    "#Then we will select the top3 models and do gridsearchcv on them to attain our target score of 90%."
   ]
  },
  {
   "cell_type": "markdown",
   "metadata": {},
   "source": [
    "# Finding the best random_state "
   ]
  },
  {
   "cell_type": "code",
   "execution_count": 89,
   "metadata": {},
   "outputs": [],
   "source": [
    "from sklearn.model_selection import train_test_split\n",
    "from sklearn.metrics import roc_auc_score,recall_score\n",
    "from sklearn.linear_model import LogisticRegression\n",
    "def maxaccuracy_score(model,x,y):\n",
    "    max_accuracy=0\n",
    "    for r_state in range(42,101):\n",
    "        \n",
    "        x_train,x_test,y_train,y_test=train_test_split(x,y,random_state=r_state,stratify=y)\n",
    "        model.fit(x_train,y_train)\n",
    "        pred=model.predict(x_test)\n",
    "        score=accuracy_score(y_test,pred)\n",
    "        \n",
    "        if score>max_accuracy:\n",
    "            max_accuracy=score\n",
    "            final_r_state=r_state\n",
    "    print('max_accuracy_score is at random_state  ',final_r_state,'  which is  ',max_accuracy)\n",
    "    return final_r_state"
   ]
  },
  {
   "cell_type": "code",
   "execution_count": 90,
   "metadata": {},
   "outputs": [
    {
     "name": "stdout",
     "output_type": "stream",
     "text": [
      "max_accuracy_score is at random_state   77   which is   0.7677725118483413\n",
      "knn 77\n",
      "max_accuracy_score is at random_state   57   which is   0.8293838862559242\n",
      "svc 57\n",
      "max_accuracy_score is at random_state   55   which is   0.7772511848341233\n",
      "lr 55\n",
      "max_accuracy_score is at random_state   46   which is   0.9146919431279621\n",
      "dt 46\n",
      "max_accuracy_score is at random_state   54   which is   0.7725118483412322\n",
      "gnb 54\n",
      "max_accuracy_score is at random_state   42   which is   0.909952606635071\n",
      "rfc 42\n",
      "max_accuracy_score is at random_state   43   which is   0.9241706161137441\n",
      "xgb 43\n",
      "max_accuracy_score is at random_state   76   which is   0.8530805687203792\n",
      "gbc 76\n",
      "max_accuracy_score is at random_state   65   which is   0.8199052132701422\n",
      "ada 65\n"
     ]
    }
   ],
   "source": [
    "print('knn',maxaccuracy_score(knn,x,y))\n",
    "print('svc',maxaccuracy_score(svc,x,y))\n",
    "print('lr',maxaccuracy_score(lr,x,y))\n",
    "print('dt',maxaccuracy_score(dt,x,y))\n",
    "print('gnb',maxaccuracy_score(gnb,x,y))\n",
    "print('rfc',maxaccuracy_score(rfc,x,y))\n",
    "print('xgb',maxaccuracy_score(xgb,x,y))\n",
    "print('gbc',maxaccuracy_score(gbc,x,y))\n",
    "print('ada',maxaccuracy_score(ada,x,y))"
   ]
  },
  {
   "cell_type": "raw",
   "metadata": {},
   "source": [
    "#We can see RandomForestClassifier is performing the best at random_state=42\n",
    " \n",
    "#selecting our top 4 models to be used for gridsearchcv\n",
    "\n",
    "model1->AdaBoostClassifier(random_state=65)81.99% \n",
    "model2->DecesionTreeClassifier(random_state=46)=91.46%\n",
    "model3->RandomForestClassifier(random_state=42)=90.99%\n",
    "\n",
    "model4->XGBClassifier(random_state=43)=92.41% \n"
   ]
  },
  {
   "cell_type": "markdown",
   "metadata": {},
   "source": [
    "# GridSearchCV"
   ]
  },
  {
   "cell_type": "markdown",
   "metadata": {},
   "source": [
    "# model-1-->AdaBoostClassifier(random_state=65)81.99%"
   ]
  },
  {
   "cell_type": "code",
   "execution_count": 91,
   "metadata": {},
   "outputs": [],
   "source": [
    "ada=AdaBoostClassifier()\n",
    "x_train,x_test,y_train,y_test=train_test_split(x,y,random_state=65,stratify=y)"
   ]
  },
  {
   "cell_type": "code",
   "execution_count": 92,
   "metadata": {},
   "outputs": [
    {
     "data": {
      "text/plain": [
       "{'base_estimator': GradientBoostingClassifier(),\n",
       " 'learning_rate': 1,\n",
       " 'n_estimators': 100}"
      ]
     },
     "execution_count": 92,
     "metadata": {},
     "output_type": "execute_result"
    }
   ],
   "source": [
    "parameters=[{'base_estimator':[lr,xgb,gbc],'n_estimators':[100,250,500],'learning_rate':[0.1,0.001,1]}]\n",
    "            \n",
    "grid_search=GridSearchCV(ada,parameters,scoring='accuracy',n_jobs=-1,cv=5)\n",
    "grid_search=grid_search.fit(x_train,y_train)\n",
    "grid_search.best_params_ "
   ]
  },
  {
   "cell_type": "code",
   "execution_count": 96,
   "metadata": {},
   "outputs": [
    {
     "name": "stdout",
     "output_type": "stream",
     "text": [
      "Accuracy=   1.0\n",
      "recall_score=   1.0\n",
      "roc_score= 1.0\n"
     ]
    }
   ],
   "source": [
    "x_train,x_test,y_train,y_test=train_test_split(x,y,random_state=65,stratify=y)\n",
    "ada=AdaBoostClassifier(base_estimator=GradientBoostingClassifier(random_state=76),n_estimators=100,learning_rate=1)\n",
    "ada.fit(x,y)\n",
    "pred_ada=ada.predict(x_test)\n",
    "score=accuracy_score(y_test,pred_ada)\n",
    "print('Accuracy=  ',score)\n",
    "print('recall_score=  ',recall_score(y_test,pred_ada))\n",
    "print('roc_score='     ,roc_auc_score(y_test,pred_ada))"
   ]
  },
  {
   "cell_type": "code",
   "execution_count": 97,
   "metadata": {},
   "outputs": [
    {
     "name": "stdout",
     "output_type": "stream",
     "text": [
      "cross_val_scores=   0.8553781512605042\n"
     ]
    },
    {
     "data": {
      "text/plain": [
       "array([[385,  61],\n",
       "       [ 37, 361]], dtype=int64)"
      ]
     },
     "execution_count": 97,
     "metadata": {},
     "output_type": "execute_result"
    }
   ],
   "source": [
    "#Cross validating the model and checking the cross_val_score,model giving highest score will be choosen as final model.\n",
    "from sklearn.model_selection import cross_val_predict\n",
    "ada=AdaBoostClassifier(base_estimator=GradientBoostingClassifier(random_state=76),n_estimators=100,learning_rate=1)\n",
    "cvs=cross_val_score(ada,x,y,scoring='recall',cv=5)\n",
    "print('cross_val_scores=  ',cvs.mean())\n",
    "y_pred=cross_val_predict(ada,x,y,cv=5)\n",
    "conf_mat=confusion_matrix(y_pred,y)\n",
    "conf_mat"
   ]
  },
  {
   "cell_type": "markdown",
   "metadata": {},
   "source": [
    "# model2->DecesionTreeClassifier(random_state=46)=91.46%"
   ]
  },
  {
   "cell_type": "code",
   "execution_count": 98,
   "metadata": {},
   "outputs": [],
   "source": [
    "dt=DecisionTreeClassifier()\n",
    "x_train,x_test,y_train,y_test=train_test_split(x,y,random_state=46,stratify=y)"
   ]
  },
  {
   "cell_type": "code",
   "execution_count": 99,
   "metadata": {},
   "outputs": [
    {
     "data": {
      "text/plain": [
       "{'criterion': 'entropy', 'max_depth': 7, 'min_samples_leaf': 2}"
      ]
     },
     "execution_count": 99,
     "metadata": {},
     "output_type": "execute_result"
    }
   ],
   "source": [
    "parameters=[{'criterion':['gini','entropy'],'max_depth':[5,7,9,10],'min_samples_leaf':[1,2]}]\n",
    "            \n",
    "grid_search=GridSearchCV(dt,parameters,scoring='recall',n_jobs=-1,cv=5)\n",
    "grid_search=grid_search.fit(x,y)\n",
    "grid_search.best_params_ "
   ]
  },
  {
   "cell_type": "code",
   "execution_count": 100,
   "metadata": {},
   "outputs": [
    {
     "name": "stdout",
     "output_type": "stream",
     "text": [
      "Accuracy_score=   0.7772511848341233\n",
      "recall_score=   0.8018867924528302\n",
      "roc_score= 0.7771338724168912\n"
     ]
    }
   ],
   "source": [
    "x_train,x_test,y_train,y_test=train_test_split(x,y,random_state=46,stratify=y)\n",
    "dt=DecisionTreeClassifier(criterion='entropy',min_samples_leaf=2,max_depth=7)\n",
    "dt.fit(x,y)\n",
    "pred_dt=dt.predict(x_test)\n",
    "score=accuracy_score(y_test,pred_dt)\n",
    "print('Accuracy_score=  ',score)\n",
    "print('recall_score=  ',recall_score(y_test,pred_dt))\n",
    "print('roc_score='     ,roc_auc_score(y_test,pred_dt))"
   ]
  },
  {
   "cell_type": "code",
   "execution_count": 101,
   "metadata": {},
   "outputs": [
    {
     "name": "stdout",
     "output_type": "stream",
     "text": [
      "cross_val_scores=   0.8458823529411765\n"
     ]
    },
    {
     "data": {
      "text/plain": [
       "array([[280,  70],\n",
       "       [142, 352]], dtype=int64)"
      ]
     },
     "execution_count": 101,
     "metadata": {},
     "output_type": "execute_result"
    }
   ],
   "source": [
    "#Cross validating the model and checking the cross_val_score,model giving highest score will be choosen as final model.\n",
    "from sklearn.model_selection import cross_val_predict\n",
    "dt=DecisionTreeClassifier(criterion='entropy',min_samples_leaf=2,max_depth=7)\n",
    "cvs=cross_val_score(dt,x,y,scoring='recall',cv=5)\n",
    "print('cross_val_scores=  ',cvs.mean())\n",
    "y_pred=cross_val_predict(dt,x,y,cv=5)\n",
    "conf_mat=confusion_matrix(y_pred,y)\n",
    "conf_mat"
   ]
  },
  {
   "cell_type": "markdown",
   "metadata": {},
   "source": [
    "# model3->RandomForestClassifier(random_state=42)=90.99%"
   ]
  },
  {
   "cell_type": "code",
   "execution_count": 102,
   "metadata": {},
   "outputs": [],
   "source": [
    "x_train,x_test,y_train,y_test=train_test_split(x,y,random_state=42)\n",
    "rfc=RandomForestClassifier()"
   ]
  },
  {
   "cell_type": "code",
   "execution_count": 103,
   "metadata": {},
   "outputs": [
    {
     "data": {
      "text/plain": [
       "{'criterion': 'entropy',\n",
       " 'max_depth': 5,\n",
       " 'min_samples_leaf': 2,\n",
       " 'n_estimators': 100}"
      ]
     },
     "execution_count": 103,
     "metadata": {},
     "output_type": "execute_result"
    }
   ],
   "source": [
    "parameters=[{'criterion':['gini','entropy'],'max_depth':[5,7,9,10],'min_samples_leaf':[1,2],'n_estimators':[100,250,500]}]\n",
    "            \n",
    "grid_search=GridSearchCV(rfc,parameters,scoring='recall',n_jobs=-1,cv=5)\n",
    "grid_search=grid_search.fit(x,y)\n",
    "grid_search.best_params_ "
   ]
  },
  {
   "cell_type": "code",
   "execution_count": 104,
   "metadata": {},
   "outputs": [
    {
     "name": "stdout",
     "output_type": "stream",
     "text": [
      "Accuracy=   0.8009478672985783\n",
      "recall_score=   0.9801980198019802\n",
      "roc_score= 0.8082808280828082\n"
     ]
    }
   ],
   "source": [
    "x_train,x_test,y_train,y_test=train_test_split(x,y,random_state=84)\n",
    "rfc=RandomForestClassifier(criterion='entropy',min_samples_leaf=2,max_depth=5,n_estimators=100)\n",
    "rfc.fit(x,y)\n",
    "pred=rfc.predict(x_test)\n",
    "print('Accuracy=  ',accuracy_score(y_test,pred))\n",
    "print('recall_score=  ',recall_score(y_test,pred))\n",
    "print('roc_score='     ,roc_auc_score(y_test,pred))"
   ]
  },
  {
   "cell_type": "code",
   "execution_count": 105,
   "metadata": {},
   "outputs": [
    {
     "name": "stdout",
     "output_type": "stream",
     "text": [
      "cross_val_scores=   0.8955182072829132\n"
     ]
    },
    {
     "data": {
      "text/plain": [
       "array([[264,  41],\n",
       "       [158, 381]], dtype=int64)"
      ]
     },
     "execution_count": 105,
     "metadata": {},
     "output_type": "execute_result"
    }
   ],
   "source": [
    "#Cross validating the model and checking the cross_val_score,model giving highest score will be choosen as final model.\n",
    "from sklearn.model_selection import cross_val_predict\n",
    "rfc=RandomForestClassifier(criterion='entropy',min_samples_leaf=2,max_depth=5,n_estimators=100)\n",
    "cvs=cross_val_score(rfc,x,y,scoring='recall',cv=5)\n",
    "print('cross_val_scores=  ',cvs.mean())\n",
    "y_pred=cross_val_predict(rfc,x,y,cv=5)\n",
    "conf_mat=confusion_matrix(y_pred,y)\n",
    "conf_mat"
   ]
  },
  {
   "cell_type": "markdown",
   "metadata": {},
   "source": [
    "# model-4-->XGBoostClassifier(accuracy=84.32%) at random_state=46"
   ]
  },
  {
   "cell_type": "code",
   "execution_count": 106,
   "metadata": {},
   "outputs": [],
   "source": [
    "xgb=XGBClassifier()\n",
    "x_train,x_test,y_train,y_test=train_test_split(x,y,random_state=46,stratify=y)"
   ]
  },
  {
   "cell_type": "code",
   "execution_count": 107,
   "metadata": {},
   "outputs": [
    {
     "data": {
      "text/plain": [
       "{'colsample_bytree': 0.7, 'learning_rate': 0.4, 'max_depth': 6}"
      ]
     },
     "execution_count": 107,
     "metadata": {},
     "output_type": "execute_result"
    }
   ],
   "source": [
    "parameters=[{'learning_rate':[0.1,0.2,0.3,0.4],'max_depth':[3,4,5,6,7,8],'colsample_bytree':[0.5,0.6,0.7,0.8,0.9]}]\n",
    "            \n",
    "grid_search=GridSearchCV(xgb,parameters,scoring='accuracy',n_jobs=-1,cv=5)\n",
    "grid_search=grid_search.fit(x,y)\n",
    "grid_search.best_params_ "
   ]
  },
  {
   "cell_type": "code",
   "execution_count": 109,
   "metadata": {},
   "outputs": [
    {
     "name": "stdout",
     "output_type": "stream",
     "text": [
      "Accuracy_score=   1.0\n",
      "recall_score=   0.6698113207547169\n",
      "roc_score= 0.5110961365678347\n"
     ]
    }
   ],
   "source": [
    "x_train,x_test,y_train,y_test=train_test_split(x,y,random_state=46,stratify=y)\n",
    "xgb=XGBClassifier(learning_rate=0.4,max_depth=6,colsample_bytree=0.7)\n",
    "xgb.fit(x,y)\n",
    "pred_xgb=xgb.predict(x_test)\n",
    "score=accuracy_score(y_test,pred_xgb)\n",
    "print('Accuracy_score=  ',score)\n",
    "print('recall_score=  ',recall_score(y_test,pred))\n",
    "print('roc_score='     ,roc_auc_score(y_test,pred))"
   ]
  },
  {
   "cell_type": "code",
   "execution_count": 110,
   "metadata": {},
   "outputs": [
    {
     "name": "stdout",
     "output_type": "stream",
     "text": [
      "cross_val_scores=   0.8910326852634546\n"
     ]
    },
    {
     "data": {
      "text/plain": [
       "array([[389,  59],\n",
       "       [ 33, 363]], dtype=int64)"
      ]
     },
     "execution_count": 110,
     "metadata": {},
     "output_type": "execute_result"
    }
   ],
   "source": [
    "#Cross validating the model and checking the cross_val_score,model giving highest score will be choosen as final model.\n",
    "from sklearn.model_selection import cross_val_predict\n",
    "xgb=XGBClassifier(learning_rate=0.4,max_depth=6,colsample_bytree=0.7)\n",
    "cvs=cross_val_score(xgb,x,y,scoring='accuracy',cv=5)\n",
    "print('cross_val_scores=  ',cvs.mean())\n",
    "y_pred=cross_val_predict(xgb,x,y,cv=5)\n",
    "conf_mat=confusion_matrix(y_pred,y)\n",
    "conf_mat"
   ]
  },
  {
   "cell_type": "markdown",
   "metadata": {},
   "source": [
    "# Saving the final RandomForestClassifier model"
   ]
  },
  {
   "cell_type": "code",
   "execution_count": 111,
   "metadata": {},
   "outputs": [
    {
     "name": "stdout",
     "output_type": "stream",
     "text": [
      "Accuracy=   0.8009478672985783\n",
      "recall_score=   0.9504950495049505\n",
      "roc_score= 0.807065706570657\n"
     ]
    }
   ],
   "source": [
    "#From all the model tried above RandomForestClassifier model's has best score for both class 1(0.92),0(0.92)\n",
    "#cross_val_score is also high.\n",
    "#hence saving the RandomForestClassifier model.\n",
    "x_train,x_test,y_train,y_test=train_test_split(x,y,random_state=84)\n",
    "rfc=RandomForestClassifier(criterion='entropy',min_samples_leaf=2,max_depth=5,n_estimators=100)\n",
    "rfc.fit(x,y)\n",
    "pred=rfc.predict(x_test)\n",
    "print('Accuracy=  ',accuracy_score(y_test,pred))\n",
    "print('recall_score=  ',recall_score(y_test,pred))\n",
    "print('roc_score='     ,roc_auc_score(y_test,pred))"
   ]
  },
  {
   "cell_type": "code",
   "execution_count": 115,
   "metadata": {},
   "outputs": [
    {
     "name": "stdout",
     "output_type": "stream",
     "text": [
      "cross_val_scores=   0.8907563025210085\n"
     ]
    },
    {
     "data": {
      "text/plain": [
       "array([[268,  43],\n",
       "       [154, 379]], dtype=int64)"
      ]
     },
     "execution_count": 115,
     "metadata": {},
     "output_type": "execute_result"
    }
   ],
   "source": [
    "#Cross validating the model and checking the cross_val_score,model giving highest score will be choosen as final model.\n",
    "from sklearn.model_selection import cross_val_predict\n",
    "rfc=RandomForestClassifier(criterion='entropy',min_samples_leaf=2,max_depth=5,n_estimators=100)\n",
    "rfc.fit(x,y)\n",
    "cvs=cross_val_score(rfc,x,y,scoring='recall',cv=5)\n",
    "print('cross_val_scores=  ',cvs.mean())\n",
    "y_pred=cross_val_predict(rfc,x,y,cv=5)\n",
    "conf_mat=confusion_matrix(y_pred,y)\n",
    "conf_mat"
   ]
  },
  {
   "cell_type": "code",
   "execution_count": 117,
   "metadata": {},
   "outputs": [
    {
     "data": {
      "text/plain": [
       "['project7-fraudloandetectionriv-1.obj']"
      ]
     },
     "execution_count": 117,
     "metadata": {},
     "output_type": "execute_result"
    }
   ],
   "source": [
    "import joblib\n",
    "joblib.dump(rfc,'project7-fraudloandetectionriv-1.obj')"
   ]
  },
  {
   "cell_type": "code",
   "execution_count": 118,
   "metadata": {},
   "outputs": [],
   "source": [
    "model=joblib.load('project7-fraudloandetectionriv-1.obj')"
   ]
  },
  {
   "cell_type": "code",
   "execution_count": 119,
   "metadata": {},
   "outputs": [
    {
     "data": {
      "text/html": [
       "<div>\n",
       "<style scoped>\n",
       "    .dataframe tbody tr th:only-of-type {\n",
       "        vertical-align: middle;\n",
       "    }\n",
       "\n",
       "    .dataframe tbody tr th {\n",
       "        vertical-align: top;\n",
       "    }\n",
       "\n",
       "    .dataframe thead th {\n",
       "        text-align: right;\n",
       "    }\n",
       "</style>\n",
       "<table border=\"1\" class=\"dataframe\">\n",
       "  <thead>\n",
       "    <tr style=\"text-align: right;\">\n",
       "      <th></th>\n",
       "      <th>Fraud yes(1)no(0)</th>\n",
       "    </tr>\n",
       "  </thead>\n",
       "  <tbody>\n",
       "    <tr>\n",
       "      <th>0</th>\n",
       "      <td>1</td>\n",
       "    </tr>\n",
       "    <tr>\n",
       "      <th>1</th>\n",
       "      <td>1</td>\n",
       "    </tr>\n",
       "    <tr>\n",
       "      <th>2</th>\n",
       "      <td>1</td>\n",
       "    </tr>\n",
       "    <tr>\n",
       "      <th>3</th>\n",
       "      <td>0</td>\n",
       "    </tr>\n",
       "    <tr>\n",
       "      <th>4</th>\n",
       "      <td>1</td>\n",
       "    </tr>\n",
       "  </tbody>\n",
       "</table>\n",
       "</div>"
      ],
      "text/plain": [
       "   Fraud yes(1)no(0)\n",
       "0                  1\n",
       "1                  1\n",
       "2                  1\n",
       "3                  0\n",
       "4                  1"
      ]
     },
     "execution_count": 119,
     "metadata": {},
     "output_type": "execute_result"
    }
   ],
   "source": [
    "Final_predictions=model.predict(x_test)\n",
    "Final_predictions=pd.DataFrame(Final_predictions,columns=['Fraud yes(1)no(0)'])\n",
    "Final_predictions[:5]"
   ]
  },
  {
   "cell_type": "markdown",
   "metadata": {},
   "source": [
    "# Saving final predictions in file.csv format"
   ]
  },
  {
   "cell_type": "code",
   "execution_count": 120,
   "metadata": {},
   "outputs": [],
   "source": [
    "Final_predictions.to_csv('E:\\\\final_predictionsfraudriv-1.csv',index=False)"
   ]
  },
  {
   "cell_type": "markdown",
   "metadata": {},
   "source": [
    "# Conclusion:-"
   ]
  },
  {
   "cell_type": "raw",
   "metadata": {},
   "source": [
    "1-Wether the Loan to be given yes(1) or not(0) can be predicted using the model above. \n",
    "2-By using sklearn(SVC)we have build a machine learning model that will predict wether the a loan should be given(1) or not(0).\n"
   ]
  }
 ],
 "metadata": {
  "kernelspec": {
   "display_name": "Python 3",
   "language": "python",
   "name": "python3"
  },
  "language_info": {
   "codemirror_mode": {
    "name": "ipython",
    "version": 3
   },
   "file_extension": ".py",
   "mimetype": "text/x-python",
   "name": "python",
   "nbconvert_exporter": "python",
   "pygments_lexer": "ipython3",
   "version": "3.8.3"
  }
 },
 "nbformat": 4,
 "nbformat_minor": 2
}
